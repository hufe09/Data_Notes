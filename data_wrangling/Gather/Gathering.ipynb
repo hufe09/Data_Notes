{
 "cells": [
  {
   "cell_type": "markdown",
   "metadata": {},
   "source": [
    "# Gathering"
   ]
  },
  {
   "cell_type": "code",
   "execution_count": 1,
   "metadata": {},
   "outputs": [],
   "source": [
    "import pandas as pd"
   ]
  },
  {
   "cell_type": "code",
   "execution_count": 2,
   "metadata": {},
   "outputs": [],
   "source": [
    "df_bestofrt = pd.read_csv('bestofrt.tsv', sep='\\t')"
   ]
  },
  {
   "cell_type": "code",
   "execution_count": 3,
   "metadata": {},
   "outputs": [
    {
     "data": {
      "text/html": [
       "<div>\n",
       "<style scoped>\n",
       "    .dataframe tbody tr th:only-of-type {\n",
       "        vertical-align: middle;\n",
       "    }\n",
       "\n",
       "    .dataframe tbody tr th {\n",
       "        vertical-align: top;\n",
       "    }\n",
       "\n",
       "    .dataframe thead th {\n",
       "        text-align: right;\n",
       "    }\n",
       "</style>\n",
       "<table border=\"1\" class=\"dataframe\">\n",
       "  <thead>\n",
       "    <tr style=\"text-align: right;\">\n",
       "      <th></th>\n",
       "      <th>ranking</th>\n",
       "      <th>critic_score</th>\n",
       "      <th>title</th>\n",
       "      <th>number_of_critic_ratings</th>\n",
       "    </tr>\n",
       "  </thead>\n",
       "  <tbody>\n",
       "    <tr>\n",
       "      <th>0</th>\n",
       "      <td>1</td>\n",
       "      <td>99</td>\n",
       "      <td>The Wizard of Oz (1939)</td>\n",
       "      <td>110</td>\n",
       "    </tr>\n",
       "    <tr>\n",
       "      <th>1</th>\n",
       "      <td>2</td>\n",
       "      <td>100</td>\n",
       "      <td>Citizen Kane (1941)</td>\n",
       "      <td>75</td>\n",
       "    </tr>\n",
       "    <tr>\n",
       "      <th>2</th>\n",
       "      <td>3</td>\n",
       "      <td>100</td>\n",
       "      <td>The Third Man (1949)</td>\n",
       "      <td>77</td>\n",
       "    </tr>\n",
       "    <tr>\n",
       "      <th>3</th>\n",
       "      <td>4</td>\n",
       "      <td>99</td>\n",
       "      <td>Get Out (2017)</td>\n",
       "      <td>282</td>\n",
       "    </tr>\n",
       "    <tr>\n",
       "      <th>4</th>\n",
       "      <td>5</td>\n",
       "      <td>97</td>\n",
       "      <td>Mad Max: Fury Road (2015)</td>\n",
       "      <td>370</td>\n",
       "    </tr>\n",
       "  </tbody>\n",
       "</table>\n",
       "</div>"
      ],
      "text/plain": [
       "   ranking  critic_score                      title  number_of_critic_ratings\n",
       "0        1            99    The Wizard of Oz (1939)                       110\n",
       "1        2           100        Citizen Kane (1941)                        75\n",
       "2        3           100       The Third Man (1949)                        77\n",
       "3        4            99             Get Out (2017)                       282\n",
       "4        5            97  Mad Max: Fury Road (2015)                       370"
      ]
     },
     "execution_count": 3,
     "metadata": {},
     "output_type": "execute_result"
    }
   ],
   "source": [
    "df_bestofrt.head()"
   ]
  },
  {
   "cell_type": "code",
   "execution_count": 4,
   "metadata": {},
   "outputs": [
    {
     "name": "stdout",
     "output_type": "stream",
     "text": [
      "<class 'pandas.core.frame.DataFrame'>\n",
      "RangeIndex: 100 entries, 0 to 99\n",
      "Data columns (total 4 columns):\n",
      "ranking                     100 non-null int64\n",
      "critic_score                100 non-null int64\n",
      "title                       100 non-null object\n",
      "number_of_critic_ratings    100 non-null int64\n",
      "dtypes: int64(3), object(1)\n",
      "memory usage: 3.2+ KB\n"
     ]
    }
   ],
   "source": [
    "df_bestofrt.info()"
   ]
  },
  {
   "cell_type": "code",
   "execution_count": 5,
   "metadata": {},
   "outputs": [
    {
     "data": {
      "text/plain": [
       "<matplotlib.collections.PathCollection at 0x7fc395438a20>"
      ]
     },
     "execution_count": 5,
     "metadata": {},
     "output_type": "execute_result"
    },
    {
     "data": {
      "image/png": "[encoded data removed]",
      "text/plain": [
       "<Figure size 432x288 with 1 Axes>"
      ]
     },
     "metadata": {
      "needs_background": "light"
     },
     "output_type": "display_data"
    }
   ],
   "source": [
    "import matplotlib.pyplot as plt\n",
    "%matplotlib inline\n",
    "plt.scatter(df_bestofrt.number_of_critic_ratings, df_bestofrt.critic_score)"
   ]
  },
  {
   "cell_type": "markdown",
   "metadata": {},
   "source": [
    "## 爬取在线网页数据"
   ]
  },
  {
   "cell_type": "code",
   "execution_count": 6,
   "metadata": {},
   "outputs": [],
   "source": [
    "import requests"
   ]
  },
  {
   "cell_type": "code",
   "execution_count": 7,
   "metadata": {},
   "outputs": [],
   "source": [
    "url = 'https://www.rottentomatoes.com/m/et_the_extraterrestrial'\n",
    "response = requests.get(url)"
   ]
  },
  {
   "cell_type": "code",
   "execution_count": 8,
   "metadata": {},
   "outputs": [],
   "source": [
    "from bs4 import BeautifulSoup\n",
    "soup = BeautifulSoup(response.content, 'lxml')"
   ]
  },
  {
   "cell_type": "code",
   "execution_count": 9,
   "metadata": {},
   "outputs": [],
   "source": [
    "# soup"
   ]
  },
  {
   "cell_type": "code",
   "execution_count": 10,
   "metadata": {},
   "outputs": [
    {
     "data": {
      "text/plain": [
       "['E.T. The Extra-Terrestrial (1982) - Rotten Tomatoes']"
      ]
     },
     "execution_count": 10,
     "metadata": {},
     "output_type": "execute_result"
    }
   ],
   "source": [
    "soup.find('title').contents"
   ]
  },
  {
   "cell_type": "code",
   "execution_count": 11,
   "metadata": {},
   "outputs": [
    {
     "data": {
      "text/plain": [
       "'E.T. The Extra-Terrestrial (1982)'"
      ]
     },
     "execution_count": 11,
     "metadata": {},
     "output_type": "execute_result"
    }
   ],
   "source": [
    "soup.find('title').contents[0][:-len(' - Rotten Tomatoes')]"
   ]
  },
  {
   "cell_type": "code",
   "execution_count": 12,
   "metadata": {},
   "outputs": [
    {
     "data": {
      "text/plain": [
       "18"
      ]
     },
     "execution_count": 12,
     "metadata": {},
     "output_type": "execute_result"
    }
   ],
   "source": [
    "len(' - Rotten Tomatoes')"
   ]
  },
  {
   "cell_type": "code",
   "execution_count": 13,
   "metadata": {
    "scrolled": true
   },
   "outputs": [
    {
     "data": {
      "text/plain": [
       "<title>E.T. The Extra-Terrestrial (1982) - Rotten Tomatoes</title>"
      ]
     },
     "execution_count": 13,
     "metadata": {},
     "output_type": "execute_result"
    }
   ],
   "source": [
    "soup.find('title')"
   ]
  },
  {
   "cell_type": "code",
   "execution_count": 14,
   "metadata": {},
   "outputs": [
    {
     "data": {
      "text/plain": [
       "[<h2 class=\"mop-ratings-wrap__score\">\n",
       " <a class=\"unstyled articleLink mop-ratings-wrap__icon-link\" href=\"#contentReviews\" id=\"tomato_meter_link\">\n",
       " <span class=\"mop-ratings-wrap__icon meter-tomato icon big medium-xs certified_fresh\"></span>\n",
       " <span class=\"mop-ratings-wrap__percentage\">\n",
       "                     98%\n",
       "                 </span>\n",
       " </a>\n",
       " </h2>, <h2 class=\"mop-ratings-wrap__score\">\n",
       " <a class=\"unstyled articleLink mop-ratings-wrap__icon-link\" href=\"#audience_reviews\">\n",
       " <span class=\"mop-ratings-wrap__icon meter-tomato icon big medium-xs upright\"></span>\n",
       " <span class=\"mop-ratings-wrap__percentage\">\n",
       "                     72%\n",
       "                 </span>\n",
       " </a>\n",
       " </h2>]"
      ]
     },
     "execution_count": 14,
     "metadata": {},
     "output_type": "execute_result"
    }
   ],
   "source": [
    "soup.findAll('h2', class_= 'mop-ratings-wrap__score')"
   ]
  },
  {
   "cell_type": "code",
   "execution_count": 15,
   "metadata": {},
   "outputs": [
    {
     "data": {
      "text/plain": [
       "['\\n                    98%\\n                ']"
      ]
     },
     "execution_count": 15,
     "metadata": {},
     "output_type": "execute_result"
    }
   ],
   "source": [
    "soup.find('span', class_= 'mop-ratings-wrap__percentage').contents"
   ]
  },
  {
   "cell_type": "code",
   "execution_count": 16,
   "metadata": {},
   "outputs": [
    {
     "data": {
      "text/plain": [
       "'98'"
      ]
     },
     "execution_count": 16,
     "metadata": {},
     "output_type": "execute_result"
    }
   ],
   "source": [
    "soup.find('span', class_= 'mop-ratings-wrap__percentage').contents[0].strip()[:-1]"
   ]
  },
  {
   "cell_type": "code",
   "execution_count": 17,
   "metadata": {},
   "outputs": [
    {
     "data": {
      "text/plain": [
       "['\\n                    72%\\n                ']"
      ]
     },
     "execution_count": 17,
     "metadata": {},
     "output_type": "execute_result"
    }
   ],
   "source": [
    "soup.findAll('span', class_= 'mop-ratings-wrap__percentage')[1].contents"
   ]
  },
  {
   "cell_type": "code",
   "execution_count": 18,
   "metadata": {
    "scrolled": true
   },
   "outputs": [
    {
     "data": {
      "text/plain": [
       "'72'"
      ]
     },
     "execution_count": 18,
     "metadata": {},
     "output_type": "execute_result"
    }
   ],
   "source": [
    "soup.findAll('span', class_= 'mop-ratings-wrap__percentage')[1].contents[0].strip()[:-1]"
   ]
  },
  {
   "cell_type": "code",
   "execution_count": 19,
   "metadata": {},
   "outputs": [
    {
     "data": {
      "text/plain": [
       "32314349"
      ]
     },
     "execution_count": 19,
     "metadata": {},
     "output_type": "execute_result"
    }
   ],
   "source": [
    "num_audience_ratings = soup.findAll(\"strong\", class_= 'mop-ratings-wrap__text--small')[1].contents[0].strip()\n",
    "num_audience_ratings = num_audience_ratings.split(\":\")\n",
    "num_audience_ratings = int(num_audience_ratings[1].replace(',', ''))\n",
    "num_audience_ratings"
   ]
  },
  {
   "cell_type": "markdown",
   "metadata": {},
   "source": [
    "## 爬取本地网页数据"
   ]
  },
  {
   "cell_type": "code",
   "execution_count": 20,
   "metadata": {},
   "outputs": [],
   "source": [
    "import zipfile\n",
    "with zipfile.ZipFile('rt-html.zip', 'r') as myzip:\n",
    "    myzip.extractall()"
   ]
  },
  {
   "cell_type": "code",
   "execution_count": 21,
   "metadata": {},
   "outputs": [
    {
     "data": {
      "text/html": [
       "<div>\n",
       "<style scoped>\n",
       "    .dataframe tbody tr th:only-of-type {\n",
       "        vertical-align: middle;\n",
       "    }\n",
       "\n",
       "    .dataframe tbody tr th {\n",
       "        vertical-align: top;\n",
       "    }\n",
       "\n",
       "    .dataframe thead th {\n",
       "        text-align: right;\n",
       "    }\n",
       "</style>\n",
       "<table border=\"1\" class=\"dataframe\">\n",
       "  <thead>\n",
       "    <tr style=\"text-align: right;\">\n",
       "      <th></th>\n",
       "      <th>title</th>\n",
       "      <th>audience_score</th>\n",
       "      <th>number_of_audience_ratings</th>\n",
       "    </tr>\n",
       "  </thead>\n",
       "  <tbody>\n",
       "    <tr>\n",
       "      <th>0</th>\n",
       "      <td>The Grapes of Wrath (1940)</td>\n",
       "      <td>88</td>\n",
       "      <td>23954</td>\n",
       "    </tr>\n",
       "    <tr>\n",
       "      <th>1</th>\n",
       "      <td>Gravity (2013)</td>\n",
       "      <td>80</td>\n",
       "      <td>301261</td>\n",
       "    </tr>\n",
       "    <tr>\n",
       "      <th>2</th>\n",
       "      <td>Rear Window (1954)</td>\n",
       "      <td>95</td>\n",
       "      <td>149458</td>\n",
       "    </tr>\n",
       "    <tr>\n",
       "      <th>3</th>\n",
       "      <td>It Happened One Night (1934)</td>\n",
       "      <td>93</td>\n",
       "      <td>33106</td>\n",
       "    </tr>\n",
       "    <tr>\n",
       "      <th>4</th>\n",
       "      <td>Finding Nemo (2003)</td>\n",
       "      <td>86</td>\n",
       "      <td>33355673</td>\n",
       "    </tr>\n",
       "    <tr>\n",
       "      <th>5</th>\n",
       "      <td>Selma (2015)</td>\n",
       "      <td>86</td>\n",
       "      <td>60533</td>\n",
       "    </tr>\n",
       "    <tr>\n",
       "      <th>6</th>\n",
       "      <td>Up (2009)</td>\n",
       "      <td>90</td>\n",
       "      <td>1201878</td>\n",
       "    </tr>\n",
       "    <tr>\n",
       "      <th>7</th>\n",
       "      <td>Nosferatu, a Symphony of Horror (Nosferatu, ei...</td>\n",
       "      <td>87</td>\n",
       "      <td>47463</td>\n",
       "    </tr>\n",
       "    <tr>\n",
       "      <th>8</th>\n",
       "      <td>Metropolis (1927)</td>\n",
       "      <td>92</td>\n",
       "      <td>62018</td>\n",
       "    </tr>\n",
       "    <tr>\n",
       "      <th>9</th>\n",
       "      <td>The 400 Blows (Les Quatre cents coups) (1959)</td>\n",
       "      <td>94</td>\n",
       "      <td>38368</td>\n",
       "    </tr>\n",
       "    <tr>\n",
       "      <th>10</th>\n",
       "      <td>Vertigo (1958)</td>\n",
       "      <td>93</td>\n",
       "      <td>101454</td>\n",
       "    </tr>\n",
       "    <tr>\n",
       "      <th>11</th>\n",
       "      <td>Jaws (1975)</td>\n",
       "      <td>90</td>\n",
       "      <td>942217</td>\n",
       "    </tr>\n",
       "    <tr>\n",
       "      <th>12</th>\n",
       "      <td>The Wrestler (2008)</td>\n",
       "      <td>88</td>\n",
       "      <td>139795</td>\n",
       "    </tr>\n",
       "    <tr>\n",
       "      <th>13</th>\n",
       "      <td>M (1931)</td>\n",
       "      <td>95</td>\n",
       "      <td>35778</td>\n",
       "    </tr>\n",
       "    <tr>\n",
       "      <th>14</th>\n",
       "      <td>The 39 Steps (1935)</td>\n",
       "      <td>86</td>\n",
       "      <td>23647</td>\n",
       "    </tr>\n",
       "    <tr>\n",
       "      <th>15</th>\n",
       "      <td>Get Out (2017)</td>\n",
       "      <td>87</td>\n",
       "      <td>63837</td>\n",
       "    </tr>\n",
       "    <tr>\n",
       "      <th>16</th>\n",
       "      <td>King Kong (1933)</td>\n",
       "      <td>86</td>\n",
       "      <td>89669</td>\n",
       "    </tr>\n",
       "    <tr>\n",
       "      <th>17</th>\n",
       "      <td>The Battle of Algiers (La Battaglia di Algeri)...</td>\n",
       "      <td>95</td>\n",
       "      <td>14267</td>\n",
       "    </tr>\n",
       "    <tr>\n",
       "      <th>18</th>\n",
       "      <td>Casablanca (1942)</td>\n",
       "      <td>95</td>\n",
       "      <td>355952</td>\n",
       "    </tr>\n",
       "    <tr>\n",
       "      <th>19</th>\n",
       "      <td>Spotlight (2015)</td>\n",
       "      <td>93</td>\n",
       "      <td>68142</td>\n",
       "    </tr>\n",
       "    <tr>\n",
       "      <th>20</th>\n",
       "      <td>The Adventures of Robin Hood (1938)</td>\n",
       "      <td>89</td>\n",
       "      <td>33584</td>\n",
       "    </tr>\n",
       "    <tr>\n",
       "      <th>21</th>\n",
       "      <td>Brooklyn (2015)</td>\n",
       "      <td>87</td>\n",
       "      <td>45763</td>\n",
       "    </tr>\n",
       "    <tr>\n",
       "      <th>22</th>\n",
       "      <td>12 Angry Men (Twelve Angry Men) (1957)</td>\n",
       "      <td>97</td>\n",
       "      <td>103672</td>\n",
       "    </tr>\n",
       "    <tr>\n",
       "      <th>23</th>\n",
       "      <td>Man on Wire (2008)</td>\n",
       "      <td>87</td>\n",
       "      <td>29827</td>\n",
       "    </tr>\n",
       "    <tr>\n",
       "      <th>24</th>\n",
       "      <td>Dunkirk (2017)</td>\n",
       "      <td>82</td>\n",
       "      <td>53555</td>\n",
       "    </tr>\n",
       "    <tr>\n",
       "      <th>25</th>\n",
       "      <td>Pinocchio (1940)</td>\n",
       "      <td>72</td>\n",
       "      <td>278682</td>\n",
       "    </tr>\n",
       "    <tr>\n",
       "      <th>26</th>\n",
       "      <td>On the Waterfront (1954)</td>\n",
       "      <td>95</td>\n",
       "      <td>51664</td>\n",
       "    </tr>\n",
       "    <tr>\n",
       "      <th>27</th>\n",
       "      <td>Toy Story (1995)</td>\n",
       "      <td>92</td>\n",
       "      <td>1107731</td>\n",
       "    </tr>\n",
       "    <tr>\n",
       "      <th>28</th>\n",
       "      <td>Repulsion (1965)</td>\n",
       "      <td>87</td>\n",
       "      <td>18655</td>\n",
       "    </tr>\n",
       "    <tr>\n",
       "      <th>29</th>\n",
       "      <td>Open City (1946)</td>\n",
       "      <td>92</td>\n",
       "      <td>6128</td>\n",
       "    </tr>\n",
       "    <tr>\n",
       "      <th>...</th>\n",
       "      <td>...</td>\n",
       "      <td>...</td>\n",
       "      <td>...</td>\n",
       "    </tr>\n",
       "    <tr>\n",
       "      <th>70</th>\n",
       "      <td>A Streetcar Named Desire (1951)</td>\n",
       "      <td>90</td>\n",
       "      <td>54761</td>\n",
       "    </tr>\n",
       "    <tr>\n",
       "      <th>71</th>\n",
       "      <td>Citizen Kane (1941)</td>\n",
       "      <td>90</td>\n",
       "      <td>157274</td>\n",
       "    </tr>\n",
       "    <tr>\n",
       "      <th>72</th>\n",
       "      <td>Baby Driver (2017)</td>\n",
       "      <td>89</td>\n",
       "      <td>48114</td>\n",
       "    </tr>\n",
       "    <tr>\n",
       "      <th>73</th>\n",
       "      <td>Arrival (2016)</td>\n",
       "      <td>82</td>\n",
       "      <td>78740</td>\n",
       "    </tr>\n",
       "    <tr>\n",
       "      <th>74</th>\n",
       "      <td>Dr. Strangelove Or How I Learned to Stop Worry...</td>\n",
       "      <td>94</td>\n",
       "      <td>208215</td>\n",
       "    </tr>\n",
       "    <tr>\n",
       "      <th>75</th>\n",
       "      <td>Logan (2017)</td>\n",
       "      <td>91</td>\n",
       "      <td>86540</td>\n",
       "    </tr>\n",
       "    <tr>\n",
       "      <th>76</th>\n",
       "      <td>Inside Out (2015)</td>\n",
       "      <td>89</td>\n",
       "      <td>133558</td>\n",
       "    </tr>\n",
       "    <tr>\n",
       "      <th>77</th>\n",
       "      <td>Seven Samurai (Shichinin no Samurai) (1956)</td>\n",
       "      <td>97</td>\n",
       "      <td>90049</td>\n",
       "    </tr>\n",
       "    <tr>\n",
       "      <th>78</th>\n",
       "      <td>Mad Max: Fury Road (2015)</td>\n",
       "      <td>86</td>\n",
       "      <td>123937</td>\n",
       "    </tr>\n",
       "    <tr>\n",
       "      <th>79</th>\n",
       "      <td>Apocalypse Now (1979)</td>\n",
       "      <td>94</td>\n",
       "      <td>284606</td>\n",
       "    </tr>\n",
       "    <tr>\n",
       "      <th>80</th>\n",
       "      <td>Rashômon (1951)</td>\n",
       "      <td>93</td>\n",
       "      <td>47657</td>\n",
       "    </tr>\n",
       "    <tr>\n",
       "      <th>81</th>\n",
       "      <td>Modern Times (1936)</td>\n",
       "      <td>95</td>\n",
       "      <td>39736</td>\n",
       "    </tr>\n",
       "    <tr>\n",
       "      <th>82</th>\n",
       "      <td>The Treasure of the Sierra Madre (1948)</td>\n",
       "      <td>93</td>\n",
       "      <td>25627</td>\n",
       "    </tr>\n",
       "    <tr>\n",
       "      <th>83</th>\n",
       "      <td>The Babadook (2014)</td>\n",
       "      <td>72</td>\n",
       "      <td>37024</td>\n",
       "    </tr>\n",
       "    <tr>\n",
       "      <th>84</th>\n",
       "      <td>The Godfather, Part II (1974)</td>\n",
       "      <td>97</td>\n",
       "      <td>409574</td>\n",
       "    </tr>\n",
       "    <tr>\n",
       "      <th>85</th>\n",
       "      <td>Snow White and the Seven Dwarfs (1937)</td>\n",
       "      <td>78</td>\n",
       "      <td>469510</td>\n",
       "    </tr>\n",
       "    <tr>\n",
       "      <th>86</th>\n",
       "      <td>The Third Man (1949)</td>\n",
       "      <td>93</td>\n",
       "      <td>53081</td>\n",
       "    </tr>\n",
       "    <tr>\n",
       "      <th>87</th>\n",
       "      <td>Alien (1979)</td>\n",
       "      <td>94</td>\n",
       "      <td>457186</td>\n",
       "    </tr>\n",
       "    <tr>\n",
       "      <th>88</th>\n",
       "      <td>North by Northwest (1959)</td>\n",
       "      <td>94</td>\n",
       "      <td>78793</td>\n",
       "    </tr>\n",
       "    <tr>\n",
       "      <th>89</th>\n",
       "      <td>Zootopia (2016)</td>\n",
       "      <td>92</td>\n",
       "      <td>98633</td>\n",
       "    </tr>\n",
       "    <tr>\n",
       "      <th>90</th>\n",
       "      <td>The Cabinet of Dr. Caligari (Das Cabinet des D...</td>\n",
       "      <td>89</td>\n",
       "      <td>27163</td>\n",
       "    </tr>\n",
       "    <tr>\n",
       "      <th>91</th>\n",
       "      <td>A Hard Day's Night (1964)</td>\n",
       "      <td>89</td>\n",
       "      <td>50067</td>\n",
       "    </tr>\n",
       "    <tr>\n",
       "      <th>92</th>\n",
       "      <td>Star Trek (2009)</td>\n",
       "      <td>91</td>\n",
       "      <td>746458</td>\n",
       "    </tr>\n",
       "    <tr>\n",
       "      <th>93</th>\n",
       "      <td>Touch of Evil (1958)</td>\n",
       "      <td>92</td>\n",
       "      <td>30867</td>\n",
       "    </tr>\n",
       "    <tr>\n",
       "      <th>94</th>\n",
       "      <td>Wonder Woman (2017)</td>\n",
       "      <td>90</td>\n",
       "      <td>112955</td>\n",
       "    </tr>\n",
       "    <tr>\n",
       "      <th>95</th>\n",
       "      <td>The Conformist (1970)</td>\n",
       "      <td>91</td>\n",
       "      <td>8529</td>\n",
       "    </tr>\n",
       "    <tr>\n",
       "      <th>96</th>\n",
       "      <td>Army of Shadows (L'Armée des ombres) (1969)</td>\n",
       "      <td>94</td>\n",
       "      <td>7011</td>\n",
       "    </tr>\n",
       "    <tr>\n",
       "      <th>97</th>\n",
       "      <td>Rosemary's Baby (1968)</td>\n",
       "      <td>87</td>\n",
       "      <td>72669</td>\n",
       "    </tr>\n",
       "    <tr>\n",
       "      <th>98</th>\n",
       "      <td>E.T. The Extra-Terrestrial (1982)</td>\n",
       "      <td>72</td>\n",
       "      <td>32313030</td>\n",
       "    </tr>\n",
       "    <tr>\n",
       "      <th>99</th>\n",
       "      <td>L.A. Confidential (1997)</td>\n",
       "      <td>94</td>\n",
       "      <td>149772</td>\n",
       "    </tr>\n",
       "  </tbody>\n",
       "</table>\n",
       "<p>100 rows × 3 columns</p>\n",
       "</div>"
      ],
      "text/plain": [
       "                                                title  audience_score  \\\n",
       "0                          The Grapes of Wrath (1940)              88   \n",
       "1                                      Gravity (2013)              80   \n",
       "2                                  Rear Window (1954)              95   \n",
       "3                        It Happened One Night (1934)              93   \n",
       "4                                 Finding Nemo (2003)              86   \n",
       "5                                        Selma (2015)              86   \n",
       "6                                           Up (2009)              90   \n",
       "7   Nosferatu, a Symphony of Horror (Nosferatu, ei...              87   \n",
       "8                                   Metropolis (1927)              92   \n",
       "9       The 400 Blows (Les Quatre cents coups) (1959)              94   \n",
       "10                                     Vertigo (1958)              93   \n",
       "11                                        Jaws (1975)              90   \n",
       "12                                The Wrestler (2008)              88   \n",
       "13                                           M (1931)              95   \n",
       "14                                The 39 Steps (1935)              86   \n",
       "15                                     Get Out (2017)              87   \n",
       "16                                   King Kong (1933)              86   \n",
       "17  The Battle of Algiers (La Battaglia di Algeri)...              95   \n",
       "18                                  Casablanca (1942)              95   \n",
       "19                                   Spotlight (2015)              93   \n",
       "20                The Adventures of Robin Hood (1938)              89   \n",
       "21                                    Brooklyn (2015)              87   \n",
       "22             12 Angry Men (Twelve Angry Men) (1957)              97   \n",
       "23                                 Man on Wire (2008)              87   \n",
       "24                                     Dunkirk (2017)              82   \n",
       "25                                   Pinocchio (1940)              72   \n",
       "26                           On the Waterfront (1954)              95   \n",
       "27                                   Toy Story (1995)              92   \n",
       "28                                   Repulsion (1965)              87   \n",
       "29                                   Open City (1946)              92   \n",
       "..                                                ...             ...   \n",
       "70                    A Streetcar Named Desire (1951)              90   \n",
       "71                                Citizen Kane (1941)              90   \n",
       "72                                 Baby Driver (2017)              89   \n",
       "73                                     Arrival (2016)              82   \n",
       "74  Dr. Strangelove Or How I Learned to Stop Worry...              94   \n",
       "75                                       Logan (2017)              91   \n",
       "76                                  Inside Out (2015)              89   \n",
       "77        Seven Samurai (Shichinin no Samurai) (1956)              97   \n",
       "78                          Mad Max: Fury Road (2015)              86   \n",
       "79                              Apocalypse Now (1979)              94   \n",
       "80                                    Rashômon (1951)              93   \n",
       "81                                Modern Times (1936)              95   \n",
       "82            The Treasure of the Sierra Madre (1948)              93   \n",
       "83                                The Babadook (2014)              72   \n",
       "84                      The Godfather, Part II (1974)              97   \n",
       "85             Snow White and the Seven Dwarfs (1937)              78   \n",
       "86                               The Third Man (1949)              93   \n",
       "87                                       Alien (1979)              94   \n",
       "88                          North by Northwest (1959)              94   \n",
       "89                                    Zootopia (2016)              92   \n",
       "90  The Cabinet of Dr. Caligari (Das Cabinet des D...              89   \n",
       "91                          A Hard Day's Night (1964)              89   \n",
       "92                                   Star Trek (2009)              91   \n",
       "93                               Touch of Evil (1958)              92   \n",
       "94                                Wonder Woman (2017)              90   \n",
       "95                              The Conformist (1970)              91   \n",
       "96        Army of Shadows (L'Armée des ombres) (1969)              94   \n",
       "97                             Rosemary's Baby (1968)              87   \n",
       "98                  E.T. The Extra-Terrestrial (1982)              72   \n",
       "99                           L.A. Confidential (1997)              94   \n",
       "\n",
       "    number_of_audience_ratings  \n",
       "0                        23954  \n",
       "1                       301261  \n",
       "2                       149458  \n",
       "3                        33106  \n",
       "4                     33355673  \n",
       "5                        60533  \n",
       "6                      1201878  \n",
       "7                        47463  \n",
       "8                        62018  \n",
       "9                        38368  \n",
       "10                      101454  \n",
       "11                      942217  \n",
       "12                      139795  \n",
       "13                       35778  \n",
       "14                       23647  \n",
       "15                       63837  \n",
       "16                       89669  \n",
       "17                       14267  \n",
       "18                      355952  \n",
       "19                       68142  \n",
       "20                       33584  \n",
       "21                       45763  \n",
       "22                      103672  \n",
       "23                       29827  \n",
       "24                       53555  \n",
       "25                      278682  \n",
       "26                       51664  \n",
       "27                     1107731  \n",
       "28                       18655  \n",
       "29                        6128  \n",
       "..                         ...  \n",
       "70                       54761  \n",
       "71                      157274  \n",
       "72                       48114  \n",
       "73                       78740  \n",
       "74                      208215  \n",
       "75                       86540  \n",
       "76                      133558  \n",
       "77                       90049  \n",
       "78                      123937  \n",
       "79                      284606  \n",
       "80                       47657  \n",
       "81                       39736  \n",
       "82                       25627  \n",
       "83                       37024  \n",
       "84                      409574  \n",
       "85                      469510  \n",
       "86                       53081  \n",
       "87                      457186  \n",
       "88                       78793  \n",
       "89                       98633  \n",
       "90                       27163  \n",
       "91                       50067  \n",
       "92                      746458  \n",
       "93                       30867  \n",
       "94                      112955  \n",
       "95                        8529  \n",
       "96                        7011  \n",
       "97                       72669  \n",
       "98                    32313030  \n",
       "99                      149772  \n",
       "\n",
       "[100 rows x 3 columns]"
      ]
     },
     "execution_count": 21,
     "metadata": {},
     "output_type": "execute_result"
    }
   ],
   "source": [
    "import os\n",
    "from bs4 import BeautifulSoup\n",
    "df_list = []\n",
    "folder = 'rt_html'\n",
    "for movie_html in os.listdir(folder):\n",
    "    with open(os.path.join(folder, movie_html) ,encoding='utf-8') as file:\n",
    "        soup = BeautifulSoup(file, 'lxml')\n",
    "        title = soup.find('title').contents[0][:-len(' - Rotten Tomatoes')]\n",
    "        audience_score = soup.find('div', class_='audience-score meter').find('span').contents[0][:-1]\n",
    "        num_audience_ratings = soup.find('div', class_='audience-info hidden-xs superPageFontColor')\n",
    "        num_audience_ratings = num_audience_ratings.find_all('div')[1].contents[2].strip().replace(',','')\n",
    "        df_list.append({'title': title,\n",
    "                       'audience_score': int(audience_score),\n",
    "                       'number_of_audience_ratings': int(num_audience_ratings)})\n",
    "df_html = pd.DataFrame(df_list, columns=['title', 'audience_score', 'number_of_audience_ratings'])\n",
    "df_html"
   ]
  },
  {
   "cell_type": "code",
   "execution_count": 22,
   "metadata": {
    "scrolled": true
   },
   "outputs": [
    {
     "data": {
      "text/plain": [
       "<matplotlib.collections.PathCollection at 0x7fc390c14240>"
      ]
     },
     "execution_count": 22,
     "metadata": {},
     "output_type": "execute_result"
    },
    {
     "data": {
      "image/png": "[encoded data removed]",
      "text/plain": [
       "<Figure size 432x288 with 1 Axes>"
      ]
     },
     "metadata": {
      "needs_background": "light"
     },
     "output_type": "display_data"
    }
   ],
   "source": [
    "import matplotlib.pyplot as plt\n",
    "%matplotlib inline\n",
    "plt.scatter(df_html.audience_score, df_bestofrt.critic_score)"
   ]
  },
  {
   "cell_type": "code",
   "execution_count": 23,
   "metadata": {},
   "outputs": [],
   "source": [
    "with open('rt_html/et_the_extraterrestrial.html') as file:\n",
    "    soup = BeautifulSoup(file, 'lxml')"
   ]
  },
  {
   "cell_type": "code",
   "execution_count": 24,
   "metadata": {},
   "outputs": [
    {
     "data": {
      "text/plain": [
       "<title>E.T. The Extra-Terrestrial (1982) - Rotten Tomatoes</title>"
      ]
     },
     "execution_count": 24,
     "metadata": {},
     "output_type": "execute_result"
    }
   ],
   "source": [
    "soup.find('title')"
   ]
  },
  {
   "cell_type": "code",
   "execution_count": 25,
   "metadata": {},
   "outputs": [
    {
     "data": {
      "text/plain": [
       "'E.T. The Extra-Terrestrial\\xa0(1982) - Rotten Tomatoes'"
      ]
     },
     "execution_count": 25,
     "metadata": {},
     "output_type": "execute_result"
    }
   ],
   "source": [
    "soup.find('title').contents[0]"
   ]
  },
  {
   "cell_type": "code",
   "execution_count": 26,
   "metadata": {},
   "outputs": [
    {
     "data": {
      "text/plain": [
       "'E.T. The Extra-Terrestrial\\xa0(1982)'"
      ]
     },
     "execution_count": 26,
     "metadata": {},
     "output_type": "execute_result"
    }
   ],
   "source": [
    "soup.find('title').contents[0][:-len(' - Rotten Tomatoes')]"
   ]
  },
  {
   "cell_type": "code",
   "execution_count": 27,
   "metadata": {},
   "outputs": [
    {
     "data": {
      "text/plain": [
       "'E.T. The Extra-Terrestrial\\xa0(1982)'"
      ]
     },
     "execution_count": 27,
     "metadata": {},
     "output_type": "execute_result"
    }
   ],
   "source": [
    "soup.find('title').contents[0][:-18]"
   ]
  },
  {
   "cell_type": "code",
   "execution_count": 28,
   "metadata": {
    "scrolled": false
   },
   "outputs": [
    {
     "data": {
      "text/plain": [
       "<div class=\"audience-score meter\">\n",
       "<a class=\"unstyled articleLink\" href=\"#audience_reviews\"><div class=\"meter media\">\n",
       "<div class=\"meter-tomato icon big medium-xs upright pull-left\"></div>\n",
       "<div class=\"media-body\" style=\"line-height:36px\">\n",
       "<div class=\"meter-value\">\n",
       "<span class=\"superPageFontColor\" style=\"vertical-align:top\">72%</span>\n",
       "</div>\n",
       "<div class=\"smaller bold hidden-xs superPageFontColor\" style=\"padding-left:5px;line-height:12px\">liked it</div>\n",
       "</div>\n",
       "</div>\n",
       "</a></div>"
      ]
     },
     "execution_count": 28,
     "metadata": {},
     "output_type": "execute_result"
    }
   ],
   "source": [
    "soup.find(attrs={\"class\": \"audience-score meter\"})"
   ]
  },
  {
   "cell_type": "code",
   "execution_count": 29,
   "metadata": {},
   "outputs": [
    {
     "data": {
      "text/plain": [
       "'72'"
      ]
     },
     "execution_count": 29,
     "metadata": {},
     "output_type": "execute_result"
    }
   ],
   "source": [
    "soup.find('div', class_='audience-score meter').find('span').contents[0][:-1]"
   ]
  },
  {
   "cell_type": "code",
   "execution_count": 30,
   "metadata": {},
   "outputs": [
    {
     "data": {
      "text/plain": [
       "32313030"
      ]
     },
     "execution_count": 30,
     "metadata": {},
     "output_type": "execute_result"
    }
   ],
   "source": [
    "num_audience_ratings = soup.find(\"span\", string=\"User Ratings:\").parent.contents[2].strip()\n",
    "num_audience_ratings = int(num_audience_ratings.replace(',', ''))\n",
    "num_audience_ratings"
   ]
  },
  {
   "cell_type": "markdown",
   "metadata": {},
   "source": [
    "## 爬取影评"
   ]
  },
  {
   "cell_type": "code",
   "execution_count": 31,
   "metadata": {},
   "outputs": [],
   "source": [
    "import requests \n",
    "import pandas as pd\n",
    "import os"
   ]
  },
  {
   "cell_type": "code",
   "execution_count": 32,
   "metadata": {},
   "outputs": [],
   "source": [
    "folder_name_example = 'folder_name_example'\n",
    "if not os.path.exists(folder_name_example):\n",
    "    os.makedirs(folder_name_example)"
   ]
  },
  {
   "cell_type": "code",
   "execution_count": 33,
   "metadata": {},
   "outputs": [],
   "source": [
    "urls = ['https://raw.githubusercontent.com/hufe09/data-analyst-nanodegree-lab/master/Gathering%20Data/ebert_reviews/1-the-wizard-of-oz-1939-film.txt',\n",
    "        'https://raw.githubusercontent.com/hufe09/data-analyst-nanodegree-lab/master/Gathering%20Data/ebert_reviews/2-citizen-kane.txt']\n",
    "for url in urls:\n",
    "    response = requests.get(url)\n",
    "    with open(os.path.join(folder_name_example, url.split('/')[-1]), mode = 'wb') as file:\n",
    "        file.write(response.content)"
   ]
  },
  {
   "cell_type": "code",
   "execution_count": 34,
   "metadata": {},
   "outputs": [
    {
     "data": {
      "text/plain": [
       "['2-citizen-kane.txt', '1-the-wizard-of-oz-1939-film.txt']"
      ]
     },
     "execution_count": 34,
     "metadata": {},
     "output_type": "execute_result"
    }
   ],
   "source": [
    "os.listdir(folder_name_example)"
   ]
  },
  {
   "cell_type": "code",
   "execution_count": 35,
   "metadata": {},
   "outputs": [],
   "source": [
    "ebert_review_urls = ['https://d17h27t6h515a5.cloudfront.net/topher/2017/September/59ad9900_1-the-wizard-of-oz-1939-film/1-the-wizard-of-oz-1939-film.txt',\n",
    "                     'https://d17h27t6h515a5.cloudfront.net/topher/2017/September/59ad9901_2-citizen-kane/2-citizen-kane.txt',\n",
    "                     'https://d17h27t6h515a5.cloudfront.net/topher/2017/September/59ad9901_3-the-third-man/3-the-third-man.txt',\n",
    "                     'https://d17h27t6h515a5.cloudfront.net/topher/2017/September/59ad9902_4-get-out-film/4-get-out-film.txt',\n",
    "                     'https://d17h27t6h515a5.cloudfront.net/topher/2017/September/59ad9902_5-mad-max-fury-road/5-mad-max-fury-road.txt',\n",
    "                     'https://d17h27t6h515a5.cloudfront.net/topher/2017/September/59ad9902_6-the-cabinet-of-dr.-caligari/6-the-cabinet-of-dr.-caligari.txt',\n",
    "                     'https://d17h27t6h515a5.cloudfront.net/topher/2017/September/59ad9903_7-all-about-eve/7-all-about-eve.txt',\n",
    "                     'https://d17h27t6h515a5.cloudfront.net/topher/2017/September/59ad9903_8-inside-out-2015-film/8-inside-out-2015-film.txt',\n",
    "                     'https://d17h27t6h515a5.cloudfront.net/topher/2017/September/59ad9903_9-the-godfather/9-the-godfather.txt',\n",
    "                     'https://d17h27t6h515a5.cloudfront.net/topher/2017/September/59ad9904_10-metropolis-1927-film/10-metropolis-1927-film.txt',\n",
    "                     'https://d17h27t6h515a5.cloudfront.net/topher/2017/September/59ad9904_11-e.t.-the-extra-terrestrial/11-e.t.-the-extra-terrestrial.txt',\n",
    "                     'https://d17h27t6h515a5.cloudfront.net/topher/2017/September/59ad9904_12-modern-times-film/12-modern-times-film.txt',\n",
    "                     'https://d17h27t6h515a5.cloudfront.net/topher/2017/September/59ad9904_14-singin-in-the-rain/14-singin-in-the-rain.txt',\n",
    "                     'https://d17h27t6h515a5.cloudfront.net/topher/2017/September/59ad9905_15-boyhood-film/15-boyhood-film.txt',\n",
    "                     'https://d17h27t6h515a5.cloudfront.net/topher/2017/September/59ad9905_16-casablanca-film/16-casablanca-film.txt',\n",
    "                     'https://d17h27t6h515a5.cloudfront.net/topher/2017/September/59ad9905_17-moonlight-2016-film/17-moonlight-2016-film.txt',\n",
    "                     'https://d17h27t6h515a5.cloudfront.net/topher/2017/September/59ad9906_18-psycho-1960-film/18-psycho-1960-film.txt',\n",
    "                     'https://d17h27t6h515a5.cloudfront.net/topher/2017/September/59ad9906_19-laura-1944-film/19-laura-1944-film.txt',\n",
    "                     'https://d17h27t6h515a5.cloudfront.net/topher/2017/September/59ad9906_20-nosferatu/20-nosferatu.txt',\n",
    "                     'https://d17h27t6h515a5.cloudfront.net/topher/2017/September/59ad9907_21-snow-white-and-the-seven-dwarfs-1937-film/21-snow-white-and-the-seven-dwarfs-1937-film.txt',\n",
    "                     'https://d17h27t6h515a5.cloudfront.net/topher/2017/September/59ad9907_22-a-hard-day27s-night-film/22-a-hard-day27s-night-film.txt',\n",
    "                     'https://d17h27t6h515a5.cloudfront.net/topher/2017/September/59ad9907_23-la-grande-illusion/23-la-grande-illusion.txt',\n",
    "                     'https://d17h27t6h515a5.cloudfront.net/topher/2017/September/59ad9908_25-the-battle-of-algiers/25-the-battle-of-algiers.txt',\n",
    "                     'https://d17h27t6h515a5.cloudfront.net/topher/2017/September/59ad9908_26-dunkirk-2017-film/26-dunkirk-2017-film.txt',\n",
    "                     'https://d17h27t6h515a5.cloudfront.net/topher/2017/September/59ad9908_27-the-maltese-falcon-1941-film/27-the-maltese-falcon-1941-film.txt',\n",
    "                     'https://d17h27t6h515a5.cloudfront.net/topher/2017/September/59ad9909_29-12-years-a-slave-film/29-12-years-a-slave-film.txt',\n",
    "                     'https://d17h27t6h515a5.cloudfront.net/topher/2017/September/59ad9909_30-gravity-2013-film/30-gravity-2013-film.txt',\n",
    "                     'https://d17h27t6h515a5.cloudfront.net/topher/2017/September/59ad9909_31-sunset-boulevard-film/31-sunset-boulevard-film.txt',\n",
    "                     'https://d17h27t6h515a5.cloudfront.net/topher/2017/September/59ad990a_32-king-kong-1933-film/32-king-kong-1933-film.txt',\n",
    "                     'https://d17h27t6h515a5.cloudfront.net/topher/2017/September/59ad990a_33-spotlight-film/33-spotlight-film.txt',\n",
    "                     'https://d17h27t6h515a5.cloudfront.net/topher/2017/September/59ad990a_34-the-adventures-of-robin-hood/34-the-adventures-of-robin-hood.txt',\n",
    "                     'https://d17h27t6h515a5.cloudfront.net/topher/2017/September/59ad990b_35-rashomon/35-rashomon.txt',\n",
    "                     'https://d17h27t6h515a5.cloudfront.net/topher/2017/September/59ad990b_36-rear-window/36-rear-window.txt',\n",
    "                     'https://d17h27t6h515a5.cloudfront.net/topher/2017/September/59ad990b_37-selma-film/37-selma-film.txt',\n",
    "                     'https://d17h27t6h515a5.cloudfront.net/topher/2017/September/59ad990c_38-taxi-driver/38-taxi-driver.txt',\n",
    "                     'https://d17h27t6h515a5.cloudfront.net/topher/2017/September/59ad990c_39-toy-story-3/39-toy-story-3.txt',\n",
    "                     'https://d17h27t6h515a5.cloudfront.net/topher/2017/September/59ad990c_40-argo-2012-film/40-argo-2012-film.txt',\n",
    "                     'https://d17h27t6h515a5.cloudfront.net/topher/2017/September/59ad990d_41-toy-story-2/41-toy-story-2.txt',\n",
    "                     'https://d17h27t6h515a5.cloudfront.net/topher/2017/September/59ad990d_42-the-big-sick/42-the-big-sick.txt',\n",
    "                     'https://d17h27t6h515a5.cloudfront.net/topher/2017/September/59ad990d_43-bride-of-frankenstein/43-bride-of-frankenstein.txt',\n",
    "                     'https://d17h27t6h515a5.cloudfront.net/topher/2017/September/59ad990d_44-zootopia/44-zootopia.txt',\n",
    "                     'https://d17h27t6h515a5.cloudfront.net/topher/2017/September/59ad990e_45-m-1931-film/45-m-1931-film.txt',\n",
    "                     'https://d17h27t6h515a5.cloudfront.net/topher/2017/September/59ad990e_46-wonder-woman-2017-film/46-wonder-woman-2017-film.txt',\n",
    "                     'https://d17h27t6h515a5.cloudfront.net/topher/2017/September/59ad990e_48-alien-film/48-alien-film.txt',\n",
    "                     'https://d17h27t6h515a5.cloudfront.net/topher/2017/September/59ad990f_49-bicycle-thieves/49-bicycle-thieves.txt',\n",
    "                     'https://d17h27t6h515a5.cloudfront.net/topher/2017/September/59ad990f_50-seven-samurai/50-seven-samurai.txt',\n",
    "                     'https://d17h27t6h515a5.cloudfront.net/topher/2017/September/59ad990f_51-the-treasure-of-the-sierra-madre-film/51-the-treasure-of-the-sierra-madre-film.txt',\n",
    "                     'https://d17h27t6h515a5.cloudfront.net/topher/2017/September/59ad9910_52-up-2009-film/52-up-2009-film.txt',\n",
    "                     'https://d17h27t6h515a5.cloudfront.net/topher/2017/September/59ad9910_53-12-angry-men-1957-film/53-12-angry-men-1957-film.txt',\n",
    "                     'https://d17h27t6h515a5.cloudfront.net/topher/2017/September/59ad9910_54-the-400-blows/54-the-400-blows.txt',\n",
    "                     'https://d17h27t6h515a5.cloudfront.net/topher/2017/September/59ad9911_55-logan-film/55-logan-film.txt',\n",
    "                     'https://d17h27t6h515a5.cloudfront.net/topher/2017/September/59ad9911_57-army-of-shadows/57-army-of-shadows.txt',\n",
    "                     'https://d17h27t6h515a5.cloudfront.net/topher/2017/September/59ad9912_58-arrival-film/58-arrival-film.txt',\n",
    "                     'https://d17h27t6h515a5.cloudfront.net/topher/2017/September/59ad9912_59-baby-driver/59-baby-driver.txt',\n",
    "                     'https://d17h27t6h515a5.cloudfront.net/topher/2017/September/59ad9913_60-a-streetcar-named-desire-1951-film/60-a-streetcar-named-desire-1951-film.txt',\n",
    "                     'https://d17h27t6h515a5.cloudfront.net/topher/2017/September/59ad9913_61-the-night-of-the-hunter-film/61-the-night-of-the-hunter-film.txt',\n",
    "                     'https://d17h27t6h515a5.cloudfront.net/topher/2017/September/59ad9913_62-star-wars-the-force-awakens/62-star-wars-the-force-awakens.txt',\n",
    "                     'https://d17h27t6h515a5.cloudfront.net/topher/2017/September/59ad9913_63-manchester-by-the-sea-film/63-manchester-by-the-sea-film.txt',\n",
    "                     'https://d17h27t6h515a5.cloudfront.net/topher/2017/September/59ad9914_64-dr.-strangelove/64-dr.-strangelove.txt',\n",
    "                     'https://d17h27t6h515a5.cloudfront.net/topher/2017/September/59ad9914_66-vertigo-film/66-vertigo-film.txt',\n",
    "                     'https://d17h27t6h515a5.cloudfront.net/topher/2017/September/59ad9914_67-the-dark-knight-film/67-the-dark-knight-film.txt',\n",
    "                     'https://d17h27t6h515a5.cloudfront.net/topher/2017/September/59ad9915_68-touch-of-evil/68-touch-of-evil.txt',\n",
    "                     'https://d17h27t6h515a5.cloudfront.net/topher/2017/September/59ad9915_69-the-babadook/69-the-babadook.txt',\n",
    "                     'https://d17h27t6h515a5.cloudfront.net/topher/2017/September/59ad9915_72-rosemary27s-baby-film/72-rosemary27s-baby-film.txt',\n",
    "                     'https://d17h27t6h515a5.cloudfront.net/topher/2017/September/59ad9916_73-finding-nemo/73-finding-nemo.txt',\n",
    "                     'https://d17h27t6h515a5.cloudfront.net/topher/2017/September/59ad9916_74-brooklyn-film/74-brooklyn-film.txt',\n",
    "                     'https://d17h27t6h515a5.cloudfront.net/topher/2017/September/59ad9917_75-the-wrestler-2008-film/75-the-wrestler-2008-film.txt',\n",
    "                     'https://d17h27t6h515a5.cloudfront.net/topher/2017/September/59ad9917_77-l.a.-confidential-film/77-l.a.-confidential-film.txt',\n",
    "                     'https://d17h27t6h515a5.cloudfront.net/topher/2017/September/59ad9918_78-gone-with-the-wind-film/78-gone-with-the-wind-film.txt',\n",
    "                     'https://d17h27t6h515a5.cloudfront.net/topher/2017/September/59ad9918_79-the-good-the-bad-and-the-ugly/79-the-good-the-bad-and-the-ugly.txt',\n",
    "                     'https://d17h27t6h515a5.cloudfront.net/topher/2017/September/59ad9918_80-skyfall/80-skyfall.txt',\n",
    "                     'https://d17h27t6h515a5.cloudfront.net/topher/2017/September/59ad9919_82-tokyo-story/82-tokyo-story.txt',\n",
    "                     'https://d17h27t6h515a5.cloudfront.net/topher/2017/September/59ad9919_83-hell-or-high-water-film/83-hell-or-high-water-film.txt',\n",
    "                     'https://d17h27t6h515a5.cloudfront.net/topher/2017/September/59ad9919_84-pinocchio-1940-film/84-pinocchio-1940-film.txt',\n",
    "                     'https://d17h27t6h515a5.cloudfront.net/topher/2017/September/59ad9919_85-the-jungle-book-2016-film/85-the-jungle-book-2016-film.txt',\n",
    "                     'https://d17h27t6h515a5.cloudfront.net/topher/2017/September/59ad991a_86-la-la-land-film/86-la-la-land-film.txt',\n",
    "                     'https://d17h27t6h515a5.cloudfront.net/topher/2017/September/59ad991b_87-star-trek-film/87-star-trek-film.txt',\n",
    "                     'https://d17h27t6h515a5.cloudfront.net/topher/2017/September/59ad991b_89-apocalypse-now/89-apocalypse-now.txt',\n",
    "                     'https://d17h27t6h515a5.cloudfront.net/topher/2017/September/59ad991c_90-on-the-waterfront/90-on-the-waterfront.txt',\n",
    "                     'https://d17h27t6h515a5.cloudfront.net/topher/2017/September/59ad991c_91-the-wages-of-fear/91-the-wages-of-fear.txt',\n",
    "                     'https://d17h27t6h515a5.cloudfront.net/topher/2017/September/59ad991c_92-the-last-picture-show/92-the-last-picture-show.txt',\n",
    "                     'https://d17h27t6h515a5.cloudfront.net/topher/2017/September/59ad991d_93-harry-potter-and-the-deathly-hallows-part-2/93-harry-potter-and-the-deathly-hallows-part-2.txt',\n",
    "                     'https://d17h27t6h515a5.cloudfront.net/topher/2017/September/59ad991d_94-the-grapes-of-wrath-film/94-the-grapes-of-wrath-film.txt',\n",
    "                     'https://d17h27t6h515a5.cloudfront.net/topher/2017/September/59ad991d_96-man-on-wire/96-man-on-wire.txt',\n",
    "                     'https://d17h27t6h515a5.cloudfront.net/topher/2017/September/59ad991e_97-jaws-film/97-jaws-film.txt',\n",
    "                     'https://d17h27t6h515a5.cloudfront.net/topher/2017/September/59ad991e_98-toy-story/98-toy-story.txt',\n",
    "                     'https://d17h27t6h515a5.cloudfront.net/topher/2017/September/59ad991e_99-the-godfather-part-ii/99-the-godfather-part-ii.txt',\n",
    "                     'https://d17h27t6h515a5.cloudfront.net/topher/2017/September/59ad991e_100-battleship-potemkin/100-battleship-potemkin.txt']"
   ]
  },
  {
   "cell_type": "markdown",
   "metadata": {},
   "source": [
    "``` Python\n",
    "# Make directory if it doesn't already exist\n",
    "folder_name = 'ebert_reviews'\n",
    "if not os.path.exists(folder_name):\n",
    "    os.makedirs(folder_name)\n",
    "    \n",
    "for url in ebert_review_urls:\n",
    "    response = requests.get(url)\n",
    "    with open(os.path.join(folder_name, url.split('/')[-1]), mode='wb') as file:\n",
    "        file.write(response.content)\n",
    "```"
   ]
  },
  {
   "cell_type": "code",
   "execution_count": 36,
   "metadata": {},
   "outputs": [],
   "source": [
    "import glob"
   ]
  },
  {
   "cell_type": "code",
   "execution_count": 37,
   "metadata": {},
   "outputs": [],
   "source": [
    "folder_name = 'ebert_reviews'\n",
    "df_list = []\n",
    "for ebert_review in glob.glob('ebert_reviews/*.txt'):\n",
    "    with open(ebert_review, encoding='utf-8') as file:\n",
    "        title = file.readline()[:-1]\n",
    "        review_url = file.readline()[:-1]\n",
    "        review_text = file.read()\n",
    "        df_list.append({'title': title,\n",
    "                       'review_url': review_url,\n",
    "                       'review_text': review_text})"
   ]
  },
  {
   "cell_type": "code",
   "execution_count": 38,
   "metadata": {
    "scrolled": true
   },
   "outputs": [
    {
     "data": {
      "text/html": [
       "<div>\n",
       "<style scoped>\n",
       "    .dataframe tbody tr th:only-of-type {\n",
       "        vertical-align: middle;\n",
       "    }\n",
       "\n",
       "    .dataframe tbody tr th {\n",
       "        vertical-align: top;\n",
       "    }\n",
       "\n",
       "    .dataframe thead th {\n",
       "        text-align: right;\n",
       "    }\n",
       "</style>\n",
       "<table border=\"1\" class=\"dataframe\">\n",
       "  <thead>\n",
       "    <tr style=\"text-align: right;\">\n",
       "      <th></th>\n",
       "      <th>title</th>\n",
       "      <th>review_url</th>\n",
       "      <th>review_text</th>\n",
       "    </tr>\n",
       "  </thead>\n",
       "  <tbody>\n",
       "    <tr>\n",
       "      <th>0</th>\n",
       "      <td>The Maltese Falcon (1941)</td>\n",
       "      <td>http://www.rogerebert.com/reviews/great-movie-...</td>\n",
       "      <td>Among the movies we not only love but treasure...</td>\n",
       "    </tr>\n",
       "    <tr>\n",
       "      <th>1</th>\n",
       "      <td>Up (2009)</td>\n",
       "      <td>http://www.rogerebert.com/reviews/up-2009</td>\n",
       "      <td>\"Up\" is a wonderful film, with characters who ...</td>\n",
       "    </tr>\n",
       "    <tr>\n",
       "      <th>2</th>\n",
       "      <td>Taxi Driver (1976)</td>\n",
       "      <td>http://www.rogerebert.com/reviews/great-movie-...</td>\n",
       "      <td>Are you talkin' to me? Well, I'm the only one ...</td>\n",
       "    </tr>\n",
       "    <tr>\n",
       "      <th>3</th>\n",
       "      <td>The Wages of Fear (1953)</td>\n",
       "      <td>http://www.rogerebert.com/reviews/the-wages-of...</td>\n",
       "      <td>When the great French thriller \"The Wages of F...</td>\n",
       "    </tr>\n",
       "    <tr>\n",
       "      <th>4</th>\n",
       "      <td>Sunset Boulevard (1950)</td>\n",
       "      <td>http://www.rogerebert.com/reviews/great-movie-...</td>\n",
       "      <td>Billy Wilder's \"Sunset Boulevard” is the portr...</td>\n",
       "    </tr>\n",
       "    <tr>\n",
       "      <th>5</th>\n",
       "      <td>The Battle of Algiers (La Battaglia di Algeri)...</td>\n",
       "      <td>http://www.rogerebert.com/reviews/great-movie-...</td>\n",
       "      <td>The most common form of warfare since 1945 has...</td>\n",
       "    </tr>\n",
       "    <tr>\n",
       "      <th>6</th>\n",
       "      <td>Bicycle Thieves (Ladri di biciclette) (1949)</td>\n",
       "      <td>http://www.rogerebert.com/reviews/great-movie-...</td>\n",
       "      <td>\"The Bicycle Thief\" is so well-entrenched as a...</td>\n",
       "    </tr>\n",
       "    <tr>\n",
       "      <th>7</th>\n",
       "      <td>The Last Picture Show (1971)</td>\n",
       "      <td>http://www.rogerebert.com/reviews/great-movie-...</td>\n",
       "      <td>The best scene in \"The Last Picture Show\" take...</td>\n",
       "    </tr>\n",
       "    <tr>\n",
       "      <th>8</th>\n",
       "      <td>Toy Story (1995)</td>\n",
       "      <td>http://www.rogerebert.com/reviews/toy-story-1995</td>\n",
       "      <td>\"Toy Story\" creates a universe out of a couple...</td>\n",
       "    </tr>\n",
       "    <tr>\n",
       "      <th>9</th>\n",
       "      <td>Tokyo Story (Tôkyô monogatari) (1953)</td>\n",
       "      <td>http://www.rogerebert.com/reviews/great-movie-...</td>\n",
       "      <td>No story could be simpler. An old couple come ...</td>\n",
       "    </tr>\n",
       "    <tr>\n",
       "      <th>10</th>\n",
       "      <td>The Bride of Frankenstein (1935)</td>\n",
       "      <td>http://www.rogerebert.com/reviews/great-movie-...</td>\n",
       "      <td>To a new world of gods and monsters.\\n\\nSo int...</td>\n",
       "    </tr>\n",
       "    <tr>\n",
       "      <th>11</th>\n",
       "      <td>King Kong (1933)</td>\n",
       "      <td>http://www.rogerebert.com/reviews/great-movie-...</td>\n",
       "      <td>On good days I consider \"Citizen Kane\" the sem...</td>\n",
       "    </tr>\n",
       "    <tr>\n",
       "      <th>12</th>\n",
       "      <td>Star Wars: Episode VII - The Force Awakens (2015)</td>\n",
       "      <td>http://www.rogerebert.com/reviews/star-wars-ep...</td>\n",
       "      <td>“Star Wars: Episode VII - The Force Awakens” i...</td>\n",
       "    </tr>\n",
       "    <tr>\n",
       "      <th>13</th>\n",
       "      <td>The 400 Blows (Les Quatre cents coups) (1959)</td>\n",
       "      <td>http://www.rogerebert.com/reviews/great-movie-...</td>\n",
       "      <td>I demand that a film express either the joy of...</td>\n",
       "    </tr>\n",
       "    <tr>\n",
       "      <th>14</th>\n",
       "      <td>Laura (1944)</td>\n",
       "      <td>http://www.rogerebert.com/reviews/great-movie-...</td>\n",
       "      <td>I've seen Otto Preminger's “Laura” three or fo...</td>\n",
       "    </tr>\n",
       "    <tr>\n",
       "      <th>15</th>\n",
       "      <td>Casablanca (1942)</td>\n",
       "      <td>http://www.rogerebert.com/reviews/great-movie-...</td>\n",
       "      <td>If we identify strongly with the characters in...</td>\n",
       "    </tr>\n",
       "    <tr>\n",
       "      <th>16</th>\n",
       "      <td>Rosemary's Baby (1968)</td>\n",
       "      <td>http://www.rogerebert.com/reviews/rosemarys-ba...</td>\n",
       "      <td>Roman Polanski's \"Rosemary's Baby\" is a broodi...</td>\n",
       "    </tr>\n",
       "    <tr>\n",
       "      <th>17</th>\n",
       "      <td>Get Out (2017)</td>\n",
       "      <td>http://www.rogerebert.com/reviews/get-out-2017</td>\n",
       "      <td>With the ambitious and challenging “Get Out,” ...</td>\n",
       "    </tr>\n",
       "    <tr>\n",
       "      <th>18</th>\n",
       "      <td>Metropolis (1927)</td>\n",
       "      <td>http://www.rogerebert.com/reviews/great-movie-...</td>\n",
       "      <td>The opening shots of the restored “Metropolis”...</td>\n",
       "    </tr>\n",
       "    <tr>\n",
       "      <th>19</th>\n",
       "      <td>On the Waterfront (1954)</td>\n",
       "      <td>http://www.rogerebert.com/reviews/great-movie-...</td>\n",
       "      <td>Conscience. That stuff can drive you nuts.\\n\\n...</td>\n",
       "    </tr>\n",
       "    <tr>\n",
       "      <th>20</th>\n",
       "      <td>The Big Sick (2017)</td>\n",
       "      <td>http://www.rogerebert.com/reviews/the-big-sick...</td>\n",
       "      <td>It sounds impossible—too melodramatic, too cra...</td>\n",
       "    </tr>\n",
       "    <tr>\n",
       "      <th>21</th>\n",
       "      <td>Toy Story 3 (2010)</td>\n",
       "      <td>http://www.rogerebert.com/reviews/toy-story-3-...</td>\n",
       "      <td>The first two \"Toy Story\" movies centered on t...</td>\n",
       "    </tr>\n",
       "    <tr>\n",
       "      <th>22</th>\n",
       "      <td>Snow White and the Seven Dwarfs (1937)</td>\n",
       "      <td>http://www.rogerebert.com/reviews/great-movie-...</td>\n",
       "      <td>If Walt Disney's “Snow White and the Seven Dwa...</td>\n",
       "    </tr>\n",
       "    <tr>\n",
       "      <th>23</th>\n",
       "      <td>Alien (1979)</td>\n",
       "      <td>http://www.rogerebert.com/reviews/great-movie-...</td>\n",
       "      <td>At its most fundamental level, \"Alien\" is a mo...</td>\n",
       "    </tr>\n",
       "    <tr>\n",
       "      <th>24</th>\n",
       "      <td>Seven Samurai (Shichinin no Samurai) (1956)</td>\n",
       "      <td>http://www.rogerebert.com/reviews/great-movie-...</td>\n",
       "      <td>Akira Kurosawa's \"Seven Samurai\" (1954) is not...</td>\n",
       "    </tr>\n",
       "    <tr>\n",
       "      <th>25</th>\n",
       "      <td>Battleship Potemkin (1925)</td>\n",
       "      <td>http://www.rogerebert.com/reviews/great-movie-...</td>\n",
       "      <td>\"The Battleship Potemkin” has been so famous f...</td>\n",
       "    </tr>\n",
       "    <tr>\n",
       "      <th>26</th>\n",
       "      <td>La La Land (2016)</td>\n",
       "      <td>http://www.rogerebert.com/reviews/la-la-land-2016</td>\n",
       "      <td>Musicals made me a romantic. They taught me th...</td>\n",
       "    </tr>\n",
       "    <tr>\n",
       "      <th>27</th>\n",
       "      <td>Gone With the Wind (1939)</td>\n",
       "      <td>http://www.rogerebert.com/reviews/great-movie-...</td>\n",
       "      <td>\"Gone With the Wind” presents a sentimental vi...</td>\n",
       "    </tr>\n",
       "    <tr>\n",
       "      <th>28</th>\n",
       "      <td>Vertigo (1958)</td>\n",
       "      <td>http://www.rogerebert.com/reviews/great-movie-...</td>\n",
       "      <td>“Did he train you? Did he rehearse you? Did he...</td>\n",
       "    </tr>\n",
       "    <tr>\n",
       "      <th>29</th>\n",
       "      <td>Man on Wire (2008)</td>\n",
       "      <td>http://www.rogerebert.com/reviews/man-on-wire-...</td>\n",
       "      <td>I am afraid of heights. Now you know. That is ...</td>\n",
       "    </tr>\n",
       "    <tr>\n",
       "      <th>...</th>\n",
       "      <td>...</td>\n",
       "      <td>...</td>\n",
       "      <td>...</td>\n",
       "    </tr>\n",
       "    <tr>\n",
       "      <th>58</th>\n",
       "      <td>12 Angry Men (Twelve Angry Men) (1957)</td>\n",
       "      <td>http://www.rogerebert.com/reviews/great-movie-...</td>\n",
       "      <td>In form, \"12 Angry Men\" is a courtroom drama. ...</td>\n",
       "    </tr>\n",
       "    <tr>\n",
       "      <th>59</th>\n",
       "      <td>Nosferatu, a Symphony of Horror (Nosferatu, ei...</td>\n",
       "      <td>http://www.rogerebert.com/reviews/great-movie-...</td>\n",
       "      <td>To watch F.W. Murnau's \"Nosferatu\" (1922) is t...</td>\n",
       "    </tr>\n",
       "    <tr>\n",
       "      <th>60</th>\n",
       "      <td>The Jungle Book (2016)</td>\n",
       "      <td>http://www.rogerebert.com/reviews/the-jungle-b...</td>\n",
       "      <td>I saw the newest Disney version of \"The Jungle...</td>\n",
       "    </tr>\n",
       "    <tr>\n",
       "      <th>61</th>\n",
       "      <td>Hell or High Water (2016)</td>\n",
       "      <td>http://www.rogerebert.com/reviews/hell-or-high...</td>\n",
       "      <td>After a summer filled with retreads, ripoffs a...</td>\n",
       "    </tr>\n",
       "    <tr>\n",
       "      <th>62</th>\n",
       "      <td>Spotlight (2015)</td>\n",
       "      <td>http://www.rogerebert.com/reviews/spotlight-2015</td>\n",
       "      <td>On January 6, 2002, Boston Globe subscribers p...</td>\n",
       "    </tr>\n",
       "    <tr>\n",
       "      <th>63</th>\n",
       "      <td>Singin' in the Rain (1952)</td>\n",
       "      <td>http://www.rogerebert.com/reviews/great-movie-...</td>\n",
       "      <td>There is no movie musical more fun than \"Singi...</td>\n",
       "    </tr>\n",
       "    <tr>\n",
       "      <th>64</th>\n",
       "      <td>Citizen Kane (1941)</td>\n",
       "      <td>http://www.rogerebert.com/reviews/great-movie-...</td>\n",
       "      <td>“I don't think any word can explain a man's li...</td>\n",
       "    </tr>\n",
       "    <tr>\n",
       "      <th>65</th>\n",
       "      <td>Gravity (2013)</td>\n",
       "      <td>http://www.rogerebert.com/reviews/gravity-2013</td>\n",
       "      <td>Alfonso Cuarón's \"Gravity,\" about astronauts c...</td>\n",
       "    </tr>\n",
       "    <tr>\n",
       "      <th>66</th>\n",
       "      <td>The Dark Knight (2008)</td>\n",
       "      <td>http://www.rogerebert.com/reviews/the-dark-kni...</td>\n",
       "      <td>“Batman” isn’t a comic book anymore. Christoph...</td>\n",
       "    </tr>\n",
       "    <tr>\n",
       "      <th>67</th>\n",
       "      <td>The Wrestler (2008)</td>\n",
       "      <td>http://www.rogerebert.com/reviews/the-wrestler...</td>\n",
       "      <td>\"The Wrestler\" is about a man who can do one t...</td>\n",
       "    </tr>\n",
       "    <tr>\n",
       "      <th>68</th>\n",
       "      <td>A Streetcar Named Desire (1951)</td>\n",
       "      <td>http://www.rogerebert.com/reviews/a-streetcar-...</td>\n",
       "      <td>Marlon Brando didn't win the Academy Award in ...</td>\n",
       "    </tr>\n",
       "    <tr>\n",
       "      <th>69</th>\n",
       "      <td>Modern Times (1936)</td>\n",
       "      <td>http://www.rogerebert.com/reviews/modern-times...</td>\n",
       "      <td>A lot of movies are said to be timeless, but s...</td>\n",
       "    </tr>\n",
       "    <tr>\n",
       "      <th>70</th>\n",
       "      <td>The Cabinet of Dr. Caligari (Das Cabinet des D...</td>\n",
       "      <td>http://www.rogerebert.com/reviews/great-movie-...</td>\n",
       "      <td>The first thing everyone notices and best reme...</td>\n",
       "    </tr>\n",
       "    <tr>\n",
       "      <th>71</th>\n",
       "      <td>The Wizard of Oz (1939)</td>\n",
       "      <td>http://www.rogerebert.com/reviews/great-movie-...</td>\n",
       "      <td>As a child I simply did not notice whether a m...</td>\n",
       "    </tr>\n",
       "    <tr>\n",
       "      <th>72</th>\n",
       "      <td>Manchester by the Sea (2016)</td>\n",
       "      <td>http://www.rogerebert.com/reviews/manchester-b...</td>\n",
       "      <td>\"Manchester by the Sea,\" about a self-punishin...</td>\n",
       "    </tr>\n",
       "    <tr>\n",
       "      <th>73</th>\n",
       "      <td>Rear Window (1954)</td>\n",
       "      <td>http://www.rogerebert.com/reviews/great-movie-...</td>\n",
       "      <td>The hero of Alfred Hitchcock's \"Rear Window\" i...</td>\n",
       "    </tr>\n",
       "    <tr>\n",
       "      <th>74</th>\n",
       "      <td>Logan (2017)</td>\n",
       "      <td>http://www.rogerebert.com/reviews/logan-2017</td>\n",
       "      <td>Is “Logan” more powerful because of what the s...</td>\n",
       "    </tr>\n",
       "    <tr>\n",
       "      <th>75</th>\n",
       "      <td>RashÃ´mon (1951)</td>\n",
       "      <td>http://www.rogerebert.com/reviews/great-movie-...</td>\n",
       "      <td>Shortly before filming was to begin on \"Rashom...</td>\n",
       "    </tr>\n",
       "    <tr>\n",
       "      <th>76</th>\n",
       "      <td>La Grande illusion (Grand Illusion) (1938)</td>\n",
       "      <td>http://www.rogerebert.com/reviews/great-movie-...</td>\n",
       "      <td>Apart from its other achievements, Jean Renoir...</td>\n",
       "    </tr>\n",
       "    <tr>\n",
       "      <th>77</th>\n",
       "      <td>All About Eve (1950)</td>\n",
       "      <td>http://www.rogerebert.com/reviews/great-movie-...</td>\n",
       "      <td>Growing older was a smart career move for Bett...</td>\n",
       "    </tr>\n",
       "    <tr>\n",
       "      <th>78</th>\n",
       "      <td>Argo (2012)</td>\n",
       "      <td>http://www.rogerebert.com/reviews/argo-2012</td>\n",
       "      <td>It's the same the world over. A Hollywood prod...</td>\n",
       "    </tr>\n",
       "    <tr>\n",
       "      <th>79</th>\n",
       "      <td>Touch of Evil (1958)</td>\n",
       "      <td>http://www.rogerebert.com/reviews/great-movie-...</td>\n",
       "      <td>Come on, read my future for me.You haven't got...</td>\n",
       "    </tr>\n",
       "    <tr>\n",
       "      <th>80</th>\n",
       "      <td>Harry Potter and the Deathly Hallows - Part 2 ...</td>\n",
       "      <td>http://www.rogerebert.com/reviews/harry-potter...</td>\n",
       "      <td>After seven earlier films reaching back a deca...</td>\n",
       "    </tr>\n",
       "    <tr>\n",
       "      <th>81</th>\n",
       "      <td>Moonlight (2016)</td>\n",
       "      <td>http://www.rogerebert.com/reviews/moonlight-2016</td>\n",
       "      <td>“Who is you, man?” Dramatic film has long been...</td>\n",
       "    </tr>\n",
       "    <tr>\n",
       "      <th>82</th>\n",
       "      <td>Wonder Woman (2017)</td>\n",
       "      <td>http://www.rogerebert.com/reviews/wonder-woman...</td>\n",
       "      <td>Ever since William Moulton Marston created her...</td>\n",
       "    </tr>\n",
       "    <tr>\n",
       "      <th>83</th>\n",
       "      <td>A Hard Day's Night (1964)</td>\n",
       "      <td>http://www.rogerebert.com/reviews/great-movie-...</td>\n",
       "      <td>When it opened in September, 1964, \"A Hard Day...</td>\n",
       "    </tr>\n",
       "    <tr>\n",
       "      <th>84</th>\n",
       "      <td>The Night of the Hunter (1955)</td>\n",
       "      <td>http://www.rogerebert.com/reviews/great-movie-...</td>\n",
       "      <td>Charles Laughton's \"The Night of the Hunter” (...</td>\n",
       "    </tr>\n",
       "    <tr>\n",
       "      <th>85</th>\n",
       "      <td>The Adventures of Robin Hood (1938)</td>\n",
       "      <td>http://www.rogerebert.com/reviews/great-movie-...</td>\n",
       "      <td>\"The Adventures of Robin Hood\" was made with s...</td>\n",
       "    </tr>\n",
       "    <tr>\n",
       "      <th>86</th>\n",
       "      <td>Inside Out (2015)</td>\n",
       "      <td>http://www.rogerebert.com/reviews/inside-out-2015</td>\n",
       "      <td>\"Inside Out,\" a comedy-adventure set inside th...</td>\n",
       "    </tr>\n",
       "    <tr>\n",
       "      <th>87</th>\n",
       "      <td>L.A. Confidential (1997)</td>\n",
       "      <td>http://www.rogerebert.com/reviews/great-movie-...</td>\n",
       "      <td>\"L.A. Confidential\" finished at No. 1 in a lis...</td>\n",
       "    </tr>\n",
       "  </tbody>\n",
       "</table>\n",
       "<p>88 rows × 3 columns</p>\n",
       "</div>"
      ],
      "text/plain": [
       "                                                title  \\\n",
       "0                           The Maltese Falcon (1941)   \n",
       "1                                           Up (2009)   \n",
       "2                                  Taxi Driver (1976)   \n",
       "3                            The Wages of Fear (1953)   \n",
       "4                             Sunset Boulevard (1950)   \n",
       "5   The Battle of Algiers (La Battaglia di Algeri)...   \n",
       "6        Bicycle Thieves (Ladri di biciclette) (1949)   \n",
       "7                        The Last Picture Show (1971)   \n",
       "8                                    Toy Story (1995)   \n",
       "9               Tokyo Story (Tôkyô monogatari) (1953)   \n",
       "10                   The Bride of Frankenstein (1935)   \n",
       "11                                   King Kong (1933)   \n",
       "12  Star Wars: Episode VII - The Force Awakens (2015)   \n",
       "13      The 400 Blows (Les Quatre cents coups) (1959)   \n",
       "14                                       Laura (1944)   \n",
       "15                                  Casablanca (1942)   \n",
       "16                             Rosemary's Baby (1968)   \n",
       "17                                     Get Out (2017)   \n",
       "18                                  Metropolis (1927)   \n",
       "19                           On the Waterfront (1954)   \n",
       "20                                The Big Sick (2017)   \n",
       "21                                 Toy Story 3 (2010)   \n",
       "22             Snow White and the Seven Dwarfs (1937)   \n",
       "23                                       Alien (1979)   \n",
       "24        Seven Samurai (Shichinin no Samurai) (1956)   \n",
       "25                         Battleship Potemkin (1925)   \n",
       "26                                  La La Land (2016)   \n",
       "27                          Gone With the Wind (1939)   \n",
       "28                                     Vertigo (1958)   \n",
       "29                                 Man on Wire (2008)   \n",
       "..                                                ...   \n",
       "58             12 Angry Men (Twelve Angry Men) (1957)   \n",
       "59  Nosferatu, a Symphony of Horror (Nosferatu, ei...   \n",
       "60                             The Jungle Book (2016)   \n",
       "61                          Hell or High Water (2016)   \n",
       "62                                   Spotlight (2015)   \n",
       "63                         Singin' in the Rain (1952)   \n",
       "64                                Citizen Kane (1941)   \n",
       "65                                     Gravity (2013)   \n",
       "66                             The Dark Knight (2008)   \n",
       "67                                The Wrestler (2008)   \n",
       "68                    A Streetcar Named Desire (1951)   \n",
       "69                                Modern Times (1936)   \n",
       "70  The Cabinet of Dr. Caligari (Das Cabinet des D...   \n",
       "71                            The Wizard of Oz (1939)   \n",
       "72                       Manchester by the Sea (2016)   \n",
       "73                                 Rear Window (1954)   \n",
       "74                                       Logan (2017)   \n",
       "75                                   RashÃ´mon (1951)   \n",
       "76         La Grande illusion (Grand Illusion) (1938)   \n",
       "77                               All About Eve (1950)   \n",
       "78                                        Argo (2012)   \n",
       "79                               Touch of Evil (1958)   \n",
       "80  Harry Potter and the Deathly Hallows - Part 2 ...   \n",
       "81                                   Moonlight (2016)   \n",
       "82                                Wonder Woman (2017)   \n",
       "83                          A Hard Day's Night (1964)   \n",
       "84                     The Night of the Hunter (1955)   \n",
       "85                The Adventures of Robin Hood (1938)   \n",
       "86                                  Inside Out (2015)   \n",
       "87                           L.A. Confidential (1997)   \n",
       "\n",
       "                                           review_url  \\\n",
       "0   http://www.rogerebert.com/reviews/great-movie-...   \n",
       "1           http://www.rogerebert.com/reviews/up-2009   \n",
       "2   http://www.rogerebert.com/reviews/great-movie-...   \n",
       "3   http://www.rogerebert.com/reviews/the-wages-of...   \n",
       "4   http://www.rogerebert.com/reviews/great-movie-...   \n",
       "5   http://www.rogerebert.com/reviews/great-movie-...   \n",
       "6   http://www.rogerebert.com/reviews/great-movie-...   \n",
       "7   http://www.rogerebert.com/reviews/great-movie-...   \n",
       "8    http://www.rogerebert.com/reviews/toy-story-1995   \n",
       "9   http://www.rogerebert.com/reviews/great-movie-...   \n",
       "10  http://www.rogerebert.com/reviews/great-movie-...   \n",
       "11  http://www.rogerebert.com/reviews/great-movie-...   \n",
       "12  http://www.rogerebert.com/reviews/star-wars-ep...   \n",
       "13  http://www.rogerebert.com/reviews/great-movie-...   \n",
       "14  http://www.rogerebert.com/reviews/great-movie-...   \n",
       "15  http://www.rogerebert.com/reviews/great-movie-...   \n",
       "16  http://www.rogerebert.com/reviews/rosemarys-ba...   \n",
       "17     http://www.rogerebert.com/reviews/get-out-2017   \n",
       "18  http://www.rogerebert.com/reviews/great-movie-...   \n",
       "19  http://www.rogerebert.com/reviews/great-movie-...   \n",
       "20  http://www.rogerebert.com/reviews/the-big-sick...   \n",
       "21  http://www.rogerebert.com/reviews/toy-story-3-...   \n",
       "22  http://www.rogerebert.com/reviews/great-movie-...   \n",
       "23  http://www.rogerebert.com/reviews/great-movie-...   \n",
       "24  http://www.rogerebert.com/reviews/great-movie-...   \n",
       "25  http://www.rogerebert.com/reviews/great-movie-...   \n",
       "26  http://www.rogerebert.com/reviews/la-la-land-2016   \n",
       "27  http://www.rogerebert.com/reviews/great-movie-...   \n",
       "28  http://www.rogerebert.com/reviews/great-movie-...   \n",
       "29  http://www.rogerebert.com/reviews/man-on-wire-...   \n",
       "..                                                ...   \n",
       "58  http://www.rogerebert.com/reviews/great-movie-...   \n",
       "59  http://www.rogerebert.com/reviews/great-movie-...   \n",
       "60  http://www.rogerebert.com/reviews/the-jungle-b...   \n",
       "61  http://www.rogerebert.com/reviews/hell-or-high...   \n",
       "62   http://www.rogerebert.com/reviews/spotlight-2015   \n",
       "63  http://www.rogerebert.com/reviews/great-movie-...   \n",
       "64  http://www.rogerebert.com/reviews/great-movie-...   \n",
       "65     http://www.rogerebert.com/reviews/gravity-2013   \n",
       "66  http://www.rogerebert.com/reviews/the-dark-kni...   \n",
       "67  http://www.rogerebert.com/reviews/the-wrestler...   \n",
       "68  http://www.rogerebert.com/reviews/a-streetcar-...   \n",
       "69  http://www.rogerebert.com/reviews/modern-times...   \n",
       "70  http://www.rogerebert.com/reviews/great-movie-...   \n",
       "71  http://www.rogerebert.com/reviews/great-movie-...   \n",
       "72  http://www.rogerebert.com/reviews/manchester-b...   \n",
       "73  http://www.rogerebert.com/reviews/great-movie-...   \n",
       "74       http://www.rogerebert.com/reviews/logan-2017   \n",
       "75  http://www.rogerebert.com/reviews/great-movie-...   \n",
       "76  http://www.rogerebert.com/reviews/great-movie-...   \n",
       "77  http://www.rogerebert.com/reviews/great-movie-...   \n",
       "78        http://www.rogerebert.com/reviews/argo-2012   \n",
       "79  http://www.rogerebert.com/reviews/great-movie-...   \n",
       "80  http://www.rogerebert.com/reviews/harry-potter...   \n",
       "81   http://www.rogerebert.com/reviews/moonlight-2016   \n",
       "82  http://www.rogerebert.com/reviews/wonder-woman...   \n",
       "83  http://www.rogerebert.com/reviews/great-movie-...   \n",
       "84  http://www.rogerebert.com/reviews/great-movie-...   \n",
       "85  http://www.rogerebert.com/reviews/great-movie-...   \n",
       "86  http://www.rogerebert.com/reviews/inside-out-2015   \n",
       "87  http://www.rogerebert.com/reviews/great-movie-...   \n",
       "\n",
       "                                          review_text  \n",
       "0   Among the movies we not only love but treasure...  \n",
       "1   \"Up\" is a wonderful film, with characters who ...  \n",
       "2   Are you talkin' to me? Well, I'm the only one ...  \n",
       "3   When the great French thriller \"The Wages of F...  \n",
       "4   Billy Wilder's \"Sunset Boulevard” is the portr...  \n",
       "5   The most common form of warfare since 1945 has...  \n",
       "6   \"The Bicycle Thief\" is so well-entrenched as a...  \n",
       "7   The best scene in \"The Last Picture Show\" take...  \n",
       "8   \"Toy Story\" creates a universe out of a couple...  \n",
       "9   No story could be simpler. An old couple come ...  \n",
       "10  To a new world of gods and monsters.\\n\\nSo int...  \n",
       "11  On good days I consider \"Citizen Kane\" the sem...  \n",
       "12  “Star Wars: Episode VII - The Force Awakens” i...  \n",
       "13  I demand that a film express either the joy of...  \n",
       "14  I've seen Otto Preminger's “Laura” three or fo...  \n",
       "15  If we identify strongly with the characters in...  \n",
       "16  Roman Polanski's \"Rosemary's Baby\" is a broodi...  \n",
       "17  With the ambitious and challenging “Get Out,” ...  \n",
       "18  The opening shots of the restored “Metropolis”...  \n",
       "19  Conscience. That stuff can drive you nuts.\\n\\n...  \n",
       "20  It sounds impossible—too melodramatic, too cra...  \n",
       "21  The first two \"Toy Story\" movies centered on t...  \n",
       "22  If Walt Disney's “Snow White and the Seven Dwa...  \n",
       "23  At its most fundamental level, \"Alien\" is a mo...  \n",
       "24  Akira Kurosawa's \"Seven Samurai\" (1954) is not...  \n",
       "25  \"The Battleship Potemkin” has been so famous f...  \n",
       "26  Musicals made me a romantic. They taught me th...  \n",
       "27  \"Gone With the Wind” presents a sentimental vi...  \n",
       "28  “Did he train you? Did he rehearse you? Did he...  \n",
       "29  I am afraid of heights. Now you know. That is ...  \n",
       "..                                                ...  \n",
       "58  In form, \"12 Angry Men\" is a courtroom drama. ...  \n",
       "59  To watch F.W. Murnau's \"Nosferatu\" (1922) is t...  \n",
       "60  I saw the newest Disney version of \"The Jungle...  \n",
       "61  After a summer filled with retreads, ripoffs a...  \n",
       "62  On January 6, 2002, Boston Globe subscribers p...  \n",
       "63  There is no movie musical more fun than \"Singi...  \n",
       "64  “I don't think any word can explain a man's li...  \n",
       "65  Alfonso Cuarón's \"Gravity,\" about astronauts c...  \n",
       "66  “Batman” isn’t a comic book anymore. Christoph...  \n",
       "67  \"The Wrestler\" is about a man who can do one t...  \n",
       "68  Marlon Brando didn't win the Academy Award in ...  \n",
       "69  A lot of movies are said to be timeless, but s...  \n",
       "70  The first thing everyone notices and best reme...  \n",
       "71  As a child I simply did not notice whether a m...  \n",
       "72  \"Manchester by the Sea,\" about a self-punishin...  \n",
       "73  The hero of Alfred Hitchcock's \"Rear Window\" i...  \n",
       "74  Is “Logan” more powerful because of what the s...  \n",
       "75  Shortly before filming was to begin on \"Rashom...  \n",
       "76  Apart from its other achievements, Jean Renoir...  \n",
       "77  Growing older was a smart career move for Bett...  \n",
       "78  It's the same the world over. A Hollywood prod...  \n",
       "79  Come on, read my future for me.You haven't got...  \n",
       "80  After seven earlier films reaching back a deca...  \n",
       "81  “Who is you, man?” Dramatic film has long been...  \n",
       "82  Ever since William Moulton Marston created her...  \n",
       "83  When it opened in September, 1964, \"A Hard Day...  \n",
       "84  Charles Laughton's \"The Night of the Hunter” (...  \n",
       "85  \"The Adventures of Robin Hood\" was made with s...  \n",
       "86  \"Inside Out,\" a comedy-adventure set inside th...  \n",
       "87  \"L.A. Confidential\" finished at No. 1 in a lis...  \n",
       "\n",
       "[88 rows x 3 columns]"
      ]
     },
     "execution_count": 38,
     "metadata": {},
     "output_type": "execute_result"
    }
   ],
   "source": [
    "df = pd.DataFrame(df_list, columns=['title', 'review_url', 'review_text'])\n",
    "df"
   ]
  },
  {
   "cell_type": "code",
   "execution_count": 39,
   "metadata": {},
   "outputs": [
    {
     "data": {
      "text/plain": [
       "88"
      ]
     },
     "execution_count": 39,
     "metadata": {},
     "output_type": "execute_result"
    }
   ],
   "source": [
    "title_list = []\n",
    "for t in df.title:\n",
    "    title_list.append(t)\n",
    "len(title_list)"
   ]
  },
  {
   "cell_type": "markdown",
   "metadata": {},
   "source": [
    "## API \n",
    "### rtsimple"
   ]
  },
  {
   "cell_type": "markdown",
   "metadata": {},
   "source": [
    "“MediaWiki” 有许多不同的“访问库 ”来满足现有的各种编程语言。\n",
    "\n",
    "- Wikipedia-API：易于使用的Python 3库。\n",
    "- wptools：维基百科工具（适用于人类）。\n",
    "- Pywikibot：一组python脚本和一个强大的机器人写作库。\n",
    "- wikitools：围绕API提供几层抽象。不支持Python 3。\n",
    "- mwclient：一个Python库，可以访问大多数API函数....\n",
    "- 等等...."
   ]
  },
  {
   "cell_type": "markdown",
   "metadata": {},
   "source": [
    "对于MediaWiki，调用Python中最新的和[人类可读]的wptools。例如，Twitter的类似关系是：  \n",
    "\n",
    "- MediaWiki API→wptools\n",
    "- Twitter API→tweepy\n",
    "- wptools指南：（https://github.com/siznax/wptools）\n",
    "- tweepy准则：（https://media.readthedocs.org/pdf/tweepy/latest/tweepy.pdf）"
   ]
  },
  {
   "cell_type": "markdown",
   "metadata": {},
   "source": [
    "``` Python\n",
    "import requests\n",
    "from PIL import Image\n",
    "from io import BytesIO\n",
    "\n",
    "url = 'https://en.wikipedia.org/wiki/E.T._the_Extra-Terrestrial#/media/File:E_t_the_extra_terrestrial_ver3.jpg'\n",
    "r = requests.get(url)\n",
    "i = Image.open(BytesIO(r.content))\n",
    "```"
   ]
  },
  {
   "cell_type": "markdown",
   "metadata": {},
   "source": [
    "``` Python\n",
    "import rtsimple as rt\n",
    "rt.API_KEY = 'your api key'\n",
    "movie = rt.Movies('10489')\n",
    "```"
   ]
  },
  {
   "cell_type": "markdown",
   "metadata": {
    "scrolled": true
   },
   "source": [
    "``` Python\n",
    "import wptools\n",
    "page = wptools.page('Mahatma_Gandhi')\n",
    "page.data['image'][0]['size']\n",
    "```"
   ]
  },
  {
   "cell_type": "markdown",
   "metadata": {},
   "source": [
    "![](https://user-images.githubusercontent.com/31917400/37098852-dc257a7a-2216-11e8-9805-8c54ad5da83d.jpg)"
   ]
  },
  {
   "cell_type": "markdown",
   "metadata": {},
   "source": [
    "``` Python\n",
    "page = wptools.page('Manchester_by_the_Sea_(film)').get()\n",
    "images = page.data['image']\n",
    "images[0]['url']\n",
    "```"
   ]
  },
  {
   "cell_type": "markdown",
   "metadata": {},
   "source": [
    "![image](https://raw.githubusercontent.com/hufe09/GitNote-Images/master/Picee/image.648h9pkgp8a.png)\n",
    "\n",
    "`'https://upload.wikimedia.org/wikipedia/en/d/de/Manchester_by_the_Sea.jpg'`"
   ]
  },
  {
   "cell_type": "markdown",
   "metadata": {},
   "source": [
    "图像文件，使用PIL库（枕头）和非文本请求的io库。  \n",
    "例如："
   ]
  },
  {
   "cell_type": "markdown",
   "metadata": {
    "scrolled": true
   },
   "source": [
    "``` Python\n",
    "import pandas as pd\n",
    "import requests   #general web scraping to RAM package \n",
    "import wptools   #'wikipedia-specific' web scraping package\n",
    "import os   #filepath, folder editing package\n",
    "from PIL import Image \n",
    "from io import BytesIO\n",
    "\n",
    "folder_name = 'bestofrt_posters'\n",
    "\n",
    "if not os.path.exists(folder_name):\n",
    "    os.makedirs(folder_name)\n",
    "    \n",
    "df_list = []\n",
    "\n",
    "image_errors = {}\n",
    "\n",
    "for t in title_list:\n",
    "    try:\n",
    "        # This cell is slow so print ranking to gauge time remaining\n",
    "        ranking = title_list.index(t) + 1\n",
    "        print(ranking)\n",
    "        pagee = wptools.page(t, silent=True)\n",
    "        images = pagee.get().data['image']\n",
    "\n",
    "        # First image is usually the poster. That's the image we want. Get the Url.\n",
    "        first_image_url = images[0]['url']\n",
    "        \n",
    "        #Now we obtain the image file in our RAM !\n",
    "        res = requests.get(first_image_url)\n",
    "        \n",
    "        # Download movie poster image\n",
    "        i = Image.open(BytesIO(res.content))\n",
    "        image_file_format = first_image_url.split('.')[-1]\n",
    "        i.save(folder_name + \"/\" + str(ranking) + \"_\" + t + '.' + image_file_format)\n",
    "        \n",
    "        # Append to list of dictionaries\n",
    "        df_list.append({'ranking': int(ranking),\n",
    "                        'title': t,\n",
    "                        'poster_url': first_image_url})\n",
    "    \n",
    "    # Not best practice to catch all exceptions but fine for this short script\n",
    "    except Exception as e:\n",
    "        print(str(ranking) + \"_\" + t + \": \" + str(e))\n",
    "        image_errors[str(ranking) + \"_\" + t] = images\n",
    "```"
   ]
  },
  {
   "cell_type": "markdown",
   "metadata": {},
   "source": [
    "## Writing JSON\n",
    "将Python dict对象转换为序列化的JSON字符串。  \n",
    "- `json.dump()`：它将dict对象以JSON格式写入“文本文件”。\n",
    "- `json.dumps()`：略有变化json.dump()。它返回实际的JSON字符串，并在JSON str中提供更多控件。"
   ]
  },
  {
   "cell_type": "code",
   "execution_count": 40,
   "metadata": {},
   "outputs": [],
   "source": [
    "import json\n",
    "\n",
    "data = {}  \n",
    "data['people'] = []  \n",
    "data['people'].append({'name': 'Scott', 'website': 'stackabuse.com', 'from': 'Nebraska'})\n",
    "data['people'].append({'name': 'Larry', 'website': 'google.com', 'from': 'Michigan'})\n",
    "data['people'].append({'name': 'Tim', 'website': 'apple.com', 'from': 'Alabama'})\n",
    "\n",
    "with open('json_data.txt', 'w') as out_f:  \n",
    "    json.dump(data, out_f)"
   ]
  },
  {
   "cell_type": "markdown",
   "metadata": {},
   "source": [
    "## Reading  JSON\n",
    "- `json.load()`：它从文件中读取字符串，解析JSON数据，使用数据填充Python dict并将其返回。\n",
    "- `json.loads()`：略有变化`json.load()`。它允许我们直接处理str（因为很多时候你可能没有包含你的JSON的类文件对象）。"
   ]
  },
  {
   "cell_type": "code",
   "execution_count": 41,
   "metadata": {
    "scrolled": true
   },
   "outputs": [
    {
     "data": {
      "text/plain": [
       "{'people': [{'name': 'Scott', 'website': 'stackabuse.com', 'from': 'Nebraska'},\n",
       "  {'name': 'Larry', 'website': 'google.com', 'from': 'Michigan'},\n",
       "  {'name': 'Tim', 'website': 'apple.com', 'from': 'Alabama'}]}"
      ]
     },
     "execution_count": 41,
     "metadata": {},
     "output_type": "execute_result"
    }
   ],
   "source": [
    "with open('json_data.txt') as json_f:  \n",
    "    data = json.load(json_f)\n",
    "data"
   ]
  },
  {
   "cell_type": "code",
   "execution_count": 42,
   "metadata": {},
   "outputs": [
    {
     "name": "stdout",
     "output_type": "stream",
     "text": [
      "Name: Scott\n",
      "Website: stackabuse.com\n",
      "From: Nebraska\n",
      "\n",
      "Name: Larry\n",
      "Website: google.com\n",
      "From: Michigan\n",
      "\n",
      "Name: Tim\n",
      "Website: apple.com\n",
      "From: Alabama\n",
      "\n"
     ]
    }
   ],
   "source": [
    "for p in data['people']:\n",
    "    print('Name: ' + p['name'])\n",
    "    print('Website: ' + p['website'])\n",
    "    print('From: ' + p['from'])\n",
    "    print('')"
   ]
  },
  {
   "cell_type": "markdown",
   "metadata": {},
   "source": [
    "## WordCloud"
   ]
  },
  {
   "cell_type": "markdown",
   "metadata": {},
   "source": [
    "`$ pip install wordcloud`"
   ]
  },
  {
   "cell_type": "code",
   "execution_count": 43,
   "metadata": {},
   "outputs": [],
   "source": [
    "ebert_review = './ebert_reviews/98-toy-story.txt'\n",
    "with open(ebert_review, encoding='utf-8') as file:\n",
    "    title = file.readline()[:-1]\n",
    "    review_url = file.readline()[:-1]\n",
    "    review_text = file.read()\n",
    "    df_list.append({'title': title,\n",
    "                   'review_url': review_url,\n",
    "                   'review_text': review_text})"
   ]
  },
  {
   "cell_type": "code",
   "execution_count": 44,
   "metadata": {},
   "outputs": [
    {
     "name": "stdout",
     "output_type": "stream",
     "text": [
      "根据词频计算词云\n"
     ]
    },
    {
     "data": {
      "image/png": "[encoded data removed]",
      "text/plain": [
       "<Figure size 432x288 with 1 Axes>"
      ]
     },
     "metadata": {
      "needs_background": "light"
     },
     "output_type": "display_data"
    }
   ],
   "source": [
    "#-*- coding:utf-8 -*-\n",
    "from wordcloud import WordCloud, STOPWORDS\n",
    "import matplotlib.pyplot as plt\n",
    "import numpy as np\n",
    "from PIL import Image\n",
    "\n",
    "# 生成词云\n",
    "def create_word_cloud(f):\n",
    "    print('根据词频计算词云')  \n",
    "    # 设置停用词\n",
    "    stopwords = set(STOPWORDS)\n",
    "    stopwords.update([\"hello\", \"hi\"])\n",
    "    # 设置词云形状\n",
    "    mask_img = np.array(Image.open(r\"./toy-story.png\"))\n",
    "    \n",
    "    wc = WordCloud(\n",
    "     background_color='white',# 设置背景颜色\n",
    "#      font_path='../../fonts/SimHei.ttf',  # 设置字体，针对中文的情况需要设置中文字体，否则显示乱码\n",
    "     max_font_size=150,# 设置字体最大值\n",
    "     width=1080,# 设置画布的宽度\n",
    "     height=1920,# 设置画布的高度\n",
    "     random_state=30,# 设置多少种随机状态，即多少种颜色\n",
    "     mask = mask_img, \n",
    "     stopwords = stopwords\n",
    "    )\n",
    "    wordcloud = wc.generate(f)\n",
    "     # 写词云图片\n",
    "    wordcloud.to_file(\"./wordcloud.jpg\")\n",
    "     # 显示词云文件\n",
    "    plt.imshow(wordcloud)\n",
    "    plt.axis(\"off\")\n",
    "    plt.show()\n",
    "create_word_cloud(review_text)"
   ]
  }
 ],
 "metadata": {
  "hide_input": false,
  "kernel_info": {
   "name": "python3"
  },
  "kernelspec": {
   "display_name": "Python 3",
   "language": "python",
   "name": "python3"
  },
  "language_info": {
   "codemirror_mode": {
    "name": "ipython",
    "version": 3
   },
   "file_extension": ".py",
   "mimetype": "text/x-python",
   "name": "python",
   "nbconvert_exporter": "python",
   "pygments_lexer": "ipython3",
   "version": "3.7.3"
  },
  "nteract": {
   "version": "0.12.3"
  },
  "toc": {
   "base_numbering": 1,
   "nav_menu": {},
   "number_sections": true,
   "sideBar": true,
   "skip_h1_title": false,
   "title_cell": "Table of Contents",
   "title_sidebar": "Contents",
   "toc_cell": false,
   "toc_position": {},
   "toc_section_display": true,
   "toc_window_display": false
  },
  "varInspector": {
   "cols": {
    "lenName": 16,
    "lenType": 16,
    "lenVar": 40
   },
   "kernels_config": {
    "python": {
     "delete_cmd_postfix": "",
     "delete_cmd_prefix": "del ",
     "library": "var_list.py",
     "varRefreshCmd": "print(var_dic_list())"
    },
    "r": {
     "delete_cmd_postfix": ") ",
     "delete_cmd_prefix": "rm(",
     "library": "var_list.r",
     "varRefreshCmd": "cat(var_dic_list()) "
    }
   },
   "types_to_exclude": [
    "module",
    "function",
    "builtin_function_or_method",
    "instance",
    "_Feature"
   ],
   "window_display": false
  }
 },
 "nbformat": 4,
 "nbformat_minor": 2
}
