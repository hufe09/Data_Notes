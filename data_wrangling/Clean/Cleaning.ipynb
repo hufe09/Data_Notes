{
 "cells": [
  {
   "cell_type": "markdown",
   "metadata": {
    "pycharm": {}
   },
   "source": [
    "# Cleaning\n",
    "# 清洗数据"
   ]
  },
  {
   "cell_type": "markdown",
   "metadata": {
    "pycharm": {}
   },
   "source": [
    "## Gather"
   ]
  },
  {
   "cell_type": "code",
   "execution_count": 1,
   "metadata": {
    "pycharm": {
     "is_executing": false
    }
   },
   "outputs": [],
   "source": [
    "import numpy as np\n",
    "import pandas as pd\n",
    "\n",
    "pd.set_option('display.max_columns', 100)  # 设置显示数据的最大列数，防止出现省略号…，导致数据显示不全\n",
    "pd.set_option('expand_frame_repr', False)  # 当列太多时不自动换行"
   ]
  },
  {
   "cell_type": "code",
   "execution_count": 2,
   "metadata": {
    "pycharm": {
     "is_executing": false
    }
   },
   "outputs": [],
   "source": [
    "patients = pd.read_csv('../Assess/patients.csv')\n",
    "treatments = pd.read_csv('../Assess/treatments.csv')\n",
    "adverse_reactions = pd.read_csv('../Assess/adverse_reactions.csv')"
   ]
  },
  {
   "cell_type": "markdown",
   "metadata": {
    "pycharm": {}
   },
   "source": [
    "## Access"
   ]
  },
  {
   "cell_type": "markdown",
   "metadata": {
    "pycharm": {}
   },
   "source": [
    "### Quality\n",
    "#####  *`treatment`表*\n",
    "- 丢失数据(应该350名患者，实际280)\n",
    "- 缺少hba1c_change\n",
    "- 'auralin`和`novodra`列中的起始剂量和最终剂量旁边的'u'\n",
    "- 小写名称\n",
    "- 错误数据类型（zip_code, assigned sex, state, birthday）\n",
    "- 错误的HbA1c change\n",
    "\n",
    "##### `patients`表\n",
    "- zip_code格式不佳（例如，四位数和浮点数据类型而不是五位数字和字符串或对象数据类型）\n",
    "- 患者身高值不正确（例如，Tim Neudorf身高27英寸而不是72英寸）\n",
    "- state不一致(有时是完整的州名，有时是缩写)\n",
    "- Dsvid 拼写错误，应该是David\n",
    "- 错误数据类型（auranlin and novodra colums）\n",
    "- 话号码格式不一致\n",
    "- 有不可恢复的无名氏记录\n",
    "- Jakobsen, Gersten, Taylor有多项记录\n",
    "- Zaitseva的重量单位是“kgs”而不是“lbs”（磅）\n",
    "\n",
    "##### `adverse_reactions`表\n",
    "- 小写名称"
   ]
  },
  {
   "cell_type": "markdown",
   "metadata": {
    "pycharm": {}
   },
   "source": [
    "### Tidiness\n",
    "- 联系人列表中，电话和邮箱应该分为两列\n",
    "- 治疗表中，将auranlin and novodra 分为三个变量（treatment, start does and end does）"
   ]
  },
  {
   "cell_type": "markdown",
   "metadata": {
    "pycharm": {}
   },
   "source": [
    "## Clean"
   ]
  },
  {
   "cell_type": "markdown",
   "metadata": {
    "pycharm": {}
   },
   "source": [
    "![title](https://raw.githubusercontent.com/hufe09/GitNote-Images/master/gitnote/2019/04/26/1556209407985-1556209407997.png)"
   ]
  },
  {
   "cell_type": "markdown",
   "metadata": {
    "pycharm": {}
   },
   "source": [
    "### copy一份原数据，命名为*_clean"
   ]
  },
  {
   "cell_type": "code",
   "execution_count": 3,
   "metadata": {
    "pycharm": {}
   },
   "outputs": [
    {
     "data": {
      "text/html": [
       "<div>\n",
       "<style scoped>\n",
       "    .dataframe tbody tr th:only-of-type {\n",
       "        vertical-align: middle;\n",
       "    }\n",
       "\n",
       "    .dataframe tbody tr th {\n",
       "        vertical-align: top;\n",
       "    }\n",
       "\n",
       "    .dataframe thead th {\n",
       "        text-align: right;\n",
       "    }\n",
       "</style>\n",
       "<table border=\"1\" class=\"dataframe\">\n",
       "  <thead>\n",
       "    <tr style=\"text-align: right;\">\n",
       "      <th></th>\n",
       "      <th>patient_id</th>\n",
       "      <th>assigned_sex</th>\n",
       "      <th>given_name</th>\n",
       "      <th>surname</th>\n",
       "      <th>address</th>\n",
       "      <th>city</th>\n",
       "      <th>state</th>\n",
       "      <th>zip_code</th>\n",
       "      <th>country</th>\n",
       "      <th>contact</th>\n",
       "      <th>birthdate</th>\n",
       "      <th>weight</th>\n",
       "      <th>height</th>\n",
       "      <th>bmi</th>\n",
       "    </tr>\n",
       "  </thead>\n",
       "  <tbody>\n",
       "    <tr>\n",
       "      <th>337</th>\n",
       "      <td>338</td>\n",
       "      <td>male</td>\n",
       "      <td>León</td>\n",
       "      <td>Reynoso</td>\n",
       "      <td>385 Walnut Avenue</td>\n",
       "      <td>Eagle</td>\n",
       "      <td>ID</td>\n",
       "      <td>83642.0</td>\n",
       "      <td>United States</td>\n",
       "      <td>208-830-2415LeonReynosoRendon@einrot.com</td>\n",
       "      <td>5/16/1931</td>\n",
       "      <td>209.4</td>\n",
       "      <td>65</td>\n",
       "      <td>34.8</td>\n",
       "    </tr>\n",
       "    <tr>\n",
       "      <th>220</th>\n",
       "      <td>221</td>\n",
       "      <td>male</td>\n",
       "      <td>Mijael</td>\n",
       "      <td>Guerra</td>\n",
       "      <td>1271 Pretty View Lane</td>\n",
       "      <td>Oakland</td>\n",
       "      <td>CA</td>\n",
       "      <td>94612.0</td>\n",
       "      <td>United States</td>\n",
       "      <td>MijaelGuerraMoreno@teleworm.us+1 (707) 896-9250</td>\n",
       "      <td>1/25/1944</td>\n",
       "      <td>183.5</td>\n",
       "      <td>65</td>\n",
       "      <td>30.5</td>\n",
       "    </tr>\n",
       "    <tr>\n",
       "      <th>14</th>\n",
       "      <td>15</td>\n",
       "      <td>female</td>\n",
       "      <td>Asia</td>\n",
       "      <td>Woźniak</td>\n",
       "      <td>4970 Heather Sees Way</td>\n",
       "      <td>Tulsa</td>\n",
       "      <td>OK</td>\n",
       "      <td>74105.0</td>\n",
       "      <td>United States</td>\n",
       "      <td>AsiaWozniak@rhyta.com918-712-3469</td>\n",
       "      <td>8/15/1997</td>\n",
       "      <td>112.0</td>\n",
       "      <td>65</td>\n",
       "      <td>18.6</td>\n",
       "    </tr>\n",
       "  </tbody>\n",
       "</table>\n",
       "</div>"
      ],
      "text/plain": [
       "     patient_id assigned_sex given_name  surname                address     city state  zip_code        country                                          contact  birthdate  weight  height   bmi\n",
       "337         338         male       León  Reynoso      385 Walnut Avenue    Eagle    ID   83642.0  United States         208-830-2415LeonReynosoRendon@einrot.com  5/16/1931   209.4      65  34.8\n",
       "220         221         male     Mijael   Guerra  1271 Pretty View Lane  Oakland    CA   94612.0  United States  MijaelGuerraMoreno@teleworm.us+1 (707) 896-9250  1/25/1944   183.5      65  30.5\n",
       "14           15       female       Asia  Woźniak  4970 Heather Sees Way    Tulsa    OK   74105.0  United States                AsiaWozniak@rhyta.com918-712-3469  8/15/1997   112.0      65  18.6"
      ]
     },
     "execution_count": 3,
     "metadata": {},
     "output_type": "execute_result"
    }
   ],
   "source": [
    "patients_clean = patients.copy()\n",
    "patients_clean.sample(3)"
   ]
  },
  {
   "cell_type": "code",
   "execution_count": 4,
   "metadata": {
    "pycharm": {},
    "scrolled": true
   },
   "outputs": [
    {
     "data": {
      "text/html": [
       "<div>\n",
       "<style scoped>\n",
       "    .dataframe tbody tr th:only-of-type {\n",
       "        vertical-align: middle;\n",
       "    }\n",
       "\n",
       "    .dataframe tbody tr th {\n",
       "        vertical-align: top;\n",
       "    }\n",
       "\n",
       "    .dataframe thead th {\n",
       "        text-align: right;\n",
       "    }\n",
       "</style>\n",
       "<table border=\"1\" class=\"dataframe\">\n",
       "  <thead>\n",
       "    <tr style=\"text-align: right;\">\n",
       "      <th></th>\n",
       "      <th>given_name</th>\n",
       "      <th>surname</th>\n",
       "      <th>auralin</th>\n",
       "      <th>novodra</th>\n",
       "      <th>hba1c_start</th>\n",
       "      <th>hba1c_end</th>\n",
       "      <th>hba1c_change</th>\n",
       "    </tr>\n",
       "  </thead>\n",
       "  <tbody>\n",
       "    <tr>\n",
       "      <th>119</th>\n",
       "      <td>liisa</td>\n",
       "      <td>seppälä</td>\n",
       "      <td>36u - 47u</td>\n",
       "      <td>-</td>\n",
       "      <td>7.87</td>\n",
       "      <td>7.51</td>\n",
       "      <td>0.36</td>\n",
       "    </tr>\n",
       "    <tr>\n",
       "      <th>31</th>\n",
       "      <td>bao</td>\n",
       "      <td>she</td>\n",
       "      <td>-</td>\n",
       "      <td>48u - 45u</td>\n",
       "      <td>9.09</td>\n",
       "      <td>8.62</td>\n",
       "      <td>NaN</td>\n",
       "    </tr>\n",
       "    <tr>\n",
       "      <th>171</th>\n",
       "      <td>justyna</td>\n",
       "      <td>kowalczyk</td>\n",
       "      <td>24u - 34u</td>\n",
       "      <td>-</td>\n",
       "      <td>9.84</td>\n",
       "      <td>9.44</td>\n",
       "      <td>NaN</td>\n",
       "    </tr>\n",
       "  </tbody>\n",
       "</table>\n",
       "</div>"
      ],
      "text/plain": [
       "    given_name    surname    auralin    novodra  hba1c_start  hba1c_end  hba1c_change\n",
       "119      liisa    seppälä  36u - 47u          -         7.87       7.51          0.36\n",
       "31         bao        she          -  48u - 45u         9.09       8.62           NaN\n",
       "171    justyna  kowalczyk  24u - 34u          -         9.84       9.44           NaN"
      ]
     },
     "execution_count": 4,
     "metadata": {},
     "output_type": "execute_result"
    }
   ],
   "source": [
    "treatments_clean = treatments.copy()\n",
    "treatments_clean.sample(3)"
   ]
  },
  {
   "cell_type": "code",
   "execution_count": 5,
   "metadata": {
    "pycharm": {}
   },
   "outputs": [
    {
     "data": {
      "text/html": [
       "<div>\n",
       "<style scoped>\n",
       "    .dataframe tbody tr th:only-of-type {\n",
       "        vertical-align: middle;\n",
       "    }\n",
       "\n",
       "    .dataframe tbody tr th {\n",
       "        vertical-align: top;\n",
       "    }\n",
       "\n",
       "    .dataframe thead th {\n",
       "        text-align: right;\n",
       "    }\n",
       "</style>\n",
       "<table border=\"1\" class=\"dataframe\">\n",
       "  <thead>\n",
       "    <tr style=\"text-align: right;\">\n",
       "      <th></th>\n",
       "      <th>given_name</th>\n",
       "      <th>surname</th>\n",
       "      <th>adverse_reaction</th>\n",
       "    </tr>\n",
       "  </thead>\n",
       "  <tbody>\n",
       "    <tr>\n",
       "      <th>5</th>\n",
       "      <td>jasmine</td>\n",
       "      <td>sykes</td>\n",
       "      <td>hypoglycemia</td>\n",
       "    </tr>\n",
       "    <tr>\n",
       "      <th>26</th>\n",
       "      <td>clinton</td>\n",
       "      <td>miller</td>\n",
       "      <td>throat irritation</td>\n",
       "    </tr>\n",
       "    <tr>\n",
       "      <th>13</th>\n",
       "      <td>leon</td>\n",
       "      <td>scholz</td>\n",
       "      <td>injection site discomfort</td>\n",
       "    </tr>\n",
       "  </tbody>\n",
       "</table>\n",
       "</div>"
      ],
      "text/plain": [
       "   given_name surname           adverse_reaction\n",
       "5     jasmine   sykes               hypoglycemia\n",
       "26    clinton  miller          throat irritation\n",
       "13       leon  scholz  injection site discomfort"
      ]
     },
     "execution_count": 5,
     "metadata": {},
     "output_type": "execute_result"
    }
   ],
   "source": [
    "adverse_reactions_clean = adverse_reactions.copy()\n",
    "adverse_reactions_clean.sample(3)"
   ]
  },
  {
   "cell_type": "markdown",
   "metadata": {
    "pycharm": {}
   },
   "source": [
    "### Clean for [Tidiness]"
   ]
  },
  {
   "cell_type": "markdown",
   "metadata": {
    "pycharm": {}
   },
   "source": [
    "#### 联系人列表中，电话和邮箱应该分为两列"
   ]
  },
  {
   "cell_type": "markdown",
   "metadata": {
    "pycharm": {}
   },
   "source": [
    "*pandas.Series.str.extract [来源]*  \n",
    "`Series.str.extract(pat, flags=0, expand=True)`  \n",
    "\n",
    "对于系列中的每个主题字符串，从正则表达式pat的第一个匹配中提取组。  \n",
    "\n",
    "**参数：**\t\n",
    "- `pat` ： 字符串\n",
    "具有捕获组的正则表达式模式。\n",
    "\n",
    "- `flags` ： int，默认为0（无标志）\n",
    "来自re模块的标志，例如re.IGNORECASE，修改正则表达式匹配，例如大小写，空格等。有关详细信息，请参阅re。\n",
    "\n",
    "- `expand` ： bool，默认为True\n",
    "如果为True，则返回DataFrame，每个捕获组一列。如果为False，如果有一个捕获组，则返回系列/索引;如果有多个捕获组，则返回DataFrame。\n",
    "\n",
    "**返回：**\t\n",
    "**DataFrame或系列或索引**  \n",
    "一个DataFrame，每个主题字符串有一行，每个组有一列。正则表达式pat中的任何捕获组名称都将用于列名称; 否则将使用捕获组编号。即使找不到匹配项，每个结果列的dtype也始终为object。如果 expand=False和pat只有一个捕获组，则返回一个系列（如果主题是系列）或索引（如果主题是索引）。"
   ]
  },
  {
   "cell_type": "markdown",
   "metadata": {
    "pycharm": {}
   },
   "source": [
    "- phone_number\n",
    "    - str.extract(regEx, expand=True) return a new DataFrame with n columns(defined by the number of group in regEx).\n",
    "    - (\n",
    "    - (?: : left paren will not count as a group result.\n",
    "    - \\+\\d{1,2}\\s)?\n",
    "    - \\(?\n",
    "    - \\d{3}\n",
    "    - \\)?\n",
    "    - [\\s.-]?\\d{3}[\\s.-]?\\d{4}\n",
    "    - )"
   ]
  },
  {
   "cell_type": "code",
   "execution_count": 6,
   "metadata": {
    "pycharm": {},
    "scrolled": true
   },
   "outputs": [
    {
     "data": {
      "text/plain": [
       "0         951-719-9170\n",
       "1    +1 (217) 569-3204\n",
       "2         402-363-6804\n",
       "3    +1 (732) 636-8246\n",
       "4         334-515-7487\n",
       "Name: phone_number, dtype: object"
      ]
     },
     "execution_count": 6,
     "metadata": {},
     "output_type": "execute_result"
    }
   ],
   "source": [
    "patients_clean['phone_number'] = patients_clean.contact.str.extract('((?:\\+\\d{1,2}\\s)?\\(?\\d{3}\\)?[\\s.-]?\\d{3}[\\s.-]\\d{4})', expand=True)\n",
    "patients_clean['phone_number'].head()"
   ]
  },
  {
   "cell_type": "markdown",
   "metadata": {
    "pycharm": {}
   },
   "source": [
    "- email\n",
    "    - str.extract(regEx, expand=True) return a new DataFrame with n columns(defined by the number of group in regEx).\n",
    "    - (\n",
    "    - [a-zA-Z][a-zA-Z0-9_.+-]+\n",
    "    - @[a-zA-Z0-9-]+\\.[a-zA-Z0-9-.]+[a-zA-Z]\n",
    "    - )"
   ]
  },
  {
   "cell_type": "code",
   "execution_count": 7,
   "metadata": {
    "pycharm": {}
   },
   "outputs": [
    {
     "data": {
      "text/plain": [
       "399        EricEk@jourrapide.com\n",
       "219                          NaN\n",
       "189    KisanetSelassie@gustr.com\n",
       "Name: email, dtype: object"
      ]
     },
     "execution_count": 7,
     "metadata": {},
     "output_type": "execute_result"
    }
   ],
   "source": [
    "patients_clean['email'] = patients_clean.contact.str.extract('([a-zA-Z][a-zA-Z0-9_.+-]+@[a-zA-Z0-9-]+\\.[a-zA-Z0-9-.]+[a-zA-Z])', expand=True)\n",
    "patients_clean['email'].sample(3)"
   ]
  },
  {
   "cell_type": "markdown",
   "metadata": {
    "pycharm": {}
   },
   "source": [
    "- 删除原数据"
   ]
  },
  {
   "cell_type": "code",
   "execution_count": 8,
   "metadata": {
    "pycharm": {}
   },
   "outputs": [],
   "source": [
    "patients_clean = patients_clean.drop('contact', axis=1)"
   ]
  },
  {
   "cell_type": "code",
   "execution_count": 9,
   "metadata": {},
   "outputs": [
    {
     "data": {
      "text/html": [
       "<div>\n",
       "<style scoped>\n",
       "    .dataframe tbody tr th:only-of-type {\n",
       "        vertical-align: middle;\n",
       "    }\n",
       "\n",
       "    .dataframe tbody tr th {\n",
       "        vertical-align: top;\n",
       "    }\n",
       "\n",
       "    .dataframe thead th {\n",
       "        text-align: right;\n",
       "    }\n",
       "</style>\n",
       "<table border=\"1\" class=\"dataframe\">\n",
       "  <thead>\n",
       "    <tr style=\"text-align: right;\">\n",
       "      <th></th>\n",
       "      <th>patient_id</th>\n",
       "      <th>assigned_sex</th>\n",
       "      <th>given_name</th>\n",
       "      <th>surname</th>\n",
       "      <th>address</th>\n",
       "      <th>city</th>\n",
       "      <th>state</th>\n",
       "      <th>zip_code</th>\n",
       "      <th>country</th>\n",
       "      <th>birthdate</th>\n",
       "      <th>weight</th>\n",
       "      <th>height</th>\n",
       "      <th>bmi</th>\n",
       "      <th>phone_number</th>\n",
       "      <th>email</th>\n",
       "    </tr>\n",
       "  </thead>\n",
       "  <tbody>\n",
       "    <tr>\n",
       "      <th>203</th>\n",
       "      <td>204</td>\n",
       "      <td>female</td>\n",
       "      <td>Mùi</td>\n",
       "      <td>Lương</td>\n",
       "      <td>1778 Rodney Street</td>\n",
       "      <td>Harvester</td>\n",
       "      <td>MO</td>\n",
       "      <td>63301.0</td>\n",
       "      <td>United States</td>\n",
       "      <td>2/29/1956</td>\n",
       "      <td>192.7</td>\n",
       "      <td>60</td>\n",
       "      <td>37.6</td>\n",
       "      <td>636-442-6946</td>\n",
       "      <td>LuongHongMui@einrot.com</td>\n",
       "    </tr>\n",
       "  </tbody>\n",
       "</table>\n",
       "</div>"
      ],
      "text/plain": [
       "     patient_id assigned_sex given_name surname             address       city state  zip_code        country  birthdate  weight  height   bmi  phone_number                    email\n",
       "203         204       female        Mùi   Lương  1778 Rodney Street  Harvester    MO   63301.0  United States  2/29/1956   192.7      60  37.6  636-442-6946  LuongHongMui@einrot.com"
      ]
     },
     "execution_count": 9,
     "metadata": {},
     "output_type": "execute_result"
    }
   ],
   "source": [
    "patients_clean.sample(1)"
   ]
  },
  {
   "cell_type": "markdown",
   "metadata": {
    "pycharm": {}
   },
   "source": [
    "#### 治疗表中，将auranlin and novodra 分为三个变量（treatment, start does and end does）"
   ]
  },
  {
   "cell_type": "markdown",
   "metadata": {
    "pycharm": {}
   },
   "source": [
    "*pandas.melt [源]*  \n",
    "`pandas.melt(frame, id_vars=None, value_vars=None, var_name=None, value_name='value', col_level=None)`  \n",
    "将DataFrame从宽格式展开为长格式，可选择保留标识符变量集。  \n",
    "\n",
    "此函数可用于将DataFrame按压为一个或多个列为标识符变量（`id_vars`）的格式，而所有其他列（被视为测量变量（`value_vars`））对行轴“未分配”，只留下两个非标识符列，\"变量\"和\"值\"。\n",
    "\n",
    "**参数：**\t\n",
    "- **`frame`** ： DataFrame\n",
    "- **`id_vars`** ： tuple，list或ndarray，可选\n",
    "用作标识符变量的列。\n",
    "\n",
    "- **`value_vars`** ： tuple，list或ndarray，可选\n",
    "要拆开的列。如果未指定，则使用未设置为id_vars的所有列。\n",
    "\n",
    "- **`var_name`** ： 标量\n",
    "用于“变量”列的名称。如果没有它使用 `frame.columns.name`或`变量`。\n",
    "\n",
    "- **`value_name`** ： 标量，默认值`value`\n",
    "用于“值”列的名称。\n",
    "\n",
    "- **`col_level`** ： `int`或`string`，可选\n",
    "如果列是MultiIndex，则使用此级别进行融合。"
   ]
  },
  {
   "cell_type": "markdown",
   "metadata": {
    "pycharm": {}
   },
   "source": [
    "- From Wide to Long\n",
    "- `df2 = pd.melt(df, id_vars=['unaffected_col', 'unaffected_col', ..], var_name=\"categorical_col\", value_name=\"numerical_col\")`\n",
    "- str.split(str='', num=n)\n",
    "    - str: This is any delimeter, by default it is space.\n",
    "    - num: this is number of lines minus one"
   ]
  },
  {
   "cell_type": "code",
   "execution_count": 10,
   "metadata": {
    "pycharm": {},
    "scrolled": false
   },
   "outputs": [
    {
     "data": {
      "text/html": [
       "<div>\n",
       "<style scoped>\n",
       "    .dataframe tbody tr th:only-of-type {\n",
       "        vertical-align: middle;\n",
       "    }\n",
       "\n",
       "    .dataframe tbody tr th {\n",
       "        vertical-align: top;\n",
       "    }\n",
       "\n",
       "    .dataframe thead th {\n",
       "        text-align: right;\n",
       "    }\n",
       "</style>\n",
       "<table border=\"1\" class=\"dataframe\">\n",
       "  <thead>\n",
       "    <tr style=\"text-align: right;\">\n",
       "      <th></th>\n",
       "      <th>given_name</th>\n",
       "      <th>surname</th>\n",
       "      <th>hba1c_start</th>\n",
       "      <th>hba1c_end</th>\n",
       "      <th>hba1c_change</th>\n",
       "      <th>treatment</th>\n",
       "      <th>does</th>\n",
       "    </tr>\n",
       "  </thead>\n",
       "  <tbody>\n",
       "    <tr>\n",
       "      <th>0</th>\n",
       "      <td>veronika</td>\n",
       "      <td>jindrová</td>\n",
       "      <td>7.63</td>\n",
       "      <td>7.20</td>\n",
       "      <td>NaN</td>\n",
       "      <td>auralin</td>\n",
       "      <td>41u - 48u</td>\n",
       "    </tr>\n",
       "    <tr>\n",
       "      <th>1</th>\n",
       "      <td>elliot</td>\n",
       "      <td>richardson</td>\n",
       "      <td>7.56</td>\n",
       "      <td>7.09</td>\n",
       "      <td>0.97</td>\n",
       "      <td>auralin</td>\n",
       "      <td>-</td>\n",
       "    </tr>\n",
       "    <tr>\n",
       "      <th>2</th>\n",
       "      <td>yukitaka</td>\n",
       "      <td>takenaka</td>\n",
       "      <td>7.68</td>\n",
       "      <td>7.25</td>\n",
       "      <td>NaN</td>\n",
       "      <td>auralin</td>\n",
       "      <td>-</td>\n",
       "    </tr>\n",
       "    <tr>\n",
       "      <th>3</th>\n",
       "      <td>skye</td>\n",
       "      <td>gormanston</td>\n",
       "      <td>7.97</td>\n",
       "      <td>7.62</td>\n",
       "      <td>0.35</td>\n",
       "      <td>auralin</td>\n",
       "      <td>33u - 36u</td>\n",
       "    </tr>\n",
       "    <tr>\n",
       "      <th>4</th>\n",
       "      <td>alissa</td>\n",
       "      <td>montez</td>\n",
       "      <td>7.78</td>\n",
       "      <td>7.46</td>\n",
       "      <td>0.32</td>\n",
       "      <td>auralin</td>\n",
       "      <td>-</td>\n",
       "    </tr>\n",
       "  </tbody>\n",
       "</table>\n",
       "</div>"
      ],
      "text/plain": [
       "  given_name     surname  hba1c_start  hba1c_end  hba1c_change treatment       does\n",
       "0   veronika    jindrová         7.63       7.20           NaN   auralin  41u - 48u\n",
       "1     elliot  richardson         7.56       7.09          0.97   auralin          -\n",
       "2   yukitaka    takenaka         7.68       7.25           NaN   auralin          -\n",
       "3       skye  gormanston         7.97       7.62          0.35   auralin  33u - 36u\n",
       "4     alissa      montez         7.78       7.46          0.32   auralin          -"
      ]
     },
     "execution_count": 10,
     "metadata": {},
     "output_type": "execute_result"
    }
   ],
   "source": [
    "treatments_clean = pd.melt(treatments_clean, \n",
    "                id_vars=['given_name', 'surname', 'hba1c_start', 'hba1c_end', 'hba1c_change'],\n",
    "                var_name = 'treatment', value_name='does')\n",
    "treatments_clean.head()"
   ]
  },
  {
   "cell_type": "code",
   "execution_count": 11,
   "metadata": {},
   "outputs": [
    {
     "data": {
      "text/html": [
       "<div>\n",
       "<style scoped>\n",
       "    .dataframe tbody tr th:only-of-type {\n",
       "        vertical-align: middle;\n",
       "    }\n",
       "\n",
       "    .dataframe tbody tr th {\n",
       "        vertical-align: top;\n",
       "    }\n",
       "\n",
       "    .dataframe thead th {\n",
       "        text-align: right;\n",
       "    }\n",
       "</style>\n",
       "<table border=\"1\" class=\"dataframe\">\n",
       "  <thead>\n",
       "    <tr style=\"text-align: right;\">\n",
       "      <th></th>\n",
       "      <th>given_name</th>\n",
       "      <th>surname</th>\n",
       "      <th>hba1c_start</th>\n",
       "      <th>hba1c_end</th>\n",
       "      <th>hba1c_change</th>\n",
       "      <th>treatment</th>\n",
       "      <th>does</th>\n",
       "    </tr>\n",
       "  </thead>\n",
       "  <tbody>\n",
       "    <tr>\n",
       "      <th>0</th>\n",
       "      <td>veronika</td>\n",
       "      <td>jindrová</td>\n",
       "      <td>7.63</td>\n",
       "      <td>7.20</td>\n",
       "      <td>NaN</td>\n",
       "      <td>auralin</td>\n",
       "      <td>41u - 48u</td>\n",
       "    </tr>\n",
       "    <tr>\n",
       "      <th>3</th>\n",
       "      <td>skye</td>\n",
       "      <td>gormanston</td>\n",
       "      <td>7.97</td>\n",
       "      <td>7.62</td>\n",
       "      <td>0.35</td>\n",
       "      <td>auralin</td>\n",
       "      <td>33u - 36u</td>\n",
       "    </tr>\n",
       "    <tr>\n",
       "      <th>6</th>\n",
       "      <td>sophia</td>\n",
       "      <td>haugen</td>\n",
       "      <td>7.65</td>\n",
       "      <td>7.27</td>\n",
       "      <td>0.38</td>\n",
       "      <td>auralin</td>\n",
       "      <td>37u - 42u</td>\n",
       "    </tr>\n",
       "    <tr>\n",
       "      <th>7</th>\n",
       "      <td>eddie</td>\n",
       "      <td>archer</td>\n",
       "      <td>7.89</td>\n",
       "      <td>7.55</td>\n",
       "      <td>0.34</td>\n",
       "      <td>auralin</td>\n",
       "      <td>31u - 38u</td>\n",
       "    </tr>\n",
       "    <tr>\n",
       "      <th>9</th>\n",
       "      <td>asia</td>\n",
       "      <td>woźniak</td>\n",
       "      <td>7.76</td>\n",
       "      <td>7.37</td>\n",
       "      <td>NaN</td>\n",
       "      <td>auralin</td>\n",
       "      <td>30u - 36u</td>\n",
       "    </tr>\n",
       "  </tbody>\n",
       "</table>\n",
       "</div>"
      ],
      "text/plain": [
       "  given_name     surname  hba1c_start  hba1c_end  hba1c_change treatment       does\n",
       "0   veronika    jindrová         7.63       7.20           NaN   auralin  41u - 48u\n",
       "3       skye  gormanston         7.97       7.62          0.35   auralin  33u - 36u\n",
       "6     sophia      haugen         7.65       7.27          0.38   auralin  37u - 42u\n",
       "7      eddie      archer         7.89       7.55          0.34   auralin  31u - 38u\n",
       "9       asia     woźniak         7.76       7.37           NaN   auralin  30u - 36u"
      ]
     },
     "execution_count": 11,
     "metadata": {},
     "output_type": "execute_result"
    }
   ],
   "source": [
    "treatments_clean = treatments_clean[treatments_clean.does != '-']\n",
    "treatments_clean.head()"
   ]
  },
  {
   "cell_type": "code",
   "execution_count": 12,
   "metadata": {},
   "outputs": [
    {
     "data": {
      "text/html": [
       "<div>\n",
       "<style scoped>\n",
       "    .dataframe tbody tr th:only-of-type {\n",
       "        vertical-align: middle;\n",
       "    }\n",
       "\n",
       "    .dataframe tbody tr th {\n",
       "        vertical-align: top;\n",
       "    }\n",
       "\n",
       "    .dataframe thead th {\n",
       "        text-align: right;\n",
       "    }\n",
       "</style>\n",
       "<table border=\"1\" class=\"dataframe\">\n",
       "  <thead>\n",
       "    <tr style=\"text-align: right;\">\n",
       "      <th></th>\n",
       "      <th>given_name</th>\n",
       "      <th>surname</th>\n",
       "      <th>hba1c_start</th>\n",
       "      <th>hba1c_end</th>\n",
       "      <th>hba1c_change</th>\n",
       "      <th>treatment</th>\n",
       "      <th>does</th>\n",
       "      <th>does_start</th>\n",
       "      <th>does_end</th>\n",
       "    </tr>\n",
       "  </thead>\n",
       "  <tbody>\n",
       "    <tr>\n",
       "      <th>0</th>\n",
       "      <td>veronika</td>\n",
       "      <td>jindrová</td>\n",
       "      <td>7.63</td>\n",
       "      <td>7.20</td>\n",
       "      <td>NaN</td>\n",
       "      <td>auralin</td>\n",
       "      <td>41u - 48u</td>\n",
       "      <td>41u</td>\n",
       "      <td>48u</td>\n",
       "    </tr>\n",
       "    <tr>\n",
       "      <th>3</th>\n",
       "      <td>skye</td>\n",
       "      <td>gormanston</td>\n",
       "      <td>7.97</td>\n",
       "      <td>7.62</td>\n",
       "      <td>0.35</td>\n",
       "      <td>auralin</td>\n",
       "      <td>33u - 36u</td>\n",
       "      <td>33u</td>\n",
       "      <td>36u</td>\n",
       "    </tr>\n",
       "    <tr>\n",
       "      <th>6</th>\n",
       "      <td>sophia</td>\n",
       "      <td>haugen</td>\n",
       "      <td>7.65</td>\n",
       "      <td>7.27</td>\n",
       "      <td>0.38</td>\n",
       "      <td>auralin</td>\n",
       "      <td>37u - 42u</td>\n",
       "      <td>37u</td>\n",
       "      <td>42u</td>\n",
       "    </tr>\n",
       "    <tr>\n",
       "      <th>7</th>\n",
       "      <td>eddie</td>\n",
       "      <td>archer</td>\n",
       "      <td>7.89</td>\n",
       "      <td>7.55</td>\n",
       "      <td>0.34</td>\n",
       "      <td>auralin</td>\n",
       "      <td>31u - 38u</td>\n",
       "      <td>31u</td>\n",
       "      <td>38u</td>\n",
       "    </tr>\n",
       "    <tr>\n",
       "      <th>9</th>\n",
       "      <td>asia</td>\n",
       "      <td>woźniak</td>\n",
       "      <td>7.76</td>\n",
       "      <td>7.37</td>\n",
       "      <td>NaN</td>\n",
       "      <td>auralin</td>\n",
       "      <td>30u - 36u</td>\n",
       "      <td>30u</td>\n",
       "      <td>36u</td>\n",
       "    </tr>\n",
       "  </tbody>\n",
       "</table>\n",
       "</div>"
      ],
      "text/plain": [
       "  given_name     surname  hba1c_start  hba1c_end  hba1c_change treatment       does does_start does_end\n",
       "0   veronika    jindrová         7.63       7.20           NaN   auralin  41u - 48u        41u      48u\n",
       "3       skye  gormanston         7.97       7.62          0.35   auralin  33u - 36u        33u      36u\n",
       "6     sophia      haugen         7.65       7.27          0.38   auralin  37u - 42u        37u      42u\n",
       "7      eddie      archer         7.89       7.55          0.34   auralin  31u - 38u        31u      38u\n",
       "9       asia     woźniak         7.76       7.37           NaN   auralin  30u - 36u        30u      36u"
      ]
     },
     "execution_count": 12,
     "metadata": {},
     "output_type": "execute_result"
    }
   ],
   "source": [
    "treatments_clean['does_start'],treatments_clean['does_end'] = treatments_clean['does'].str.split(' - ', 1).str\n",
    "treatments_clean.head()"
   ]
  },
  {
   "cell_type": "code",
   "execution_count": 13,
   "metadata": {},
   "outputs": [
    {
     "data": {
      "text/html": [
       "<div>\n",
       "<style scoped>\n",
       "    .dataframe tbody tr th:only-of-type {\n",
       "        vertical-align: middle;\n",
       "    }\n",
       "\n",
       "    .dataframe tbody tr th {\n",
       "        vertical-align: top;\n",
       "    }\n",
       "\n",
       "    .dataframe thead th {\n",
       "        text-align: right;\n",
       "    }\n",
       "</style>\n",
       "<table border=\"1\" class=\"dataframe\">\n",
       "  <thead>\n",
       "    <tr style=\"text-align: right;\">\n",
       "      <th></th>\n",
       "      <th>given_name</th>\n",
       "      <th>surname</th>\n",
       "      <th>hba1c_start</th>\n",
       "      <th>hba1c_end</th>\n",
       "      <th>hba1c_change</th>\n",
       "      <th>treatment</th>\n",
       "      <th>does_start</th>\n",
       "      <th>does_end</th>\n",
       "    </tr>\n",
       "  </thead>\n",
       "  <tbody>\n",
       "    <tr>\n",
       "      <th>0</th>\n",
       "      <td>veronika</td>\n",
       "      <td>jindrová</td>\n",
       "      <td>7.63</td>\n",
       "      <td>7.20</td>\n",
       "      <td>NaN</td>\n",
       "      <td>auralin</td>\n",
       "      <td>41u</td>\n",
       "      <td>48u</td>\n",
       "    </tr>\n",
       "    <tr>\n",
       "      <th>3</th>\n",
       "      <td>skye</td>\n",
       "      <td>gormanston</td>\n",
       "      <td>7.97</td>\n",
       "      <td>7.62</td>\n",
       "      <td>0.35</td>\n",
       "      <td>auralin</td>\n",
       "      <td>33u</td>\n",
       "      <td>36u</td>\n",
       "    </tr>\n",
       "    <tr>\n",
       "      <th>6</th>\n",
       "      <td>sophia</td>\n",
       "      <td>haugen</td>\n",
       "      <td>7.65</td>\n",
       "      <td>7.27</td>\n",
       "      <td>0.38</td>\n",
       "      <td>auralin</td>\n",
       "      <td>37u</td>\n",
       "      <td>42u</td>\n",
       "    </tr>\n",
       "    <tr>\n",
       "      <th>7</th>\n",
       "      <td>eddie</td>\n",
       "      <td>archer</td>\n",
       "      <td>7.89</td>\n",
       "      <td>7.55</td>\n",
       "      <td>0.34</td>\n",
       "      <td>auralin</td>\n",
       "      <td>31u</td>\n",
       "      <td>38u</td>\n",
       "    </tr>\n",
       "    <tr>\n",
       "      <th>9</th>\n",
       "      <td>asia</td>\n",
       "      <td>woźniak</td>\n",
       "      <td>7.76</td>\n",
       "      <td>7.37</td>\n",
       "      <td>NaN</td>\n",
       "      <td>auralin</td>\n",
       "      <td>30u</td>\n",
       "      <td>36u</td>\n",
       "    </tr>\n",
       "  </tbody>\n",
       "</table>\n",
       "</div>"
      ],
      "text/plain": [
       "  given_name     surname  hba1c_start  hba1c_end  hba1c_change treatment does_start does_end\n",
       "0   veronika    jindrová         7.63       7.20           NaN   auralin        41u      48u\n",
       "3       skye  gormanston         7.97       7.62          0.35   auralin        33u      36u\n",
       "6     sophia      haugen         7.65       7.27          0.38   auralin        37u      42u\n",
       "7      eddie      archer         7.89       7.55          0.34   auralin        31u      38u\n",
       "9       asia     woźniak         7.76       7.37           NaN   auralin        30u      36u"
      ]
     },
     "execution_count": 13,
     "metadata": {},
     "output_type": "execute_result"
    }
   ],
   "source": [
    "treatments_clean =treatments_clean.drop('does', axis = 1)\n",
    "treatments_clean.head()"
   ]
  },
  {
   "cell_type": "markdown",
   "metadata": {
    "pycharm": {}
   },
   "source": [
    "- 分割`u`,并转换为整数： `Series.str.strip('u').astype(int)`"
   ]
  },
  {
   "cell_type": "code",
   "execution_count": 14,
   "metadata": {
    "pycharm": {}
   },
   "outputs": [
    {
     "data": {
      "text/html": [
       "<div>\n",
       "<style scoped>\n",
       "    .dataframe tbody tr th:only-of-type {\n",
       "        vertical-align: middle;\n",
       "    }\n",
       "\n",
       "    .dataframe tbody tr th {\n",
       "        vertical-align: top;\n",
       "    }\n",
       "\n",
       "    .dataframe thead th {\n",
       "        text-align: right;\n",
       "    }\n",
       "</style>\n",
       "<table border=\"1\" class=\"dataframe\">\n",
       "  <thead>\n",
       "    <tr style=\"text-align: right;\">\n",
       "      <th></th>\n",
       "      <th>given_name</th>\n",
       "      <th>surname</th>\n",
       "      <th>hba1c_start</th>\n",
       "      <th>hba1c_end</th>\n",
       "      <th>hba1c_change</th>\n",
       "      <th>treatment</th>\n",
       "      <th>does_start</th>\n",
       "      <th>does_end</th>\n",
       "    </tr>\n",
       "  </thead>\n",
       "  <tbody>\n",
       "    <tr>\n",
       "      <th>0</th>\n",
       "      <td>veronika</td>\n",
       "      <td>jindrová</td>\n",
       "      <td>7.63</td>\n",
       "      <td>7.20</td>\n",
       "      <td>NaN</td>\n",
       "      <td>auralin</td>\n",
       "      <td>41</td>\n",
       "      <td>48</td>\n",
       "    </tr>\n",
       "    <tr>\n",
       "      <th>3</th>\n",
       "      <td>skye</td>\n",
       "      <td>gormanston</td>\n",
       "      <td>7.97</td>\n",
       "      <td>7.62</td>\n",
       "      <td>0.35</td>\n",
       "      <td>auralin</td>\n",
       "      <td>33</td>\n",
       "      <td>36</td>\n",
       "    </tr>\n",
       "    <tr>\n",
       "      <th>6</th>\n",
       "      <td>sophia</td>\n",
       "      <td>haugen</td>\n",
       "      <td>7.65</td>\n",
       "      <td>7.27</td>\n",
       "      <td>0.38</td>\n",
       "      <td>auralin</td>\n",
       "      <td>37</td>\n",
       "      <td>42</td>\n",
       "    </tr>\n",
       "    <tr>\n",
       "      <th>7</th>\n",
       "      <td>eddie</td>\n",
       "      <td>archer</td>\n",
       "      <td>7.89</td>\n",
       "      <td>7.55</td>\n",
       "      <td>0.34</td>\n",
       "      <td>auralin</td>\n",
       "      <td>31</td>\n",
       "      <td>38</td>\n",
       "    </tr>\n",
       "    <tr>\n",
       "      <th>9</th>\n",
       "      <td>asia</td>\n",
       "      <td>woźniak</td>\n",
       "      <td>7.76</td>\n",
       "      <td>7.37</td>\n",
       "      <td>NaN</td>\n",
       "      <td>auralin</td>\n",
       "      <td>30</td>\n",
       "      <td>36</td>\n",
       "    </tr>\n",
       "  </tbody>\n",
       "</table>\n",
       "</div>"
      ],
      "text/plain": [
       "  given_name     surname  hba1c_start  hba1c_end  hba1c_change treatment  does_start  does_end\n",
       "0   veronika    jindrová         7.63       7.20           NaN   auralin          41        48\n",
       "3       skye  gormanston         7.97       7.62          0.35   auralin          33        36\n",
       "6     sophia      haugen         7.65       7.27          0.38   auralin          37        42\n",
       "7      eddie      archer         7.89       7.55          0.34   auralin          31        38\n",
       "9       asia     woźniak         7.76       7.37           NaN   auralin          30        36"
      ]
     },
     "execution_count": 14,
     "metadata": {},
     "output_type": "execute_result"
    }
   ],
   "source": [
    "treatments_clean.does_start = treatments_clean.does_start.str.strip('u').astype(int)\n",
    "treatments_clean.does_end = treatments_clean.does_end.str.strip('u').astype(int)\n",
    "treatments_clean.head()"
   ]
  },
  {
   "cell_type": "markdown",
   "metadata": {
    "pycharm": {}
   },
   "source": [
    "- `treatments`表，计算剂量改变"
   ]
  },
  {
   "cell_type": "code",
   "execution_count": 15,
   "metadata": {
    "pycharm": {}
   },
   "outputs": [],
   "source": [
    "treatments_clean[\"does_change\"] = treatments_clean[\"does_start\"] - treatments_clean[\"does_end\"]"
   ]
  },
  {
   "cell_type": "code",
   "execution_count": 16,
   "metadata": {
    "pycharm": {}
   },
   "outputs": [
    {
     "data": {
      "text/html": [
       "<div>\n",
       "<style scoped>\n",
       "    .dataframe tbody tr th:only-of-type {\n",
       "        vertical-align: middle;\n",
       "    }\n",
       "\n",
       "    .dataframe tbody tr th {\n",
       "        vertical-align: top;\n",
       "    }\n",
       "\n",
       "    .dataframe thead th {\n",
       "        text-align: right;\n",
       "    }\n",
       "</style>\n",
       "<table border=\"1\" class=\"dataframe\">\n",
       "  <thead>\n",
       "    <tr style=\"text-align: right;\">\n",
       "      <th></th>\n",
       "      <th>given_name</th>\n",
       "      <th>surname</th>\n",
       "      <th>hba1c_start</th>\n",
       "      <th>hba1c_end</th>\n",
       "      <th>hba1c_change</th>\n",
       "      <th>treatment</th>\n",
       "      <th>does_start</th>\n",
       "      <th>does_end</th>\n",
       "      <th>does_change</th>\n",
       "    </tr>\n",
       "  </thead>\n",
       "  <tbody>\n",
       "    <tr>\n",
       "      <th>0</th>\n",
       "      <td>veronika</td>\n",
       "      <td>jindrová</td>\n",
       "      <td>7.63</td>\n",
       "      <td>7.20</td>\n",
       "      <td>NaN</td>\n",
       "      <td>auralin</td>\n",
       "      <td>41</td>\n",
       "      <td>48</td>\n",
       "      <td>-7</td>\n",
       "    </tr>\n",
       "    <tr>\n",
       "      <th>3</th>\n",
       "      <td>skye</td>\n",
       "      <td>gormanston</td>\n",
       "      <td>7.97</td>\n",
       "      <td>7.62</td>\n",
       "      <td>0.35</td>\n",
       "      <td>auralin</td>\n",
       "      <td>33</td>\n",
       "      <td>36</td>\n",
       "      <td>-3</td>\n",
       "    </tr>\n",
       "    <tr>\n",
       "      <th>6</th>\n",
       "      <td>sophia</td>\n",
       "      <td>haugen</td>\n",
       "      <td>7.65</td>\n",
       "      <td>7.27</td>\n",
       "      <td>0.38</td>\n",
       "      <td>auralin</td>\n",
       "      <td>37</td>\n",
       "      <td>42</td>\n",
       "      <td>-5</td>\n",
       "    </tr>\n",
       "    <tr>\n",
       "      <th>7</th>\n",
       "      <td>eddie</td>\n",
       "      <td>archer</td>\n",
       "      <td>7.89</td>\n",
       "      <td>7.55</td>\n",
       "      <td>0.34</td>\n",
       "      <td>auralin</td>\n",
       "      <td>31</td>\n",
       "      <td>38</td>\n",
       "      <td>-7</td>\n",
       "    </tr>\n",
       "    <tr>\n",
       "      <th>9</th>\n",
       "      <td>asia</td>\n",
       "      <td>woźniak</td>\n",
       "      <td>7.76</td>\n",
       "      <td>7.37</td>\n",
       "      <td>NaN</td>\n",
       "      <td>auralin</td>\n",
       "      <td>30</td>\n",
       "      <td>36</td>\n",
       "      <td>-6</td>\n",
       "    </tr>\n",
       "  </tbody>\n",
       "</table>\n",
       "</div>"
      ],
      "text/plain": [
       "  given_name     surname  hba1c_start  hba1c_end  hba1c_change treatment  does_start  does_end  does_change\n",
       "0   veronika    jindrová         7.63       7.20           NaN   auralin          41        48           -7\n",
       "3       skye  gormanston         7.97       7.62          0.35   auralin          33        36           -3\n",
       "6     sophia      haugen         7.65       7.27          0.38   auralin          37        42           -5\n",
       "7      eddie      archer         7.89       7.55          0.34   auralin          31        38           -7\n",
       "9       asia     woźniak         7.76       7.37           NaN   auralin          30        36           -6"
      ]
     },
     "execution_count": 16,
     "metadata": {},
     "output_type": "execute_result"
    }
   ],
   "source": [
    "treatments_clean.head()"
   ]
  },
  {
   "cell_type": "markdown",
   "metadata": {
    "pycharm": {}
   },
   "source": [
    "#### 不良反应表应该是治疗表的一部分"
   ]
  },
  {
   "cell_type": "markdown",
   "metadata": {
    "pycharm": {}
   },
   "source": [
    "- `pd.concat()`: 当有**相同的列名**时\n",
    "    - `df_new = pd.concat([df_a, df_b])`: 垂直堆叠。\n",
    "    - `df_new = pd.concat([df_a, df_b], axis=1)`: 水平堆叠(重复的列)\n",
    "    - `df_a.append(df_b, ignore_index=True)`: stacking vertically.\n",
    "- `pd.merge()`: 当有**不同的列名**时。它需要公共的“key”(ID)列。\n",
    "    - `df_new2 = pd.merge(df_new, df_c, on='id', how='inner'/'outer'/'left'/'right')`\n",
    "- `df.join()`: 当具有**不同的列名**但没有公共的\"键”列和“不同索引”列时。\n",
    "    - `df_new3 = df_new2.join(df_d)`"
   ]
  },
  {
   "cell_type": "code",
   "execution_count": 17,
   "metadata": {
    "pycharm": {},
    "scrolled": true
   },
   "outputs": [
    {
     "data": {
      "text/html": [
       "<div>\n",
       "<style scoped>\n",
       "    .dataframe tbody tr th:only-of-type {\n",
       "        vertical-align: middle;\n",
       "    }\n",
       "\n",
       "    .dataframe tbody tr th {\n",
       "        vertical-align: top;\n",
       "    }\n",
       "\n",
       "    .dataframe thead th {\n",
       "        text-align: right;\n",
       "    }\n",
       "</style>\n",
       "<table border=\"1\" class=\"dataframe\">\n",
       "  <thead>\n",
       "    <tr style=\"text-align: right;\">\n",
       "      <th></th>\n",
       "      <th>given_name</th>\n",
       "      <th>surname</th>\n",
       "      <th>hba1c_start</th>\n",
       "      <th>hba1c_end</th>\n",
       "      <th>hba1c_change</th>\n",
       "      <th>treatment</th>\n",
       "      <th>does_start</th>\n",
       "      <th>does_end</th>\n",
       "      <th>does_change</th>\n",
       "      <th>adverse_reaction</th>\n",
       "    </tr>\n",
       "  </thead>\n",
       "  <tbody>\n",
       "    <tr>\n",
       "      <th>117</th>\n",
       "      <td>arne</td>\n",
       "      <td>jørgensen</td>\n",
       "      <td>9.65</td>\n",
       "      <td>9.31</td>\n",
       "      <td>0.34</td>\n",
       "      <td>auralin</td>\n",
       "      <td>32</td>\n",
       "      <td>43</td>\n",
       "      <td>-11</td>\n",
       "      <td>NaN</td>\n",
       "    </tr>\n",
       "  </tbody>\n",
       "</table>\n",
       "</div>"
      ],
      "text/plain": [
       "    given_name    surname  hba1c_start  hba1c_end  hba1c_change treatment  does_start  does_end  does_change adverse_reaction\n",
       "117       arne  jørgensen         9.65       9.31          0.34   auralin          32        43          -11              NaN"
      ]
     },
     "execution_count": 17,
     "metadata": {},
     "output_type": "execute_result"
    }
   ],
   "source": [
    "treatments_clean = pd.merge(treatments_clean, adverse_reactions_clean, \n",
    "                            on=['given_name', 'surname'], how='left')\n",
    "treatments_clean.sample()"
   ]
  },
  {
   "cell_type": "code",
   "execution_count": 18,
   "metadata": {
    "pycharm": {}
   },
   "outputs": [
    {
     "data": {
      "text/plain": [
       "hypoglycemia                 18\n",
       "headache                      3\n",
       "injection site discomfort     2\n",
       "throat irritation             2\n",
       "cough                         1\n",
       "nausea                        1\n",
       "Name: adverse_reaction, dtype: int64"
      ]
     },
     "execution_count": 18,
     "metadata": {},
     "output_type": "execute_result"
    }
   ],
   "source": [
    "treatments_clean.adverse_reaction.value_counts()"
   ]
  },
  {
   "cell_type": "markdown",
   "metadata": {
    "pycharm": {}
   },
   "source": [
    "#### 在患者，治疗和不良反应表中，“given_name”和“surname”栏是重复的\n",
    "`df.drop(['row_a', 'row_b'])`: 根据列名删除列  \n",
    "\n",
    "`df.frop(df.index[0], inplace = True)`: 根据索引删除列\n",
    "\n",
    "`df.drop['col_c'], axis=1, inplace = True`：根据列名删除列"
   ]
  },
  {
   "cell_type": "code",
   "execution_count": 19,
   "metadata": {
    "pycharm": {}
   },
   "outputs": [
    {
     "name": "stderr",
     "output_type": "stream",
     "text": [
      "/opt/conda/lib/python3.7/site-packages/ipykernel_launcher.py:2: SettingWithCopyWarning: \n",
      "A value is trying to be set on a copy of a slice from a DataFrame.\n",
      "Try using .loc[row_indexer,col_indexer] = value instead\n",
      "\n",
      "See the caveats in the documentation: http://pandas.pydata.org/pandas-docs/stable/indexing.html#indexing-view-versus-copy\n",
      "  \n",
      "/opt/conda/lib/python3.7/site-packages/ipykernel_launcher.py:3: SettingWithCopyWarning: \n",
      "A value is trying to be set on a copy of a slice from a DataFrame.\n",
      "Try using .loc[row_indexer,col_indexer] = value instead\n",
      "\n",
      "See the caveats in the documentation: http://pandas.pydata.org/pandas-docs/stable/indexing.html#indexing-view-versus-copy\n",
      "  This is separate from the ipykernel package so we can avoid doing imports until\n"
     ]
    }
   ],
   "source": [
    "id_names = patients_clean[['patient_id', 'given_name', 'surname']]\n",
    "id_names['given_name'] = id_names['given_name'].str.lower()\n",
    "id_names['surname'] = id_names['surname'].str.lower()\n",
    "treatments_clean = pd.merge(treatments_clean, id_names, on=['given_name', 'surname'])\n",
    "treatments_clean = treatments_clean.drop(['given_name', 'surname'], axis=1)"
   ]
  },
  {
   "cell_type": "markdown",
   "metadata": {
    "pycharm": {}
   },
   "source": [
    "#### Patient ID 应该为单独列，不能重复"
   ]
  },
  {
   "cell_type": "code",
   "execution_count": 20,
   "metadata": {
    "pycharm": {},
    "scrolled": true
   },
   "outputs": [
    {
     "data": {
      "text/plain": [
       "0           patient_id\n",
       "1         assigned_sex\n",
       "2           given_name\n",
       "3              surname\n",
       "4              address\n",
       "5                 city\n",
       "6                state\n",
       "7             zip_code\n",
       "8              country\n",
       "9            birthdate\n",
       "10              weight\n",
       "11              height\n",
       "12                 bmi\n",
       "13        phone_number\n",
       "14               email\n",
       "15         hba1c_start\n",
       "16           hba1c_end\n",
       "17        hba1c_change\n",
       "18           treatment\n",
       "19          does_start\n",
       "20            does_end\n",
       "21         does_change\n",
       "22    adverse_reaction\n",
       "23          patient_id\n",
       "dtype: object"
      ]
     },
     "execution_count": 20,
     "metadata": {},
     "output_type": "execute_result"
    }
   ],
   "source": [
    "all_colums = pd.Series(list(patients_clean) + list(treatments_clean))\n",
    "all_colums"
   ]
  },
  {
   "cell_type": "code",
   "execution_count": 21,
   "metadata": {},
   "outputs": [
    {
     "data": {
      "text/plain": [
       "23    patient_id\n",
       "dtype: object"
      ]
     },
     "execution_count": 21,
     "metadata": {},
     "output_type": "execute_result"
    }
   ],
   "source": [
    "all_colums[all_colums.duplicated()]"
   ]
  },
  {
   "cell_type": "markdown",
   "metadata": {
    "pycharm": {}
   },
   "source": [
    "### Clean for [Quality]"
   ]
  },
  {
   "cell_type": "markdown",
   "metadata": {
    "pycharm": {}
   },
   "source": [
    "#### 修复缺失值1"
   ]
  },
  {
   "cell_type": "markdown",
   "metadata": {
    "pycharm": {}
   },
   "source": [
    "- `treatments`表中，丢失数据(应该350名患者，实际280)  \n",
    "   - 假设丢失的数据存储在我们本地名为`treatments_cut`的df中。  \n",
    "   - 一般来说，我们使用`df.dropna(subset=['col','col'...], inplace=True)`   \n",
    "   -  => “treatments_cut.csv”导入数据帧，并将其与原始治疗数据帧连接。"
   ]
  },
  {
   "cell_type": "code",
   "execution_count": 22,
   "metadata": {
    "pycharm": {}
   },
   "outputs": [],
   "source": [
    "# treatments_cut = pd.read_csv('treatments.csv')"
   ]
  },
  {
   "cell_type": "code",
   "execution_count": 23,
   "metadata": {
    "pycharm": {}
   },
   "outputs": [],
   "source": [
    "# treatments_clean = pd.concat([treatments_clean, treatments_cut], ignore_index= True)\n",
    "# treatments_clean"
   ]
  },
  {
   "cell_type": "markdown",
   "metadata": {
    "pycharm": {}
   },
   "source": [
    "- `treatments`表中，缺少`hba1c_change` \n",
    "    - => 重新计算`hba1c_change`列: `hba1c_start` - `hba1c_end`"
   ]
  },
  {
   "cell_type": "code",
   "execution_count": 24,
   "metadata": {
    "pycharm": {}
   },
   "outputs": [
    {
     "data": {
      "text/html": [
       "<div>\n",
       "<style scoped>\n",
       "    .dataframe tbody tr th:only-of-type {\n",
       "        vertical-align: middle;\n",
       "    }\n",
       "\n",
       "    .dataframe tbody tr th {\n",
       "        vertical-align: top;\n",
       "    }\n",
       "\n",
       "    .dataframe thead th {\n",
       "        text-align: right;\n",
       "    }\n",
       "</style>\n",
       "<table border=\"1\" class=\"dataframe\">\n",
       "  <thead>\n",
       "    <tr style=\"text-align: right;\">\n",
       "      <th></th>\n",
       "      <th>hba1c_start</th>\n",
       "      <th>hba1c_end</th>\n",
       "      <th>hba1c_change</th>\n",
       "      <th>treatment</th>\n",
       "      <th>does_start</th>\n",
       "      <th>does_end</th>\n",
       "      <th>does_change</th>\n",
       "      <th>adverse_reaction</th>\n",
       "      <th>patient_id</th>\n",
       "    </tr>\n",
       "  </thead>\n",
       "  <tbody>\n",
       "    <tr>\n",
       "      <th>0</th>\n",
       "      <td>7.63</td>\n",
       "      <td>7.20</td>\n",
       "      <td>0.43</td>\n",
       "      <td>auralin</td>\n",
       "      <td>41</td>\n",
       "      <td>48</td>\n",
       "      <td>-7</td>\n",
       "      <td>NaN</td>\n",
       "      <td>225</td>\n",
       "    </tr>\n",
       "    <tr>\n",
       "      <th>1</th>\n",
       "      <td>7.97</td>\n",
       "      <td>7.62</td>\n",
       "      <td>0.35</td>\n",
       "      <td>auralin</td>\n",
       "      <td>33</td>\n",
       "      <td>36</td>\n",
       "      <td>-3</td>\n",
       "      <td>NaN</td>\n",
       "      <td>242</td>\n",
       "    </tr>\n",
       "    <tr>\n",
       "      <th>2</th>\n",
       "      <td>7.65</td>\n",
       "      <td>7.27</td>\n",
       "      <td>0.38</td>\n",
       "      <td>auralin</td>\n",
       "      <td>37</td>\n",
       "      <td>42</td>\n",
       "      <td>-5</td>\n",
       "      <td>NaN</td>\n",
       "      <td>345</td>\n",
       "    </tr>\n",
       "    <tr>\n",
       "      <th>3</th>\n",
       "      <td>7.89</td>\n",
       "      <td>7.55</td>\n",
       "      <td>0.34</td>\n",
       "      <td>auralin</td>\n",
       "      <td>31</td>\n",
       "      <td>38</td>\n",
       "      <td>-7</td>\n",
       "      <td>NaN</td>\n",
       "      <td>276</td>\n",
       "    </tr>\n",
       "    <tr>\n",
       "      <th>4</th>\n",
       "      <td>7.76</td>\n",
       "      <td>7.37</td>\n",
       "      <td>0.39</td>\n",
       "      <td>auralin</td>\n",
       "      <td>30</td>\n",
       "      <td>36</td>\n",
       "      <td>-6</td>\n",
       "      <td>NaN</td>\n",
       "      <td>15</td>\n",
       "    </tr>\n",
       "  </tbody>\n",
       "</table>\n",
       "</div>"
      ],
      "text/plain": [
       "   hba1c_start  hba1c_end  hba1c_change treatment  does_start  does_end  does_change adverse_reaction  patient_id\n",
       "0         7.63       7.20          0.43   auralin          41        48           -7              NaN         225\n",
       "1         7.97       7.62          0.35   auralin          33        36           -3              NaN         242\n",
       "2         7.65       7.27          0.38   auralin          37        42           -5              NaN         345\n",
       "3         7.89       7.55          0.34   auralin          31        38           -7              NaN         276\n",
       "4         7.76       7.37          0.39   auralin          30        36           -6              NaN          15"
      ]
     },
     "execution_count": 24,
     "metadata": {},
     "output_type": "execute_result"
    }
   ],
   "source": [
    "treatments_clean.hba1c_change = (treatments_clean.hba1c_start - treatments_clean.hba1c_end)\n",
    "treatments_clean.head()"
   ]
  },
  {
   "cell_type": "markdown",
   "metadata": {
    "pycharm": {}
   },
   "source": [
    "#### 修复数据类型"
   ]
  },
  {
   "cell_type": "markdown",
   "metadata": {
    "pycharm": {}
   },
   "source": [
    " - `patients`表中\n",
    "     - => 将邮政编码列的数据类型从浮点数转换为字符串使用`Series.astype()`\n",
    "     - => 使用字符串切片`str[:-2]`删除`“.0”`，并使用前导0填充四位数邮政编码\n",
    "         - `Series.str.pad(width, side='left', fillchar='')`:用附加字符填充序列中的字符串到指定的一侧。\n",
    "             - `width`:结果字符串的最小宽度；其他字符将用空格填充。\n",
    "             -  我们期望字符串宽度为5。如果小于5，用“0”填充，使其成为“5”。"
   ]
  },
  {
   "cell_type": "code",
   "execution_count": 25,
   "metadata": {
    "pycharm": {},
    "scrolled": false
   },
   "outputs": [
    {
     "data": {
      "text/plain": [
       "0000n    12\n",
       "12345     6\n",
       "30303     4\n",
       "10004     4\n",
       "98109     3\n",
       "15205     3\n",
       "35203     3\n",
       "70112     3\n",
       "10011     3\n",
       "11530     3\n",
       "90017     3\n",
       "01730     3\n",
       "11590     3\n",
       "60148     3\n",
       "39501     2\n",
       "19108     2\n",
       "02110     2\n",
       "34471     2\n",
       "11227     2\n",
       "40507     2\n",
       "10016     2\n",
       "97205     2\n",
       "13221     2\n",
       "73102     2\n",
       "33323     2\n",
       "12207     2\n",
       "70001     2\n",
       "95814     2\n",
       "25962     2\n",
       "60605     2\n",
       "         ..\n",
       "38118     1\n",
       "77002     1\n",
       "90014     1\n",
       "40244     1\n",
       "21222     1\n",
       "61880     1\n",
       "03833     1\n",
       "46065     1\n",
       "98052     1\n",
       "76011     1\n",
       "75601     1\n",
       "22958     1\n",
       "06450     1\n",
       "61812     1\n",
       "48066     1\n",
       "30601     1\n",
       "99111     1\n",
       "76102     1\n",
       "29420     1\n",
       "52801     1\n",
       "95826     1\n",
       "60115     1\n",
       "07304     1\n",
       "65001     1\n",
       "94070     1\n",
       "84728     1\n",
       "70113     1\n",
       "62522     1\n",
       "28716     1\n",
       "37618     1\n",
       "Name: zip_code, Length: 431, dtype: int64"
      ]
     },
     "execution_count": 25,
     "metadata": {},
     "output_type": "execute_result"
    }
   ],
   "source": [
    "patients_clean.zip_code = patients_clean.zip_code.astype(str).str[:-2].str.pad(5, fillchar='0') \n",
    "patients_clean.zip_code.value_counts()"
   ]
  },
  {
   "cell_type": "markdown",
   "metadata": {
    "pycharm": {}
   },
   "source": [
    "![title](https://raw.githubusercontent.com/hufe09/GitNote-Images/master/gitnote/2019/04/25/1556207488282-1556207488682.png)"
   ]
  },
  {
   "cell_type": "markdown",
   "metadata": {
    "pycharm": {}
   },
   "source": [
    "- => Reconvert NaNs entries that were converted to '0000n' by code above.\n",
    "    - np.nan is \"NaN\" in python"
   ]
  },
  {
   "cell_type": "code",
   "execution_count": 26,
   "metadata": {
    "pycharm": {},
    "scrolled": false
   },
   "outputs": [
    {
     "data": {
      "text/plain": [
       "12345    6\n",
       "30303    4\n",
       "10004    4\n",
       "10011    3\n",
       "01730    3\n",
       "35203    3\n",
       "60148    3\n",
       "98109    3\n",
       "11530    3\n",
       "90017    3\n",
       "70112    3\n",
       "11590    3\n",
       "15205    3\n",
       "74116    2\n",
       "19108    2\n",
       "12207    2\n",
       "02081    2\n",
       "60605    2\n",
       "73102    2\n",
       "25962    2\n",
       "02908    2\n",
       "34471    2\n",
       "94108    2\n",
       "10001    2\n",
       "02110    2\n",
       "97205    2\n",
       "70001    2\n",
       "40507    2\n",
       "39501    2\n",
       "12771    2\n",
       "        ..\n",
       "38118    1\n",
       "77002    1\n",
       "90014    1\n",
       "40244    1\n",
       "45402    1\n",
       "61880    1\n",
       "98052    1\n",
       "03833    1\n",
       "76011    1\n",
       "75601    1\n",
       "22958    1\n",
       "06450    1\n",
       "61812    1\n",
       "48066    1\n",
       "30601    1\n",
       "99111    1\n",
       "76102    1\n",
       "29420    1\n",
       "52801    1\n",
       "95826    1\n",
       "60115    1\n",
       "07304    1\n",
       "65001    1\n",
       "94070    1\n",
       "84728    1\n",
       "70113    1\n",
       "62522    1\n",
       "28716    1\n",
       "46065    1\n",
       "37618    1\n",
       "Name: zip_code, Length: 430, dtype: int64"
      ]
     },
     "execution_count": 26,
     "metadata": {},
     "output_type": "execute_result"
    }
   ],
   "source": [
    "patients_clean.zip_code = patients_clean.zip_code.replace('0000n', np.nan)\n",
    "patients_clean.zip_code.value_counts()"
   ]
  },
  {
   "cell_type": "markdown",
   "metadata": {
    "pycharm": {}
   },
   "source": [
    "- `patients` 表: `assigned_sex`, `state`, `zip_code`, and `birthdate` 数据类型错误\n",
    "- 在`treatments`表中，auranlin and novodra列在开始和结束剂量中带有不必要的字母`u`。\n",
    "     - => 将`assigned_sex`和`state`转换为分类数据类型。\n",
    "     \n",
    "     上面已经解决了`zip_code`数据类型。\n",
    "     \n",
    "     将“生日”转换为日期时间数据类型。\n",
    "     \n",
    "     在开始剂量和结束剂量中去掉字母`u`，并将这些列转换为数据类型整数。\n",
    "     - `str()` 单个字符串\n",
    "     - `.astype(str)` 字符串集"
   ]
  },
  {
   "cell_type": "markdown",
   "metadata": {
    "pycharm": {}
   },
   "source": [
    "转换为分类类型：`Series.astype('category')`"
   ]
  },
  {
   "cell_type": "code",
   "execution_count": 27,
   "metadata": {
    "pycharm": {}
   },
   "outputs": [],
   "source": [
    "patients_clean.assigned_sex = patients_clean.assigned_sex.astype('category')\n",
    "patients_clean.state = patients_clean.state.astype('category')"
   ]
  },
  {
   "cell_type": "markdown",
   "metadata": {
    "pycharm": {}
   },
   "source": [
    "转换为日期格式： `pd.to_datetime(Series)`"
   ]
  },
  {
   "cell_type": "code",
   "execution_count": 28,
   "metadata": {
    "pycharm": {}
   },
   "outputs": [],
   "source": [
    "patients_clean.birthdate = pd.to_datetime(patients_clean.birthdate)"
   ]
  },
  {
   "cell_type": "code",
   "execution_count": 29,
   "metadata": {
    "pycharm": {}
   },
   "outputs": [
    {
     "data": {
      "text/html": [
       "<div>\n",
       "<style scoped>\n",
       "    .dataframe tbody tr th:only-of-type {\n",
       "        vertical-align: middle;\n",
       "    }\n",
       "\n",
       "    .dataframe tbody tr th {\n",
       "        vertical-align: top;\n",
       "    }\n",
       "\n",
       "    .dataframe thead th {\n",
       "        text-align: right;\n",
       "    }\n",
       "</style>\n",
       "<table border=\"1\" class=\"dataframe\">\n",
       "  <thead>\n",
       "    <tr style=\"text-align: right;\">\n",
       "      <th></th>\n",
       "      <th>hba1c_start</th>\n",
       "      <th>hba1c_end</th>\n",
       "      <th>hba1c_change</th>\n",
       "      <th>treatment</th>\n",
       "      <th>does_start</th>\n",
       "      <th>does_end</th>\n",
       "      <th>does_change</th>\n",
       "      <th>adverse_reaction</th>\n",
       "      <th>patient_id</th>\n",
       "    </tr>\n",
       "  </thead>\n",
       "  <tbody>\n",
       "    <tr>\n",
       "      <th>0</th>\n",
       "      <td>7.63</td>\n",
       "      <td>7.20</td>\n",
       "      <td>0.43</td>\n",
       "      <td>auralin</td>\n",
       "      <td>41</td>\n",
       "      <td>48</td>\n",
       "      <td>-7</td>\n",
       "      <td>NaN</td>\n",
       "      <td>225</td>\n",
       "    </tr>\n",
       "    <tr>\n",
       "      <th>1</th>\n",
       "      <td>7.97</td>\n",
       "      <td>7.62</td>\n",
       "      <td>0.35</td>\n",
       "      <td>auralin</td>\n",
       "      <td>33</td>\n",
       "      <td>36</td>\n",
       "      <td>-3</td>\n",
       "      <td>NaN</td>\n",
       "      <td>242</td>\n",
       "    </tr>\n",
       "    <tr>\n",
       "      <th>2</th>\n",
       "      <td>7.65</td>\n",
       "      <td>7.27</td>\n",
       "      <td>0.38</td>\n",
       "      <td>auralin</td>\n",
       "      <td>37</td>\n",
       "      <td>42</td>\n",
       "      <td>-5</td>\n",
       "      <td>NaN</td>\n",
       "      <td>345</td>\n",
       "    </tr>\n",
       "    <tr>\n",
       "      <th>3</th>\n",
       "      <td>7.89</td>\n",
       "      <td>7.55</td>\n",
       "      <td>0.34</td>\n",
       "      <td>auralin</td>\n",
       "      <td>31</td>\n",
       "      <td>38</td>\n",
       "      <td>-7</td>\n",
       "      <td>NaN</td>\n",
       "      <td>276</td>\n",
       "    </tr>\n",
       "    <tr>\n",
       "      <th>4</th>\n",
       "      <td>7.76</td>\n",
       "      <td>7.37</td>\n",
       "      <td>0.39</td>\n",
       "      <td>auralin</td>\n",
       "      <td>30</td>\n",
       "      <td>36</td>\n",
       "      <td>-6</td>\n",
       "      <td>NaN</td>\n",
       "      <td>15</td>\n",
       "    </tr>\n",
       "  </tbody>\n",
       "</table>\n",
       "</div>"
      ],
      "text/plain": [
       "   hba1c_start  hba1c_end  hba1c_change treatment  does_start  does_end  does_change adverse_reaction  patient_id\n",
       "0         7.63       7.20          0.43   auralin          41        48           -7              NaN         225\n",
       "1         7.97       7.62          0.35   auralin          33        36           -3              NaN         242\n",
       "2         7.65       7.27          0.38   auralin          37        42           -5              NaN         345\n",
       "3         7.89       7.55          0.34   auralin          31        38           -7              NaN         276\n",
       "4         7.76       7.37          0.39   auralin          30        36           -6              NaN          15"
      ]
     },
     "execution_count": 29,
     "metadata": {},
     "output_type": "execute_result"
    }
   ],
   "source": [
    "treatments_clean.head()"
   ]
  },
  {
   "cell_type": "code",
   "execution_count": 30,
   "metadata": {
    "pycharm": {}
   },
   "outputs": [
    {
     "data": {
      "text/html": [
       "<div>\n",
       "<style scoped>\n",
       "    .dataframe tbody tr th:only-of-type {\n",
       "        vertical-align: middle;\n",
       "    }\n",
       "\n",
       "    .dataframe tbody tr th {\n",
       "        vertical-align: top;\n",
       "    }\n",
       "\n",
       "    .dataframe thead th {\n",
       "        text-align: right;\n",
       "    }\n",
       "</style>\n",
       "<table border=\"1\" class=\"dataframe\">\n",
       "  <thead>\n",
       "    <tr style=\"text-align: right;\">\n",
       "      <th></th>\n",
       "      <th>patient_id</th>\n",
       "      <th>assigned_sex</th>\n",
       "      <th>given_name</th>\n",
       "      <th>surname</th>\n",
       "      <th>address</th>\n",
       "      <th>city</th>\n",
       "      <th>state</th>\n",
       "      <th>zip_code</th>\n",
       "      <th>country</th>\n",
       "      <th>birthdate</th>\n",
       "      <th>weight</th>\n",
       "      <th>height</th>\n",
       "      <th>bmi</th>\n",
       "      <th>phone_number</th>\n",
       "      <th>email</th>\n",
       "    </tr>\n",
       "  </thead>\n",
       "  <tbody>\n",
       "    <tr>\n",
       "      <th>0</th>\n",
       "      <td>1</td>\n",
       "      <td>female</td>\n",
       "      <td>Zoe</td>\n",
       "      <td>Wellish</td>\n",
       "      <td>576 Brown Bear Drive</td>\n",
       "      <td>Rancho California</td>\n",
       "      <td>California</td>\n",
       "      <td>92390</td>\n",
       "      <td>United States</td>\n",
       "      <td>1976-07-10</td>\n",
       "      <td>121.7</td>\n",
       "      <td>66</td>\n",
       "      <td>19.6</td>\n",
       "      <td>951-719-9170</td>\n",
       "      <td>ZoeWellish@superrito.com</td>\n",
       "    </tr>\n",
       "    <tr>\n",
       "      <th>1</th>\n",
       "      <td>2</td>\n",
       "      <td>female</td>\n",
       "      <td>Pamela</td>\n",
       "      <td>Hill</td>\n",
       "      <td>2370 University Hill Road</td>\n",
       "      <td>Armstrong</td>\n",
       "      <td>Illinois</td>\n",
       "      <td>61812</td>\n",
       "      <td>United States</td>\n",
       "      <td>1967-04-03</td>\n",
       "      <td>118.8</td>\n",
       "      <td>66</td>\n",
       "      <td>19.2</td>\n",
       "      <td>+1 (217) 569-3204</td>\n",
       "      <td>PamelaSHill@cuvox.de</td>\n",
       "    </tr>\n",
       "    <tr>\n",
       "      <th>2</th>\n",
       "      <td>3</td>\n",
       "      <td>male</td>\n",
       "      <td>Jae</td>\n",
       "      <td>Debord</td>\n",
       "      <td>1493 Poling Farm Road</td>\n",
       "      <td>York</td>\n",
       "      <td>Nebraska</td>\n",
       "      <td>68467</td>\n",
       "      <td>United States</td>\n",
       "      <td>1980-02-19</td>\n",
       "      <td>177.8</td>\n",
       "      <td>71</td>\n",
       "      <td>24.8</td>\n",
       "      <td>402-363-6804</td>\n",
       "      <td>JaeMDebord@gustr.com</td>\n",
       "    </tr>\n",
       "    <tr>\n",
       "      <th>3</th>\n",
       "      <td>4</td>\n",
       "      <td>male</td>\n",
       "      <td>Liêm</td>\n",
       "      <td>Phan</td>\n",
       "      <td>2335 Webster Street</td>\n",
       "      <td>Woodbridge</td>\n",
       "      <td>NJ</td>\n",
       "      <td>07095</td>\n",
       "      <td>United States</td>\n",
       "      <td>1951-07-26</td>\n",
       "      <td>220.9</td>\n",
       "      <td>70</td>\n",
       "      <td>31.7</td>\n",
       "      <td>+1 (732) 636-8246</td>\n",
       "      <td>PhanBaLiem@jourrapide.com</td>\n",
       "    </tr>\n",
       "    <tr>\n",
       "      <th>4</th>\n",
       "      <td>5</td>\n",
       "      <td>male</td>\n",
       "      <td>Tim</td>\n",
       "      <td>Neudorf</td>\n",
       "      <td>1428 Turkey Pen Lane</td>\n",
       "      <td>Dothan</td>\n",
       "      <td>AL</td>\n",
       "      <td>36303</td>\n",
       "      <td>United States</td>\n",
       "      <td>1928-02-18</td>\n",
       "      <td>192.3</td>\n",
       "      <td>27</td>\n",
       "      <td>26.1</td>\n",
       "      <td>334-515-7487</td>\n",
       "      <td>TimNeudorf@cuvox.de</td>\n",
       "    </tr>\n",
       "  </tbody>\n",
       "</table>\n",
       "</div>"
      ],
      "text/plain": [
       "   patient_id assigned_sex given_name  surname                    address               city       state zip_code        country  birthdate  weight  height   bmi       phone_number                      email\n",
       "0           1       female        Zoe  Wellish       576 Brown Bear Drive  Rancho California  California    92390  United States 1976-07-10   121.7      66  19.6       951-719-9170   ZoeWellish@superrito.com\n",
       "1           2       female     Pamela     Hill  2370 University Hill Road          Armstrong    Illinois    61812  United States 1967-04-03   118.8      66  19.2  +1 (217) 569-3204       PamelaSHill@cuvox.de\n",
       "2           3         male        Jae   Debord      1493 Poling Farm Road               York    Nebraska    68467  United States 1980-02-19   177.8      71  24.8       402-363-6804       JaeMDebord@gustr.com\n",
       "3           4         male       Liêm     Phan        2335 Webster Street         Woodbridge          NJ    07095  United States 1951-07-26   220.9      70  31.7  +1 (732) 636-8246  PhanBaLiem@jourrapide.com\n",
       "4           5         male        Tim  Neudorf       1428 Turkey Pen Lane             Dothan          AL    36303  United States 1928-02-18   192.3      27  26.1       334-515-7487        TimNeudorf@cuvox.de"
      ]
     },
     "execution_count": 30,
     "metadata": {},
     "output_type": "execute_result"
    }
   ],
   "source": [
    "patients_clean.head()"
   ]
  },
  {
   "cell_type": "markdown",
   "metadata": {
    "pycharm": {}
   },
   "source": [
    "#### 修复缺失值2"
   ]
  },
  {
   "cell_type": "markdown",
   "metadata": {
    "pycharm": {}
   },
   "source": [
    "1. 患者身高值不正确（例如，Tim Neudorf身高27英寸而不是72英寸）  \n",
    "    => 将患者表格中高度为27英寸(只有一个)的行的高度替换为72英寸\n",
    "    - `Series.replace(oldvalue, newvalue)`\n",
    "2. state不一致(有时是完整的州名，有时是缩写)  \n",
    "    => 应用将California, New York, Illinois, Florida, and Nebraska的全名转换为缩写的函数\n",
    "    - `if Series in DICT.keys():`\n",
    "    - `df.apply(func, axis=1)`\n",
    "3. Dsvid 拼写错误，应该是David  \n",
    "    => 将患者表中给定名称为“Dsvid”的行的名字替换为“David”\n",
    "    - `Series.replace(oldvalue, newvalue)`\n",
    "4. 话号码格式不一致  \n",
    "    => 去掉所有\" \"、\"-\"、\"(\"、\")和\"+\"，并存储每个数字，不进行任何格式化。如果电话号码的长度是10位数字(我们需要国家代码)，请用1填充电话号码\n",
    "    - `Series.str.replace(r'\\D+', '').str.pad(11, fillchar='1')`\n",
    "5. 有不可恢复的无名字的记录  \n",
    "    => 从患者表中删除不可恢复的John Doe记录记录\n",
    "    - `df = df[Series != value]`\n",
    "6. Jakobsen, Gersten, Taylor有多项记录  \n",
    "     => 将akobsen, Gersten, Taylor从患者表中移除，这些昵称碰巧也不在治疗表中(删除错误的名称会在患者和治疗表之间产生一致性问题)。这些都是重复的第二次出现。这些也是唯一出现的非空重复地址\n",
    "     - tilde(~) 表示no\n",
    "     - `df = df[~(Series.duplicated()) & Series.notnull]`\n",
    "7. Zaitseva的重量用“kgs”而不是“lbs”（磅）  \n",
    "    => 使用高级索引隔离姓为Zaitseva的行，并将`weight`字段中的条目从kg转换为lbs\n",
    "    - `df.loc[row_index, column_index] = a value we want`\n",
    "    - `df.loc[selection criteria, columns i want] = a value we want`\n",
    "    - `df.loc[selection criteria, a list of cols] df.loc[selection criteria, a list of cols].values(+, -, *, / ... a calculation I want)`"
   ]
  },
  {
   "cell_type": "markdown",
   "metadata": {
    "pycharm": {}
   },
   "source": [
    "=> 1. 患者身高值不正确（例如，Tim Neudorf身高27英寸而不是72英寸）"
   ]
  },
  {
   "cell_type": "code",
   "execution_count": 31,
   "metadata": {
    "pycharm": {}
   },
   "outputs": [],
   "source": [
    "patients_clean.height = patients_clean.replace(27, 72)"
   ]
  },
  {
   "cell_type": "markdown",
   "metadata": {
    "pycharm": {}
   },
   "source": [
    "=> 2. 应用将California, New York, Illinois, Florida, and Nebraska的全名转换为缩写的函数"
   ]
  },
  {
   "cell_type": "code",
   "execution_count": 32,
   "metadata": {
    "pycharm": {}
   },
   "outputs": [
    {
     "data": {
      "text/plain": [
       "CA    60\n",
       "NY    47\n",
       "TX    32\n",
       "IL    24\n",
       "FL    22\n",
       "MA    22\n",
       "PA    18\n",
       "GA    15\n",
       "OH    14\n",
       "MI    13\n",
       "OK    13\n",
       "LA    13\n",
       "NJ    12\n",
       "VA    11\n",
       "MS    10\n",
       "WI    10\n",
       "AL     9\n",
       "TN     9\n",
       "IN     9\n",
       "MN     9\n",
       "NC     8\n",
       "KY     8\n",
       "WA     8\n",
       "MO     7\n",
       "NV     6\n",
       "NE     6\n",
       "KS     6\n",
       "ID     6\n",
       "CT     5\n",
       "SC     5\n",
       "IA     5\n",
       "AZ     4\n",
       "RI     4\n",
       "CO     4\n",
       "AR     4\n",
       "ND     4\n",
       "ME     4\n",
       "OR     3\n",
       "WV     3\n",
       "MD     3\n",
       "SD     3\n",
       "DE     3\n",
       "VT     2\n",
       "MT     2\n",
       "DC     2\n",
       "AK     1\n",
       "NH     1\n",
       "NM     1\n",
       "WY     1\n",
       "Name: state, dtype: int64"
      ]
     },
     "execution_count": 32,
     "metadata": {},
     "output_type": "execute_result"
    }
   ],
   "source": [
    "state_abbrev = {'California': 'CA', \n",
    "                'New York': 'NY', \n",
    "                'Illinois': 'IL', \n",
    "                'Florida': 'FL', \n",
    "                'Nebraska':'NE'}\n",
    "\n",
    "def abbreviate_state(df):\n",
    "    if df['state'] in state_abbrev.keys():\n",
    "        abbrev = state_abbrev[df['state']]\n",
    "        return abbrev\n",
    "    else:\n",
    "        return df['state']\n",
    "\n",
    "patients_clean['state'] = patients_clean.apply(abbreviate_state, axis=1)\n",
    "\n",
    "patients_clean.state.value_counts()"
   ]
  },
  {
   "cell_type": "code",
   "execution_count": 33,
   "metadata": {
    "pycharm": {}
   },
   "outputs": [
    {
     "data": {
      "text/plain": [
       "array(['CA', 'IL', 'NE', 'NJ', 'AL', 'FL', 'NV', 'MO', 'NY', 'MI', 'TN',\n",
       "       'VA', 'OK', 'GA', 'MT', 'MA', 'NM', 'LA', 'PA', 'CO', 'ME', 'WI',\n",
       "       'SD', 'MN', 'WY', 'OH', 'IA', 'NC', 'IN', 'CT', 'KY', 'DE', 'MD',\n",
       "       'AZ', 'TX', 'AK', 'ND', 'KS', 'MS', 'WA', 'SC', 'WV', 'RI', 'NH',\n",
       "       'OR', nan, 'VT', 'ID', 'DC', 'AR'], dtype=object)"
      ]
     },
     "execution_count": 33,
     "metadata": {},
     "output_type": "execute_result"
    }
   ],
   "source": [
    "patients_clean.state.unique()"
   ]
  },
  {
   "cell_type": "markdown",
   "metadata": {
    "pycharm": {}
   },
   "source": [
    "=> 3. 将患者表中给定名称为“Dsvid”的行的名字替换为“David”"
   ]
  },
  {
   "cell_type": "code",
   "execution_count": 34,
   "metadata": {
    "pycharm": {}
   },
   "outputs": [],
   "source": [
    "patients_clean.given_name = patients_clean.given_name.replace('Dsvid', 'David')"
   ]
  },
  {
   "cell_type": "markdown",
   "metadata": {
    "pycharm": {}
   },
   "source": [
    "=> 4. 去掉所有\" \"、\"-\"、\"(\"、\")和\"+\"，并存储每个数字，不进行任何格式化。如果电话号码的长度是10位数字(我们需要国家代码)，请用1填充电话号码"
   ]
  },
  {
   "cell_type": "code",
   "execution_count": 35,
   "metadata": {
    "pycharm": {}
   },
   "outputs": [],
   "source": [
    "patients_clean.phone_number = patients_clean.phone_number.str.replace(r'\\D+', '').str.pad(11, fillchar='1')"
   ]
  },
  {
   "cell_type": "markdown",
   "metadata": {
    "pycharm": {}
   },
   "source": [
    "=> 5. 从患者表中删除不可恢复的John Doe记录"
   ]
  },
  {
   "cell_type": "code",
   "execution_count": 36,
   "metadata": {
    "pycharm": {}
   },
   "outputs": [],
   "source": [
    "patients_clean = patients_clean[patients_clean.surname != 'Doe']"
   ]
  },
  {
   "cell_type": "markdown",
   "metadata": {
    "pycharm": {}
   },
   "source": [
    "=> 6. 将akobsen, Gersten, Taylor从患者表中移除，这些昵称碰巧也不在治疗表中"
   ]
  },
  {
   "cell_type": "code",
   "execution_count": 37,
   "metadata": {
    "pycharm": {}
   },
   "outputs": [],
   "source": [
    "patients_clean = patients_clean[~(patients_clean.address.duplicated()) \n",
    "                                & patients_clean.address.notnull()]"
   ]
  },
  {
   "cell_type": "markdown",
   "metadata": {
    "pycharm": {}
   },
   "source": [
    "=> 7. 使用高级索引隔离姓为Zaitseva的行，并将weight字段中的条目从kg转换为lbs"
   ]
  },
  {
   "cell_type": "code",
   "execution_count": 38,
   "metadata": {
    "pycharm": {}
   },
   "outputs": [],
   "source": [
    "weight_kg = patients_clean.weight.sort_values()[0]\n",
    "patients_clean.loc[patients_clean.surname == 'Zaitseva', 'weight'] = weight_kg * 2.20462"
   ]
  },
  {
   "cell_type": "code",
   "execution_count": 39,
   "metadata": {
    "pycharm": {},
    "scrolled": true
   },
   "outputs": [
    {
     "data": {
      "text/html": [
       "<div>\n",
       "<style scoped>\n",
       "    .dataframe tbody tr th:only-of-type {\n",
       "        vertical-align: middle;\n",
       "    }\n",
       "\n",
       "    .dataframe tbody tr th {\n",
       "        vertical-align: top;\n",
       "    }\n",
       "\n",
       "    .dataframe thead th {\n",
       "        text-align: right;\n",
       "    }\n",
       "</style>\n",
       "<table border=\"1\" class=\"dataframe\">\n",
       "  <thead>\n",
       "    <tr style=\"text-align: right;\">\n",
       "      <th></th>\n",
       "      <th>patient_id</th>\n",
       "      <th>assigned_sex</th>\n",
       "      <th>given_name</th>\n",
       "      <th>surname</th>\n",
       "      <th>address</th>\n",
       "      <th>city</th>\n",
       "      <th>state</th>\n",
       "      <th>zip_code</th>\n",
       "      <th>country</th>\n",
       "      <th>birthdate</th>\n",
       "      <th>weight</th>\n",
       "      <th>height</th>\n",
       "      <th>bmi</th>\n",
       "      <th>phone_number</th>\n",
       "      <th>email</th>\n",
       "    </tr>\n",
       "  </thead>\n",
       "  <tbody>\n",
       "    <tr>\n",
       "      <th>0</th>\n",
       "      <td>1</td>\n",
       "      <td>female</td>\n",
       "      <td>Zoe</td>\n",
       "      <td>Wellish</td>\n",
       "      <td>576 Brown Bear Drive</td>\n",
       "      <td>Rancho California</td>\n",
       "      <td>CA</td>\n",
       "      <td>92390</td>\n",
       "      <td>United States</td>\n",
       "      <td>1976-07-10</td>\n",
       "      <td>121.7</td>\n",
       "      <td>1</td>\n",
       "      <td>19.6</td>\n",
       "      <td>19517199170</td>\n",
       "      <td>ZoeWellish@superrito.com</td>\n",
       "    </tr>\n",
       "    <tr>\n",
       "      <th>1</th>\n",
       "      <td>2</td>\n",
       "      <td>female</td>\n",
       "      <td>Pamela</td>\n",
       "      <td>Hill</td>\n",
       "      <td>2370 University Hill Road</td>\n",
       "      <td>Armstrong</td>\n",
       "      <td>IL</td>\n",
       "      <td>61812</td>\n",
       "      <td>United States</td>\n",
       "      <td>1967-04-03</td>\n",
       "      <td>118.8</td>\n",
       "      <td>2</td>\n",
       "      <td>19.2</td>\n",
       "      <td>12175693204</td>\n",
       "      <td>PamelaSHill@cuvox.de</td>\n",
       "    </tr>\n",
       "    <tr>\n",
       "      <th>2</th>\n",
       "      <td>3</td>\n",
       "      <td>male</td>\n",
       "      <td>Jae</td>\n",
       "      <td>Debord</td>\n",
       "      <td>1493 Poling Farm Road</td>\n",
       "      <td>York</td>\n",
       "      <td>NE</td>\n",
       "      <td>68467</td>\n",
       "      <td>United States</td>\n",
       "      <td>1980-02-19</td>\n",
       "      <td>177.8</td>\n",
       "      <td>3</td>\n",
       "      <td>24.8</td>\n",
       "      <td>14023636804</td>\n",
       "      <td>JaeMDebord@gustr.com</td>\n",
       "    </tr>\n",
       "    <tr>\n",
       "      <th>3</th>\n",
       "      <td>4</td>\n",
       "      <td>male</td>\n",
       "      <td>Liêm</td>\n",
       "      <td>Phan</td>\n",
       "      <td>2335 Webster Street</td>\n",
       "      <td>Woodbridge</td>\n",
       "      <td>NJ</td>\n",
       "      <td>07095</td>\n",
       "      <td>United States</td>\n",
       "      <td>1951-07-26</td>\n",
       "      <td>220.9</td>\n",
       "      <td>4</td>\n",
       "      <td>31.7</td>\n",
       "      <td>17326368246</td>\n",
       "      <td>PhanBaLiem@jourrapide.com</td>\n",
       "    </tr>\n",
       "    <tr>\n",
       "      <th>4</th>\n",
       "      <td>5</td>\n",
       "      <td>male</td>\n",
       "      <td>Tim</td>\n",
       "      <td>Neudorf</td>\n",
       "      <td>1428 Turkey Pen Lane</td>\n",
       "      <td>Dothan</td>\n",
       "      <td>AL</td>\n",
       "      <td>36303</td>\n",
       "      <td>United States</td>\n",
       "      <td>1928-02-18</td>\n",
       "      <td>192.3</td>\n",
       "      <td>5</td>\n",
       "      <td>26.1</td>\n",
       "      <td>13345157487</td>\n",
       "      <td>TimNeudorf@cuvox.de</td>\n",
       "    </tr>\n",
       "  </tbody>\n",
       "</table>\n",
       "</div>"
      ],
      "text/plain": [
       "   patient_id assigned_sex given_name  surname                    address               city state zip_code        country  birthdate  weight height   bmi phone_number                      email\n",
       "0           1       female        Zoe  Wellish       576 Brown Bear Drive  Rancho California    CA    92390  United States 1976-07-10   121.7      1  19.6  19517199170   ZoeWellish@superrito.com\n",
       "1           2       female     Pamela     Hill  2370 University Hill Road          Armstrong    IL    61812  United States 1967-04-03   118.8      2  19.2  12175693204       PamelaSHill@cuvox.de\n",
       "2           3         male        Jae   Debord      1493 Poling Farm Road               York    NE    68467  United States 1980-02-19   177.8      3  24.8  14023636804       JaeMDebord@gustr.com\n",
       "3           4         male       Liêm     Phan        2335 Webster Street         Woodbridge    NJ    07095  United States 1951-07-26   220.9      4  31.7  17326368246  PhanBaLiem@jourrapide.com\n",
       "4           5         male        Tim  Neudorf       1428 Turkey Pen Lane             Dothan    AL    36303  United States 1928-02-18   192.3      5  26.1  13345157487        TimNeudorf@cuvox.de"
      ]
     },
     "execution_count": 39,
     "metadata": {},
     "output_type": "execute_result"
    }
   ],
   "source": [
    "patients_clean.head()"
   ]
  },
  {
   "cell_type": "code",
   "execution_count": 40,
   "metadata": {
    "pycharm": {},
    "scrolled": true
   },
   "outputs": [
    {
     "data": {
      "text/html": [
       "<div>\n",
       "<style scoped>\n",
       "    .dataframe tbody tr th:only-of-type {\n",
       "        vertical-align: middle;\n",
       "    }\n",
       "\n",
       "    .dataframe tbody tr th {\n",
       "        vertical-align: top;\n",
       "    }\n",
       "\n",
       "    .dataframe thead th {\n",
       "        text-align: right;\n",
       "    }\n",
       "</style>\n",
       "<table border=\"1\" class=\"dataframe\">\n",
       "  <thead>\n",
       "    <tr style=\"text-align: right;\">\n",
       "      <th></th>\n",
       "      <th>hba1c_start</th>\n",
       "      <th>hba1c_end</th>\n",
       "      <th>hba1c_change</th>\n",
       "      <th>treatment</th>\n",
       "      <th>does_start</th>\n",
       "      <th>does_end</th>\n",
       "      <th>does_change</th>\n",
       "      <th>adverse_reaction</th>\n",
       "      <th>patient_id</th>\n",
       "    </tr>\n",
       "  </thead>\n",
       "  <tbody>\n",
       "    <tr>\n",
       "      <th>0</th>\n",
       "      <td>7.63</td>\n",
       "      <td>7.20</td>\n",
       "      <td>0.43</td>\n",
       "      <td>auralin</td>\n",
       "      <td>41</td>\n",
       "      <td>48</td>\n",
       "      <td>-7</td>\n",
       "      <td>NaN</td>\n",
       "      <td>225</td>\n",
       "    </tr>\n",
       "    <tr>\n",
       "      <th>1</th>\n",
       "      <td>7.97</td>\n",
       "      <td>7.62</td>\n",
       "      <td>0.35</td>\n",
       "      <td>auralin</td>\n",
       "      <td>33</td>\n",
       "      <td>36</td>\n",
       "      <td>-3</td>\n",
       "      <td>NaN</td>\n",
       "      <td>242</td>\n",
       "    </tr>\n",
       "    <tr>\n",
       "      <th>2</th>\n",
       "      <td>7.65</td>\n",
       "      <td>7.27</td>\n",
       "      <td>0.38</td>\n",
       "      <td>auralin</td>\n",
       "      <td>37</td>\n",
       "      <td>42</td>\n",
       "      <td>-5</td>\n",
       "      <td>NaN</td>\n",
       "      <td>345</td>\n",
       "    </tr>\n",
       "    <tr>\n",
       "      <th>3</th>\n",
       "      <td>7.89</td>\n",
       "      <td>7.55</td>\n",
       "      <td>0.34</td>\n",
       "      <td>auralin</td>\n",
       "      <td>31</td>\n",
       "      <td>38</td>\n",
       "      <td>-7</td>\n",
       "      <td>NaN</td>\n",
       "      <td>276</td>\n",
       "    </tr>\n",
       "    <tr>\n",
       "      <th>4</th>\n",
       "      <td>7.76</td>\n",
       "      <td>7.37</td>\n",
       "      <td>0.39</td>\n",
       "      <td>auralin</td>\n",
       "      <td>30</td>\n",
       "      <td>36</td>\n",
       "      <td>-6</td>\n",
       "      <td>NaN</td>\n",
       "      <td>15</td>\n",
       "    </tr>\n",
       "  </tbody>\n",
       "</table>\n",
       "</div>"
      ],
      "text/plain": [
       "   hba1c_start  hba1c_end  hba1c_change treatment  does_start  does_end  does_change adverse_reaction  patient_id\n",
       "0         7.63       7.20          0.43   auralin          41        48           -7              NaN         225\n",
       "1         7.97       7.62          0.35   auralin          33        36           -3              NaN         242\n",
       "2         7.65       7.27          0.38   auralin          37        42           -5              NaN         345\n",
       "3         7.89       7.55          0.34   auralin          31        38           -7              NaN         276\n",
       "4         7.76       7.37          0.39   auralin          30        36           -6              NaN          15"
      ]
     },
     "execution_count": 40,
     "metadata": {},
     "output_type": "execute_result"
    }
   ],
   "source": [
    "treatments_clean.head()"
   ]
  },
  {
   "cell_type": "code",
   "execution_count": 41,
   "metadata": {
    "pycharm": {}
   },
   "outputs": [],
   "source": [
    "treatments_clean.to_csv('treatments_final.csv', index=False)"
   ]
  },
  {
   "cell_type": "code",
   "execution_count": 42,
   "metadata": {
    "pycharm": {},
    "scrolled": false
   },
   "outputs": [
    {
     "data": {
      "text/html": [
       "<div>\n",
       "<style scoped>\n",
       "    .dataframe tbody tr th:only-of-type {\n",
       "        vertical-align: middle;\n",
       "    }\n",
       "\n",
       "    .dataframe tbody tr th {\n",
       "        vertical-align: top;\n",
       "    }\n",
       "\n",
       "    .dataframe thead th {\n",
       "        text-align: right;\n",
       "    }\n",
       "</style>\n",
       "<table border=\"1\" class=\"dataframe\">\n",
       "  <thead>\n",
       "    <tr style=\"text-align: right;\">\n",
       "      <th></th>\n",
       "      <th>hba1c_start</th>\n",
       "      <th>hba1c_end</th>\n",
       "      <th>hba1c_change</th>\n",
       "      <th>treatment</th>\n",
       "      <th>does_start</th>\n",
       "      <th>does_end</th>\n",
       "      <th>does_change</th>\n",
       "      <th>adverse_reaction</th>\n",
       "      <th>patient_id</th>\n",
       "    </tr>\n",
       "  </thead>\n",
       "  <tbody>\n",
       "    <tr>\n",
       "      <th>0</th>\n",
       "      <td>7.63</td>\n",
       "      <td>7.20</td>\n",
       "      <td>0.43</td>\n",
       "      <td>auralin</td>\n",
       "      <td>41</td>\n",
       "      <td>48</td>\n",
       "      <td>-7</td>\n",
       "      <td>NaN</td>\n",
       "      <td>225</td>\n",
       "    </tr>\n",
       "    <tr>\n",
       "      <th>1</th>\n",
       "      <td>7.97</td>\n",
       "      <td>7.62</td>\n",
       "      <td>0.35</td>\n",
       "      <td>auralin</td>\n",
       "      <td>33</td>\n",
       "      <td>36</td>\n",
       "      <td>-3</td>\n",
       "      <td>NaN</td>\n",
       "      <td>242</td>\n",
       "    </tr>\n",
       "    <tr>\n",
       "      <th>2</th>\n",
       "      <td>7.65</td>\n",
       "      <td>7.27</td>\n",
       "      <td>0.38</td>\n",
       "      <td>auralin</td>\n",
       "      <td>37</td>\n",
       "      <td>42</td>\n",
       "      <td>-5</td>\n",
       "      <td>NaN</td>\n",
       "      <td>345</td>\n",
       "    </tr>\n",
       "    <tr>\n",
       "      <th>3</th>\n",
       "      <td>7.89</td>\n",
       "      <td>7.55</td>\n",
       "      <td>0.34</td>\n",
       "      <td>auralin</td>\n",
       "      <td>31</td>\n",
       "      <td>38</td>\n",
       "      <td>-7</td>\n",
       "      <td>NaN</td>\n",
       "      <td>276</td>\n",
       "    </tr>\n",
       "    <tr>\n",
       "      <th>4</th>\n",
       "      <td>7.76</td>\n",
       "      <td>7.37</td>\n",
       "      <td>0.39</td>\n",
       "      <td>auralin</td>\n",
       "      <td>30</td>\n",
       "      <td>36</td>\n",
       "      <td>-6</td>\n",
       "      <td>NaN</td>\n",
       "      <td>15</td>\n",
       "    </tr>\n",
       "    <tr>\n",
       "      <th>5</th>\n",
       "      <td>7.70</td>\n",
       "      <td>7.19</td>\n",
       "      <td>0.51</td>\n",
       "      <td>auralin</td>\n",
       "      <td>29</td>\n",
       "      <td>36</td>\n",
       "      <td>-7</td>\n",
       "      <td>hypoglycemia</td>\n",
       "      <td>70</td>\n",
       "    </tr>\n",
       "    <tr>\n",
       "      <th>6</th>\n",
       "      <td>7.70</td>\n",
       "      <td>7.19</td>\n",
       "      <td>0.51</td>\n",
       "      <td>auralin</td>\n",
       "      <td>29</td>\n",
       "      <td>36</td>\n",
       "      <td>-7</td>\n",
       "      <td>hypoglycemia</td>\n",
       "      <td>70</td>\n",
       "    </tr>\n",
       "    <tr>\n",
       "      <th>7</th>\n",
       "      <td>9.54</td>\n",
       "      <td>9.14</td>\n",
       "      <td>0.40</td>\n",
       "      <td>auralin</td>\n",
       "      <td>29</td>\n",
       "      <td>38</td>\n",
       "      <td>-9</td>\n",
       "      <td>NaN</td>\n",
       "      <td>18</td>\n",
       "    </tr>\n",
       "    <tr>\n",
       "      <th>8</th>\n",
       "      <td>7.74</td>\n",
       "      <td>7.30</td>\n",
       "      <td>0.44</td>\n",
       "      <td>auralin</td>\n",
       "      <td>27</td>\n",
       "      <td>37</td>\n",
       "      <td>-10</td>\n",
       "      <td>NaN</td>\n",
       "      <td>424</td>\n",
       "    </tr>\n",
       "    <tr>\n",
       "      <th>9</th>\n",
       "      <td>7.78</td>\n",
       "      <td>7.34</td>\n",
       "      <td>0.44</td>\n",
       "      <td>auralin</td>\n",
       "      <td>55</td>\n",
       "      <td>68</td>\n",
       "      <td>-13</td>\n",
       "      <td>NaN</td>\n",
       "      <td>292</td>\n",
       "    </tr>\n",
       "    <tr>\n",
       "      <th>10</th>\n",
       "      <td>7.53</td>\n",
       "      <td>7.13</td>\n",
       "      <td>0.40</td>\n",
       "      <td>auralin</td>\n",
       "      <td>28</td>\n",
       "      <td>37</td>\n",
       "      <td>-9</td>\n",
       "      <td>NaN</td>\n",
       "      <td>211</td>\n",
       "    </tr>\n",
       "    <tr>\n",
       "      <th>11</th>\n",
       "      <td>7.61</td>\n",
       "      <td>7.29</td>\n",
       "      <td>0.32</td>\n",
       "      <td>auralin</td>\n",
       "      <td>29</td>\n",
       "      <td>39</td>\n",
       "      <td>-10</td>\n",
       "      <td>NaN</td>\n",
       "      <td>133</td>\n",
       "    </tr>\n",
       "    <tr>\n",
       "      <th>12</th>\n",
       "      <td>8.61</td>\n",
       "      <td>8.18</td>\n",
       "      <td>0.43</td>\n",
       "      <td>auralin</td>\n",
       "      <td>53</td>\n",
       "      <td>60</td>\n",
       "      <td>-7</td>\n",
       "      <td>NaN</td>\n",
       "      <td>316</td>\n",
       "    </tr>\n",
       "    <tr>\n",
       "      <th>13</th>\n",
       "      <td>9.68</td>\n",
       "      <td>9.29</td>\n",
       "      <td>0.39</td>\n",
       "      <td>auralin</td>\n",
       "      <td>31</td>\n",
       "      <td>41</td>\n",
       "      <td>-10</td>\n",
       "      <td>NaN</td>\n",
       "      <td>101</td>\n",
       "    </tr>\n",
       "    <tr>\n",
       "      <th>14</th>\n",
       "      <td>7.79</td>\n",
       "      <td>7.40</td>\n",
       "      <td>0.39</td>\n",
       "      <td>auralin</td>\n",
       "      <td>42</td>\n",
       "      <td>51</td>\n",
       "      <td>-9</td>\n",
       "      <td>throat irritation</td>\n",
       "      <td>451</td>\n",
       "    </tr>\n",
       "    <tr>\n",
       "      <th>15</th>\n",
       "      <td>7.81</td>\n",
       "      <td>7.48</td>\n",
       "      <td>0.33</td>\n",
       "      <td>auralin</td>\n",
       "      <td>42</td>\n",
       "      <td>49</td>\n",
       "      <td>-7</td>\n",
       "      <td>NaN</td>\n",
       "      <td>335</td>\n",
       "    </tr>\n",
       "    <tr>\n",
       "      <th>16</th>\n",
       "      <td>7.70</td>\n",
       "      <td>7.38</td>\n",
       "      <td>0.32</td>\n",
       "      <td>auralin</td>\n",
       "      <td>35</td>\n",
       "      <td>39</td>\n",
       "      <td>-4</td>\n",
       "      <td>NaN</td>\n",
       "      <td>389</td>\n",
       "    </tr>\n",
       "    <tr>\n",
       "      <th>17</th>\n",
       "      <td>7.96</td>\n",
       "      <td>7.55</td>\n",
       "      <td>0.41</td>\n",
       "      <td>auralin</td>\n",
       "      <td>47</td>\n",
       "      <td>58</td>\n",
       "      <td>-11</td>\n",
       "      <td>NaN</td>\n",
       "      <td>71</td>\n",
       "    </tr>\n",
       "    <tr>\n",
       "      <th>18</th>\n",
       "      <td>7.68</td>\n",
       "      <td>7.24</td>\n",
       "      <td>0.44</td>\n",
       "      <td>auralin</td>\n",
       "      <td>45</td>\n",
       "      <td>48</td>\n",
       "      <td>-3</td>\n",
       "      <td>NaN</td>\n",
       "      <td>297</td>\n",
       "    </tr>\n",
       "    <tr>\n",
       "      <th>19</th>\n",
       "      <td>7.92</td>\n",
       "      <td>7.47</td>\n",
       "      <td>0.45</td>\n",
       "      <td>auralin</td>\n",
       "      <td>24</td>\n",
       "      <td>37</td>\n",
       "      <td>-13</td>\n",
       "      <td>NaN</td>\n",
       "      <td>188</td>\n",
       "    </tr>\n",
       "    <tr>\n",
       "      <th>20</th>\n",
       "      <td>7.92</td>\n",
       "      <td>7.57</td>\n",
       "      <td>0.35</td>\n",
       "      <td>auralin</td>\n",
       "      <td>44</td>\n",
       "      <td>55</td>\n",
       "      <td>-11</td>\n",
       "      <td>NaN</td>\n",
       "      <td>282</td>\n",
       "    </tr>\n",
       "    <tr>\n",
       "      <th>21</th>\n",
       "      <td>7.53</td>\n",
       "      <td>7.15</td>\n",
       "      <td>0.38</td>\n",
       "      <td>auralin</td>\n",
       "      <td>37</td>\n",
       "      <td>43</td>\n",
       "      <td>-6</td>\n",
       "      <td>NaN</td>\n",
       "      <td>174</td>\n",
       "    </tr>\n",
       "    <tr>\n",
       "      <th>22</th>\n",
       "      <td>7.67</td>\n",
       "      <td>7.37</td>\n",
       "      <td>0.30</td>\n",
       "      <td>auralin</td>\n",
       "      <td>43</td>\n",
       "      <td>47</td>\n",
       "      <td>-4</td>\n",
       "      <td>NaN</td>\n",
       "      <td>146</td>\n",
       "    </tr>\n",
       "    <tr>\n",
       "      <th>23</th>\n",
       "      <td>7.86</td>\n",
       "      <td>7.51</td>\n",
       "      <td>0.35</td>\n",
       "      <td>auralin</td>\n",
       "      <td>36</td>\n",
       "      <td>42</td>\n",
       "      <td>-6</td>\n",
       "      <td>NaN</td>\n",
       "      <td>35</td>\n",
       "    </tr>\n",
       "    <tr>\n",
       "      <th>24</th>\n",
       "      <td>9.18</td>\n",
       "      <td>8.64</td>\n",
       "      <td>0.54</td>\n",
       "      <td>auralin</td>\n",
       "      <td>29</td>\n",
       "      <td>37</td>\n",
       "      <td>-8</td>\n",
       "      <td>NaN</td>\n",
       "      <td>350</td>\n",
       "    </tr>\n",
       "    <tr>\n",
       "      <th>25</th>\n",
       "      <td>7.61</td>\n",
       "      <td>7.16</td>\n",
       "      <td>0.45</td>\n",
       "      <td>auralin</td>\n",
       "      <td>57</td>\n",
       "      <td>64</td>\n",
       "      <td>-7</td>\n",
       "      <td>NaN</td>\n",
       "      <td>220</td>\n",
       "    </tr>\n",
       "    <tr>\n",
       "      <th>26</th>\n",
       "      <td>7.52</td>\n",
       "      <td>7.11</td>\n",
       "      <td>0.41</td>\n",
       "      <td>auralin</td>\n",
       "      <td>54</td>\n",
       "      <td>67</td>\n",
       "      <td>-13</td>\n",
       "      <td>NaN</td>\n",
       "      <td>102</td>\n",
       "    </tr>\n",
       "    <tr>\n",
       "      <th>27</th>\n",
       "      <td>7.71</td>\n",
       "      <td>7.34</td>\n",
       "      <td>0.37</td>\n",
       "      <td>auralin</td>\n",
       "      <td>34</td>\n",
       "      <td>42</td>\n",
       "      <td>-8</td>\n",
       "      <td>NaN</td>\n",
       "      <td>181</td>\n",
       "    </tr>\n",
       "    <tr>\n",
       "      <th>28</th>\n",
       "      <td>7.87</td>\n",
       "      <td>7.47</td>\n",
       "      <td>0.40</td>\n",
       "      <td>auralin</td>\n",
       "      <td>29</td>\n",
       "      <td>37</td>\n",
       "      <td>-8</td>\n",
       "      <td>NaN</td>\n",
       "      <td>466</td>\n",
       "    </tr>\n",
       "    <tr>\n",
       "      <th>29</th>\n",
       "      <td>7.74</td>\n",
       "      <td>7.32</td>\n",
       "      <td>0.42</td>\n",
       "      <td>auralin</td>\n",
       "      <td>61</td>\n",
       "      <td>67</td>\n",
       "      <td>-6</td>\n",
       "      <td>NaN</td>\n",
       "      <td>205</td>\n",
       "    </tr>\n",
       "    <tr>\n",
       "      <th>...</th>\n",
       "      <td>...</td>\n",
       "      <td>...</td>\n",
       "      <td>...</td>\n",
       "      <td>...</td>\n",
       "      <td>...</td>\n",
       "      <td>...</td>\n",
       "      <td>...</td>\n",
       "      <td>...</td>\n",
       "      <td>...</td>\n",
       "    </tr>\n",
       "    <tr>\n",
       "      <th>249</th>\n",
       "      <td>7.98</td>\n",
       "      <td>7.51</td>\n",
       "      <td>0.47</td>\n",
       "      <td>novodra</td>\n",
       "      <td>37</td>\n",
       "      <td>30</td>\n",
       "      <td>7</td>\n",
       "      <td>NaN</td>\n",
       "      <td>309</td>\n",
       "    </tr>\n",
       "    <tr>\n",
       "      <th>250</th>\n",
       "      <td>7.92</td>\n",
       "      <td>7.47</td>\n",
       "      <td>0.45</td>\n",
       "      <td>novodra</td>\n",
       "      <td>51</td>\n",
       "      <td>47</td>\n",
       "      <td>4</td>\n",
       "      <td>NaN</td>\n",
       "      <td>400</td>\n",
       "    </tr>\n",
       "    <tr>\n",
       "      <th>251</th>\n",
       "      <td>9.53</td>\n",
       "      <td>9.10</td>\n",
       "      <td>0.43</td>\n",
       "      <td>novodra</td>\n",
       "      <td>27</td>\n",
       "      <td>29</td>\n",
       "      <td>-2</td>\n",
       "      <td>NaN</td>\n",
       "      <td>2</td>\n",
       "    </tr>\n",
       "    <tr>\n",
       "      <th>252</th>\n",
       "      <td>7.62</td>\n",
       "      <td>7.22</td>\n",
       "      <td>0.40</td>\n",
       "      <td>novodra</td>\n",
       "      <td>42</td>\n",
       "      <td>44</td>\n",
       "      <td>-2</td>\n",
       "      <td>NaN</td>\n",
       "      <td>147</td>\n",
       "    </tr>\n",
       "    <tr>\n",
       "      <th>253</th>\n",
       "      <td>7.89</td>\n",
       "      <td>7.53</td>\n",
       "      <td>0.36</td>\n",
       "      <td>novodra</td>\n",
       "      <td>30</td>\n",
       "      <td>29</td>\n",
       "      <td>1</td>\n",
       "      <td>NaN</td>\n",
       "      <td>447</td>\n",
       "    </tr>\n",
       "    <tr>\n",
       "      <th>254</th>\n",
       "      <td>8.82</td>\n",
       "      <td>8.36</td>\n",
       "      <td>0.46</td>\n",
       "      <td>novodra</td>\n",
       "      <td>31</td>\n",
       "      <td>32</td>\n",
       "      <td>-1</td>\n",
       "      <td>NaN</td>\n",
       "      <td>329</td>\n",
       "    </tr>\n",
       "    <tr>\n",
       "      <th>255</th>\n",
       "      <td>7.97</td>\n",
       "      <td>7.52</td>\n",
       "      <td>0.45</td>\n",
       "      <td>novodra</td>\n",
       "      <td>48</td>\n",
       "      <td>53</td>\n",
       "      <td>-5</td>\n",
       "      <td>NaN</td>\n",
       "      <td>300</td>\n",
       "    </tr>\n",
       "    <tr>\n",
       "      <th>256</th>\n",
       "      <td>7.96</td>\n",
       "      <td>7.62</td>\n",
       "      <td>0.34</td>\n",
       "      <td>novodra</td>\n",
       "      <td>42</td>\n",
       "      <td>40</td>\n",
       "      <td>2</td>\n",
       "      <td>NaN</td>\n",
       "      <td>108</td>\n",
       "    </tr>\n",
       "    <tr>\n",
       "      <th>257</th>\n",
       "      <td>7.78</td>\n",
       "      <td>7.42</td>\n",
       "      <td>0.36</td>\n",
       "      <td>novodra</td>\n",
       "      <td>28</td>\n",
       "      <td>24</td>\n",
       "      <td>4</td>\n",
       "      <td>NaN</td>\n",
       "      <td>364</td>\n",
       "    </tr>\n",
       "    <tr>\n",
       "      <th>258</th>\n",
       "      <td>7.97</td>\n",
       "      <td>7.59</td>\n",
       "      <td>0.38</td>\n",
       "      <td>novodra</td>\n",
       "      <td>51</td>\n",
       "      <td>54</td>\n",
       "      <td>-3</td>\n",
       "      <td>NaN</td>\n",
       "      <td>289</td>\n",
       "    </tr>\n",
       "    <tr>\n",
       "      <th>259</th>\n",
       "      <td>7.92</td>\n",
       "      <td>7.49</td>\n",
       "      <td>0.43</td>\n",
       "      <td>novodra</td>\n",
       "      <td>47</td>\n",
       "      <td>39</td>\n",
       "      <td>8</td>\n",
       "      <td>NaN</td>\n",
       "      <td>387</td>\n",
       "    </tr>\n",
       "    <tr>\n",
       "      <th>260</th>\n",
       "      <td>7.61</td>\n",
       "      <td>7.12</td>\n",
       "      <td>0.49</td>\n",
       "      <td>novodra</td>\n",
       "      <td>47</td>\n",
       "      <td>48</td>\n",
       "      <td>-1</td>\n",
       "      <td>NaN</td>\n",
       "      <td>454</td>\n",
       "    </tr>\n",
       "    <tr>\n",
       "      <th>261</th>\n",
       "      <td>7.78</td>\n",
       "      <td>7.45</td>\n",
       "      <td>0.33</td>\n",
       "      <td>novodra</td>\n",
       "      <td>39</td>\n",
       "      <td>36</td>\n",
       "      <td>3</td>\n",
       "      <td>injection site discomfort</td>\n",
       "      <td>255</td>\n",
       "    </tr>\n",
       "    <tr>\n",
       "      <th>262</th>\n",
       "      <td>7.90</td>\n",
       "      <td>7.51</td>\n",
       "      <td>0.39</td>\n",
       "      <td>novodra</td>\n",
       "      <td>56</td>\n",
       "      <td>57</td>\n",
       "      <td>-1</td>\n",
       "      <td>NaN</td>\n",
       "      <td>84</td>\n",
       "    </tr>\n",
       "    <tr>\n",
       "      <th>263</th>\n",
       "      <td>9.62</td>\n",
       "      <td>9.29</td>\n",
       "      <td>0.33</td>\n",
       "      <td>novodra</td>\n",
       "      <td>42</td>\n",
       "      <td>38</td>\n",
       "      <td>4</td>\n",
       "      <td>NaN</td>\n",
       "      <td>239</td>\n",
       "    </tr>\n",
       "    <tr>\n",
       "      <th>264</th>\n",
       "      <td>9.27</td>\n",
       "      <td>8.77</td>\n",
       "      <td>0.50</td>\n",
       "      <td>novodra</td>\n",
       "      <td>40</td>\n",
       "      <td>39</td>\n",
       "      <td>1</td>\n",
       "      <td>NaN</td>\n",
       "      <td>158</td>\n",
       "    </tr>\n",
       "    <tr>\n",
       "      <th>265</th>\n",
       "      <td>7.89</td>\n",
       "      <td>7.42</td>\n",
       "      <td>0.47</td>\n",
       "      <td>novodra</td>\n",
       "      <td>39</td>\n",
       "      <td>36</td>\n",
       "      <td>3</td>\n",
       "      <td>NaN</td>\n",
       "      <td>139</td>\n",
       "    </tr>\n",
       "    <tr>\n",
       "      <th>266</th>\n",
       "      <td>8.50</td>\n",
       "      <td>8.10</td>\n",
       "      <td>0.40</td>\n",
       "      <td>novodra</td>\n",
       "      <td>27</td>\n",
       "      <td>28</td>\n",
       "      <td>-1</td>\n",
       "      <td>NaN</td>\n",
       "      <td>343</td>\n",
       "    </tr>\n",
       "    <tr>\n",
       "      <th>267</th>\n",
       "      <td>7.71</td>\n",
       "      <td>7.27</td>\n",
       "      <td>0.44</td>\n",
       "      <td>novodra</td>\n",
       "      <td>43</td>\n",
       "      <td>46</td>\n",
       "      <td>-3</td>\n",
       "      <td>NaN</td>\n",
       "      <td>330</td>\n",
       "    </tr>\n",
       "    <tr>\n",
       "      <th>268</th>\n",
       "      <td>7.64</td>\n",
       "      <td>7.33</td>\n",
       "      <td>0.31</td>\n",
       "      <td>novodra</td>\n",
       "      <td>31</td>\n",
       "      <td>31</td>\n",
       "      <td>0</td>\n",
       "      <td>NaN</td>\n",
       "      <td>405</td>\n",
       "    </tr>\n",
       "    <tr>\n",
       "      <th>269</th>\n",
       "      <td>7.87</td>\n",
       "      <td>7.47</td>\n",
       "      <td>0.40</td>\n",
       "      <td>novodra</td>\n",
       "      <td>26</td>\n",
       "      <td>23</td>\n",
       "      <td>3</td>\n",
       "      <td>NaN</td>\n",
       "      <td>281</td>\n",
       "    </tr>\n",
       "    <tr>\n",
       "      <th>270</th>\n",
       "      <td>7.63</td>\n",
       "      <td>7.27</td>\n",
       "      <td>0.36</td>\n",
       "      <td>novodra</td>\n",
       "      <td>50</td>\n",
       "      <td>54</td>\n",
       "      <td>-4</td>\n",
       "      <td>NaN</td>\n",
       "      <td>92</td>\n",
       "    </tr>\n",
       "    <tr>\n",
       "      <th>271</th>\n",
       "      <td>7.95</td>\n",
       "      <td>7.56</td>\n",
       "      <td>0.39</td>\n",
       "      <td>novodra</td>\n",
       "      <td>41</td>\n",
       "      <td>39</td>\n",
       "      <td>2</td>\n",
       "      <td>NaN</td>\n",
       "      <td>365</td>\n",
       "    </tr>\n",
       "    <tr>\n",
       "      <th>272</th>\n",
       "      <td>7.83</td>\n",
       "      <td>7.48</td>\n",
       "      <td>0.35</td>\n",
       "      <td>novodra</td>\n",
       "      <td>27</td>\n",
       "      <td>29</td>\n",
       "      <td>-2</td>\n",
       "      <td>NaN</td>\n",
       "      <td>453</td>\n",
       "    </tr>\n",
       "    <tr>\n",
       "      <th>273</th>\n",
       "      <td>7.72</td>\n",
       "      <td>7.29</td>\n",
       "      <td>0.43</td>\n",
       "      <td>novodra</td>\n",
       "      <td>38</td>\n",
       "      <td>32</td>\n",
       "      <td>6</td>\n",
       "      <td>injection site discomfort</td>\n",
       "      <td>332</td>\n",
       "    </tr>\n",
       "    <tr>\n",
       "      <th>274</th>\n",
       "      <td>7.82</td>\n",
       "      <td>7.36</td>\n",
       "      <td>0.46</td>\n",
       "      <td>novodra</td>\n",
       "      <td>51</td>\n",
       "      <td>54</td>\n",
       "      <td>-3</td>\n",
       "      <td>NaN</td>\n",
       "      <td>59</td>\n",
       "    </tr>\n",
       "    <tr>\n",
       "      <th>275</th>\n",
       "      <td>7.77</td>\n",
       "      <td>7.28</td>\n",
       "      <td>0.49</td>\n",
       "      <td>novodra</td>\n",
       "      <td>47</td>\n",
       "      <td>46</td>\n",
       "      <td>1</td>\n",
       "      <td>NaN</td>\n",
       "      <td>440</td>\n",
       "    </tr>\n",
       "    <tr>\n",
       "      <th>276</th>\n",
       "      <td>7.74</td>\n",
       "      <td>7.36</td>\n",
       "      <td>0.38</td>\n",
       "      <td>novodra</td>\n",
       "      <td>30</td>\n",
       "      <td>33</td>\n",
       "      <td>-3</td>\n",
       "      <td>NaN</td>\n",
       "      <td>434</td>\n",
       "    </tr>\n",
       "    <tr>\n",
       "      <th>277</th>\n",
       "      <td>7.87</td>\n",
       "      <td>7.43</td>\n",
       "      <td>0.44</td>\n",
       "      <td>novodra</td>\n",
       "      <td>41</td>\n",
       "      <td>43</td>\n",
       "      <td>-2</td>\n",
       "      <td>headache</td>\n",
       "      <td>394</td>\n",
       "    </tr>\n",
       "    <tr>\n",
       "      <th>278</th>\n",
       "      <td>7.90</td>\n",
       "      <td>7.58</td>\n",
       "      <td>0.32</td>\n",
       "      <td>novodra</td>\n",
       "      <td>49</td>\n",
       "      <td>49</td>\n",
       "      <td>0</td>\n",
       "      <td>NaN</td>\n",
       "      <td>141</td>\n",
       "    </tr>\n",
       "  </tbody>\n",
       "</table>\n",
       "<p>279 rows × 9 columns</p>\n",
       "</div>"
      ],
      "text/plain": [
       "     hba1c_start  hba1c_end  hba1c_change treatment  does_start  does_end  does_change           adverse_reaction  patient_id\n",
       "0           7.63       7.20          0.43   auralin          41        48           -7                        NaN         225\n",
       "1           7.97       7.62          0.35   auralin          33        36           -3                        NaN         242\n",
       "2           7.65       7.27          0.38   auralin          37        42           -5                        NaN         345\n",
       "3           7.89       7.55          0.34   auralin          31        38           -7                        NaN         276\n",
       "4           7.76       7.37          0.39   auralin          30        36           -6                        NaN          15\n",
       "5           7.70       7.19          0.51   auralin          29        36           -7               hypoglycemia          70\n",
       "6           7.70       7.19          0.51   auralin          29        36           -7               hypoglycemia          70\n",
       "7           9.54       9.14          0.40   auralin          29        38           -9                        NaN          18\n",
       "8           7.74       7.30          0.44   auralin          27        37          -10                        NaN         424\n",
       "9           7.78       7.34          0.44   auralin          55        68          -13                        NaN         292\n",
       "10          7.53       7.13          0.40   auralin          28        37           -9                        NaN         211\n",
       "11          7.61       7.29          0.32   auralin          29        39          -10                        NaN         133\n",
       "12          8.61       8.18          0.43   auralin          53        60           -7                        NaN         316\n",
       "13          9.68       9.29          0.39   auralin          31        41          -10                        NaN         101\n",
       "14          7.79       7.40          0.39   auralin          42        51           -9          throat irritation         451\n",
       "15          7.81       7.48          0.33   auralin          42        49           -7                        NaN         335\n",
       "16          7.70       7.38          0.32   auralin          35        39           -4                        NaN         389\n",
       "17          7.96       7.55          0.41   auralin          47        58          -11                        NaN          71\n",
       "18          7.68       7.24          0.44   auralin          45        48           -3                        NaN         297\n",
       "19          7.92       7.47          0.45   auralin          24        37          -13                        NaN         188\n",
       "20          7.92       7.57          0.35   auralin          44        55          -11                        NaN         282\n",
       "21          7.53       7.15          0.38   auralin          37        43           -6                        NaN         174\n",
       "22          7.67       7.37          0.30   auralin          43        47           -4                        NaN         146\n",
       "23          7.86       7.51          0.35   auralin          36        42           -6                        NaN          35\n",
       "24          9.18       8.64          0.54   auralin          29        37           -8                        NaN         350\n",
       "25          7.61       7.16          0.45   auralin          57        64           -7                        NaN         220\n",
       "26          7.52       7.11          0.41   auralin          54        67          -13                        NaN         102\n",
       "27          7.71       7.34          0.37   auralin          34        42           -8                        NaN         181\n",
       "28          7.87       7.47          0.40   auralin          29        37           -8                        NaN         466\n",
       "29          7.74       7.32          0.42   auralin          61        67           -6                        NaN         205\n",
       "..           ...        ...           ...       ...         ...       ...          ...                        ...         ...\n",
       "249         7.98       7.51          0.47   novodra          37        30            7                        NaN         309\n",
       "250         7.92       7.47          0.45   novodra          51        47            4                        NaN         400\n",
       "251         9.53       9.10          0.43   novodra          27        29           -2                        NaN           2\n",
       "252         7.62       7.22          0.40   novodra          42        44           -2                        NaN         147\n",
       "253         7.89       7.53          0.36   novodra          30        29            1                        NaN         447\n",
       "254         8.82       8.36          0.46   novodra          31        32           -1                        NaN         329\n",
       "255         7.97       7.52          0.45   novodra          48        53           -5                        NaN         300\n",
       "256         7.96       7.62          0.34   novodra          42        40            2                        NaN         108\n",
       "257         7.78       7.42          0.36   novodra          28        24            4                        NaN         364\n",
       "258         7.97       7.59          0.38   novodra          51        54           -3                        NaN         289\n",
       "259         7.92       7.49          0.43   novodra          47        39            8                        NaN         387\n",
       "260         7.61       7.12          0.49   novodra          47        48           -1                        NaN         454\n",
       "261         7.78       7.45          0.33   novodra          39        36            3  injection site discomfort         255\n",
       "262         7.90       7.51          0.39   novodra          56        57           -1                        NaN          84\n",
       "263         9.62       9.29          0.33   novodra          42        38            4                        NaN         239\n",
       "264         9.27       8.77          0.50   novodra          40        39            1                        NaN         158\n",
       "265         7.89       7.42          0.47   novodra          39        36            3                        NaN         139\n",
       "266         8.50       8.10          0.40   novodra          27        28           -1                        NaN         343\n",
       "267         7.71       7.27          0.44   novodra          43        46           -3                        NaN         330\n",
       "268         7.64       7.33          0.31   novodra          31        31            0                        NaN         405\n",
       "269         7.87       7.47          0.40   novodra          26        23            3                        NaN         281\n",
       "270         7.63       7.27          0.36   novodra          50        54           -4                        NaN          92\n",
       "271         7.95       7.56          0.39   novodra          41        39            2                        NaN         365\n",
       "272         7.83       7.48          0.35   novodra          27        29           -2                        NaN         453\n",
       "273         7.72       7.29          0.43   novodra          38        32            6  injection site discomfort         332\n",
       "274         7.82       7.36          0.46   novodra          51        54           -3                        NaN          59\n",
       "275         7.77       7.28          0.49   novodra          47        46            1                        NaN         440\n",
       "276         7.74       7.36          0.38   novodra          30        33           -3                        NaN         434\n",
       "277         7.87       7.43          0.44   novodra          41        43           -2                   headache         394\n",
       "278         7.90       7.58          0.32   novodra          49        49            0                        NaN         141\n",
       "\n",
       "[279 rows x 9 columns]"
      ]
     },
     "execution_count": 42,
     "metadata": {},
     "output_type": "execute_result"
    }
   ],
   "source": [
    "treatments_final = pd.read_csv('treatments_final.csv')\n",
    "treatments_final"
   ]
  },
  {
   "cell_type": "code",
   "execution_count": 43,
   "metadata": {
    "pycharm": {},
    "scrolled": true
   },
   "outputs": [
    {
     "data": {
      "text/html": [
       "<div>\n",
       "<style scoped>\n",
       "    .dataframe tbody tr th:only-of-type {\n",
       "        vertical-align: middle;\n",
       "    }\n",
       "\n",
       "    .dataframe tbody tr th {\n",
       "        vertical-align: top;\n",
       "    }\n",
       "\n",
       "    .dataframe thead th {\n",
       "        text-align: right;\n",
       "    }\n",
       "</style>\n",
       "<table border=\"1\" class=\"dataframe\">\n",
       "  <thead>\n",
       "    <tr style=\"text-align: right;\">\n",
       "      <th></th>\n",
       "      <th>given_name</th>\n",
       "      <th>surname</th>\n",
       "      <th>adverse_reaction</th>\n",
       "    </tr>\n",
       "  </thead>\n",
       "  <tbody>\n",
       "    <tr>\n",
       "      <th>0</th>\n",
       "      <td>berta</td>\n",
       "      <td>napolitani</td>\n",
       "      <td>injection site discomfort</td>\n",
       "    </tr>\n",
       "    <tr>\n",
       "      <th>1</th>\n",
       "      <td>lena</td>\n",
       "      <td>baer</td>\n",
       "      <td>hypoglycemia</td>\n",
       "    </tr>\n",
       "    <tr>\n",
       "      <th>2</th>\n",
       "      <td>joseph</td>\n",
       "      <td>day</td>\n",
       "      <td>hypoglycemia</td>\n",
       "    </tr>\n",
       "    <tr>\n",
       "      <th>3</th>\n",
       "      <td>flavia</td>\n",
       "      <td>fiorentino</td>\n",
       "      <td>cough</td>\n",
       "    </tr>\n",
       "    <tr>\n",
       "      <th>4</th>\n",
       "      <td>manouck</td>\n",
       "      <td>wubbels</td>\n",
       "      <td>throat irritation</td>\n",
       "    </tr>\n",
       "  </tbody>\n",
       "</table>\n",
       "</div>"
      ],
      "text/plain": [
       "  given_name     surname           adverse_reaction\n",
       "0      berta  napolitani  injection site discomfort\n",
       "1       lena        baer               hypoglycemia\n",
       "2     joseph         day               hypoglycemia\n",
       "3     flavia  fiorentino                      cough\n",
       "4    manouck     wubbels          throat irritation"
      ]
     },
     "execution_count": 43,
     "metadata": {},
     "output_type": "execute_result"
    }
   ],
   "source": [
    "adverse_reactions_clean.head()"
   ]
  },
  {
   "cell_type": "code",
   "execution_count": 44,
   "metadata": {
    "pycharm": {}
   },
   "outputs": [
    {
     "name": "stderr",
     "output_type": "stream",
     "text": [
      "/opt/conda/lib/python3.7/site-packages/ipykernel_launcher.py:2: SettingWithCopyWarning: \n",
      "A value is trying to be set on a copy of a slice from a DataFrame.\n",
      "Try using .loc[row_indexer,col_indexer] = value instead\n",
      "\n",
      "See the caveats in the documentation: http://pandas.pydata.org/pandas-docs/stable/indexing.html#indexing-view-versus-copy\n",
      "  \n",
      "/opt/conda/lib/python3.7/site-packages/ipykernel_launcher.py:3: SettingWithCopyWarning: \n",
      "A value is trying to be set on a copy of a slice from a DataFrame.\n",
      "Try using .loc[row_indexer,col_indexer] = value instead\n",
      "\n",
      "See the caveats in the documentation: http://pandas.pydata.org/pandas-docs/stable/indexing.html#indexing-view-versus-copy\n",
      "  This is separate from the ipykernel package so we can avoid doing imports until\n"
     ]
    }
   ],
   "source": [
    "id_names = patients_clean[['patient_id', 'given_name', 'surname']]\n",
    "id_names['given_name'] = id_names['given_name'].str.lower()\n",
    "id_names['surname'] = id_names['surname'].str.lower()\n",
    "adverse_reactions_clean = pd.merge(adverse_reactions_clean, id_names, on=['given_name', 'surname'])\n",
    "# adverse_reactions_clean = adverse_reactions_clean.drop(['given_name', 'surname'], axis=1)"
   ]
  },
  {
   "cell_type": "code",
   "execution_count": 45,
   "metadata": {
    "pycharm": {}
   },
   "outputs": [
    {
     "data": {
      "text/plain": [
       "<pandas.core.groupby.generic.DataFrameGroupBy object at 0x7fac4f8b0d68>"
      ]
     },
     "execution_count": 45,
     "metadata": {},
     "output_type": "execute_result"
    }
   ],
   "source": [
    "treatment_group = treatments_final.groupby('treatment')\n",
    "treatment_group"
   ]
  },
  {
   "cell_type": "code",
   "execution_count": 46,
   "metadata": {
    "pycharm": {}
   },
   "outputs": [
    {
     "data": {
      "text/html": [
       "<div>\n",
       "<style scoped>\n",
       "    .dataframe tbody tr th:only-of-type {\n",
       "        vertical-align: middle;\n",
       "    }\n",
       "\n",
       "    .dataframe tbody tr th {\n",
       "        vertical-align: top;\n",
       "    }\n",
       "\n",
       "    .dataframe thead th {\n",
       "        text-align: right;\n",
       "    }\n",
       "</style>\n",
       "<table border=\"1\" class=\"dataframe\">\n",
       "  <thead>\n",
       "    <tr style=\"text-align: right;\">\n",
       "      <th></th>\n",
       "      <th>hba1c_start</th>\n",
       "      <th>hba1c_end</th>\n",
       "      <th>hba1c_change</th>\n",
       "      <th>does_start</th>\n",
       "      <th>does_end</th>\n",
       "      <th>does_change</th>\n",
       "      <th>patient_id</th>\n",
       "    </tr>\n",
       "    <tr>\n",
       "      <th>treatment</th>\n",
       "      <th></th>\n",
       "      <th></th>\n",
       "      <th></th>\n",
       "      <th></th>\n",
       "      <th></th>\n",
       "      <th></th>\n",
       "      <th></th>\n",
       "    </tr>\n",
       "  </thead>\n",
       "  <tbody>\n",
       "    <tr>\n",
       "      <th>auralin</th>\n",
       "      <td>7.999927</td>\n",
       "      <td>7.613942</td>\n",
       "      <td>0.385985</td>\n",
       "      <td>39.335766</td>\n",
       "      <td>47.547445</td>\n",
       "      <td>-8.211679</td>\n",
       "      <td>256.233577</td>\n",
       "    </tr>\n",
       "    <tr>\n",
       "      <th>novodra</th>\n",
       "      <td>7.974296</td>\n",
       "      <td>7.567676</td>\n",
       "      <td>0.406620</td>\n",
       "      <td>39.929577</td>\n",
       "      <td>39.471831</td>\n",
       "      <td>0.457746</td>\n",
       "      <td>263.563380</td>\n",
       "    </tr>\n",
       "  </tbody>\n",
       "</table>\n",
       "</div>"
      ],
      "text/plain": [
       "           hba1c_start  hba1c_end  hba1c_change  does_start   does_end  does_change  patient_id\n",
       "treatment                                                                                      \n",
       "auralin       7.999927   7.613942      0.385985   39.335766  47.547445    -8.211679  256.233577\n",
       "novodra       7.974296   7.567676      0.406620   39.929577  39.471831     0.457746  263.563380"
      ]
     },
     "execution_count": 46,
     "metadata": {},
     "output_type": "execute_result"
    }
   ],
   "source": [
    "treatment_group.mean()"
   ]
  },
  {
   "cell_type": "code",
   "execution_count": 47,
   "metadata": {
    "pycharm": {}
   },
   "outputs": [],
   "source": [
    "Auralin = treatment_group.mean().loc['auralin', 'does_change']\n",
    "Novodra = treatment_group.mean().loc['novodra', 'does_change']"
   ]
  },
  {
   "cell_type": "code",
   "execution_count": 48,
   "metadata": {
    "pycharm": {}
   },
   "outputs": [],
   "source": [
    "import matplotlib.pyplot as plt \n",
    "import seaborn as sns\n",
    "sns.set_style('darkgrid')"
   ]
  },
  {
   "cell_type": "code",
   "execution_count": 49,
   "metadata": {
    "pycharm": {},
    "scrolled": false
   },
   "outputs": [],
   "source": [
    "%matplotlib inline\n",
    "# plt.rcParams['font.sans-serif']=['SimHei'] #用来正常显示中文标签\n",
    "plt.rcParams['axes.unicode_minus']=False #用来正常显示负号\n",
    "\n",
    "from matplotlib.font_manager import FontProperties\n",
    "font = FontProperties(fname=r\"../../fonts/msyh.ttf\", size=14)"
   ]
  },
  {
   "cell_type": "code",
   "execution_count": 50,
   "metadata": {},
   "outputs": [
    {
     "data": {
      "text/plain": [
       "treatment\n",
       "auralin   -8.211679\n",
       "novodra    0.457746\n",
       "Name: does_change, dtype: float64"
      ]
     },
     "execution_count": 50,
     "metadata": {},
     "output_type": "execute_result"
    }
   ],
   "source": [
    "treatment_group.mean().does_change"
   ]
  },
  {
   "cell_type": "code",
   "execution_count": 51,
   "metadata": {
    "pycharm": {}
   },
   "outputs": [
    {
     "data": {
      "image/png": "[encoded data removed]",
      "text/plain": [
       "<Figure size 432x288 with 1 Axes>"
      ]
     },
     "metadata": {
      "needs_background": "light"
     },
     "output_type": "display_data"
    }
   ],
   "source": [
    "ax = treatment_group.mean().does_change.plot(kind='bar') #ax是pandas plot的返回实例，它的类是matplotlib的axes对象，里面有很多设置图的方法\n",
    "ax.set_title('实验前/后胰岛素平均计量变化', fontproperties=font)#设置图表的标题，字体为中文字体\n",
    "plt.show()"
   ]
  },
  {
   "cell_type": "code",
   "execution_count": 52,
   "metadata": {
    "pycharm": {}
   },
   "outputs": [
    {
     "data": {
      "image/png": "[encoded data removed]",
      "text/plain": [
       "<Figure size 432x288 with 1 Axes>"
      ]
     },
     "metadata": {
      "needs_background": "light"
     },
     "output_type": "display_data"
    }
   ],
   "source": [
    "ax = treatment_group.mean().hba1c_change.plot(kind='bar') #ax是pandas plot的返回实例，它的类是matplotlib的axes对象，里面有很多设置图的方法\n",
    "ax.set_title('实验前/后hba1c变化量均值', fontproperties=font)#设置图表的标题，字体为中文字体\n",
    "plt.show()"
   ]
  },
  {
   "cell_type": "code",
   "execution_count": 53,
   "metadata": {
    "pycharm": {}
   },
   "outputs": [
    {
     "name": "stdout",
     "output_type": "stream",
     "text": [
      "<class 'pandas.core.frame.DataFrame'>\n",
      "Index: 2 entries, auralin to novodra\n",
      "Data columns (total 7 columns):\n",
      "hba1c_start     2 non-null float64\n",
      "hba1c_end       2 non-null float64\n",
      "hba1c_change    2 non-null float64\n",
      "does_start      2 non-null float64\n",
      "does_end        2 non-null float64\n",
      "does_change     2 non-null float64\n",
      "patient_id      2 non-null float64\n",
      "dtypes: float64(7)\n",
      "memory usage: 208.0+ bytes\n"
     ]
    }
   ],
   "source": [
    "treatment_group.mean().info()"
   ]
  },
  {
   "cell_type": "code",
   "execution_count": 54,
   "metadata": {
    "pycharm": {}
   },
   "outputs": [
    {
     "data": {
      "text/plain": [
       "treatment  adverse_reaction         \n",
       "auralin    hypoglycemia                 9\n",
       "           throat irritation            2\n",
       "           headache                     1\n",
       "           nausea                       1\n",
       "novodra    hypoglycemia                 9\n",
       "           headache                     2\n",
       "           injection site discomfort    2\n",
       "           cough                        1\n",
       "Name: adverse_reaction, dtype: int64"
      ]
     },
     "execution_count": 54,
     "metadata": {},
     "output_type": "execute_result"
    }
   ],
   "source": [
    "after_adverse_reactions = treatment_group['adverse_reaction'].value_counts()\n",
    "after_adverse_reactions"
   ]
  },
  {
   "cell_type": "code",
   "execution_count": 55,
   "metadata": {
    "pycharm": {}
   },
   "outputs": [
    {
     "data": {
      "text/html": [
       "<div>\n",
       "<style scoped>\n",
       "    .dataframe tbody tr th:only-of-type {\n",
       "        vertical-align: middle;\n",
       "    }\n",
       "\n",
       "    .dataframe tbody tr th {\n",
       "        vertical-align: top;\n",
       "    }\n",
       "\n",
       "    .dataframe thead th {\n",
       "        text-align: right;\n",
       "    }\n",
       "</style>\n",
       "<table border=\"1\" class=\"dataframe\">\n",
       "  <thead>\n",
       "    <tr style=\"text-align: right;\">\n",
       "      <th>adverse_reaction</th>\n",
       "      <th>cough</th>\n",
       "      <th>headache</th>\n",
       "      <th>hypoglycemia</th>\n",
       "      <th>injection site discomfort</th>\n",
       "      <th>nausea</th>\n",
       "      <th>throat irritation</th>\n",
       "    </tr>\n",
       "    <tr>\n",
       "      <th>treatment</th>\n",
       "      <th></th>\n",
       "      <th></th>\n",
       "      <th></th>\n",
       "      <th></th>\n",
       "      <th></th>\n",
       "      <th></th>\n",
       "    </tr>\n",
       "  </thead>\n",
       "  <tbody>\n",
       "    <tr>\n",
       "      <th>auralin</th>\n",
       "      <td>NaN</td>\n",
       "      <td>1.0</td>\n",
       "      <td>9.0</td>\n",
       "      <td>NaN</td>\n",
       "      <td>1.0</td>\n",
       "      <td>2.0</td>\n",
       "    </tr>\n",
       "    <tr>\n",
       "      <th>novodra</th>\n",
       "      <td>1.0</td>\n",
       "      <td>2.0</td>\n",
       "      <td>9.0</td>\n",
       "      <td>2.0</td>\n",
       "      <td>NaN</td>\n",
       "      <td>NaN</td>\n",
       "    </tr>\n",
       "  </tbody>\n",
       "</table>\n",
       "</div>"
      ],
      "text/plain": [
       "adverse_reaction  cough  headache  hypoglycemia  injection site discomfort  nausea  throat irritation\n",
       "treatment                                                                                            \n",
       "auralin             NaN       1.0           9.0                        NaN     1.0                2.0\n",
       "novodra             1.0       2.0           9.0                        2.0     NaN                NaN"
      ]
     },
     "execution_count": 55,
     "metadata": {},
     "output_type": "execute_result"
    }
   ],
   "source": [
    "after_adverse_reactions.unstack()"
   ]
  },
  {
   "cell_type": "code",
   "execution_count": 56,
   "metadata": {
    "pycharm": {}
   },
   "outputs": [
    {
     "data": {
      "text/plain": [
       "<matplotlib.axes._subplots.AxesSubplot at 0x7fac1db6d198>"
      ]
     },
     "execution_count": 56,
     "metadata": {},
     "output_type": "execute_result"
    },
    {
     "data": {
      "image/png": "[encoded data removed]",
      "text/plain": [
       "<Figure size 1440x288 with 1 Axes>"
      ]
     },
     "metadata": {
      "needs_background": "light"
     },
     "output_type": "display_data"
    }
   ],
   "source": [
    "after_adverse_reactions.unstack().plot(kind='bar', figsize=(20, 4))"
   ]
  },
  {
   "cell_type": "code",
   "execution_count": 57,
   "metadata": {
    "pycharm": {}
   },
   "outputs": [
    {
     "data": {
      "image/png": "[encoded data removed]",
      "text/plain": [
       "<Figure size 1440x288 with 1 Axes>"
      ]
     },
     "metadata": {
      "needs_background": "light"
     },
     "output_type": "display_data"
    }
   ],
   "source": [
    "ax = after_adverse_reactions.auralin.plot(kind='bar', figsize=(20, 4)) #ax是pandas plot的返回实例，它的类是matplotlib的axes对象，里面有很多设置图的方法\n",
    "ax.set_title('Auralin不良反应', fontproperties=font)#设置图表的标题，字体为中文字体\n",
    "plt.show()"
   ]
  },
  {
   "cell_type": "code",
   "execution_count": 58,
   "metadata": {
    "pycharm": {}
   },
   "outputs": [
    {
     "data": {
      "image/png": "[encoded data removed]",
      "text/plain": [
       "<Figure size 1440x288 with 1 Axes>"
      ]
     },
     "metadata": {
      "needs_background": "light"
     },
     "output_type": "display_data"
    }
   ],
   "source": [
    "ax = after_adverse_reactions.novodra.plot(kind='bar', figsize=(20, 4)) #ax是pandas plot的返回实例，它的类是matplotlib的axes对象，里面有很多设置图的方法\n",
    "ax.set_title('Novodra不良反应', fontproperties=font)#设置图表的标题，字体为中文字体\n",
    "plt.show()"
   ]
  },
  {
   "cell_type": "markdown",
   "metadata": {
    "pycharm": {}
   },
   "source": [
    "对比下面的循环遍历，Groupby能让我们直接免去循环, 而且不需要烦人的筛选, 一行就完美搞定"
   ]
  },
  {
   "cell_type": "code",
   "execution_count": 59,
   "metadata": {
    "pycharm": {},
    "scrolled": true
   },
   "outputs": [
    {
     "data": {
      "image/png": "[encoded data removed]",
      "text/plain": [
       "<Figure size 1728x288 with 2 Axes>"
      ]
     },
     "metadata": {
      "needs_background": "light"
     },
     "output_type": "display_data"
    }
   ],
   "source": [
    "ts = np.sort(treatments_final['treatment'].dropna().unique())\n",
    "fig, axes = plt.subplots(1, len(ts), figsize = (24, 4), sharey=True)\n",
    "for ax, t in zip(axes, ts):\n",
    "    treatments_final[treatments_final['treatment'] == t]['adverse_reaction'].value_counts().sort_index().plot(kind='bar', ax=ax, title=t)\n"
   ]
  },
  {
   "cell_type": "markdown",
   "metadata": {},
   "source": [
    "<h5><a href=\"https://hufe09.github.io/archive/?tag=Data+Wrangling\">Hufe Blog</a><h5>"
   ]
  }
 ],
 "metadata": {
  "hide_input": false,
  "kernelspec": {
   "display_name": "Python 3",
   "language": "python",
   "name": "python3"
  },
  "language_info": {
   "codemirror_mode": {
    "name": "ipython",
    "version": 3
   },
   "file_extension": ".py",
   "mimetype": "text/x-python",
   "name": "python",
   "nbconvert_exporter": "python",
   "pygments_lexer": "ipython3",
   "version": "3.7.3"
  },
  "toc": {
   "base_numbering": 1,
   "nav_menu": {},
   "number_sections": true,
   "sideBar": false,
   "skip_h1_title": false,
   "title_cell": "Table of Contents",
   "title_sidebar": "Contents",
   "toc_cell": false,
   "toc_position": {
    "height": "445px",
    "left": "1067.11px",
    "top": "104px",
    "width": "225.891px"
   },
   "toc_section_display": true,
   "toc_window_display": false
  },
  "varInspector": {
   "cols": {
    "lenName": 16,
    "lenType": 16,
    "lenVar": 40
   },
   "kernels_config": {
    "python": {
     "delete_cmd_postfix": "",
     "delete_cmd_prefix": "del ",
     "library": "var_list.py",
     "varRefreshCmd": "print(var_dic_list())"
    },
    "r": {
     "delete_cmd_postfix": ") ",
     "delete_cmd_prefix": "rm(",
     "library": "var_list.r",
     "varRefreshCmd": "cat(var_dic_list()) "
    }
   },
   "types_to_exclude": [
    "module",
    "function",
    "builtin_function_or_method",
    "instance",
    "_Feature"
   ],
   "window_display": false
  }
 },
 "nbformat": 4,
 "nbformat_minor": 2
}
