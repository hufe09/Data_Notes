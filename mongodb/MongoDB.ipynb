{
 "cells": [
  {
   "cell_type": "markdown",
   "metadata": {
    "colab_type": "text",
    "id": "m411RrZdv3Fa"
   },
   "source": [
    "#  MongoDB"
   ]
  },
  {
   "cell_type": "markdown",
   "metadata": {
    "colab_type": "text",
    "id": "2t1RWT59zTk7"
   },
   "source": [
    "##  Docker 安装 MongoDB\n",
    "\n",
    "## 查询 MongoDB\n",
    "`$ docker search mongo`\n",
    "```\n",
    "NAME                      DESCRIPTION                                     STARS    OFFICIAL    AUTOMATED\n",
    "mongo                     MongoDB document databases provide high avai…   5977     [OK]                \n",
    "mongo-express             Web-based MongoDB admin interface, written w…   469      [OK]                \n",
    "tutum/mongodb             MongoDB Docker image – listens in port 27017…   226                  [OK]\n",
    "...\n",
    "\n",
    "```\n",
    "\n",
    "## pull MongoDB 镜像\n",
    "`$ docker pull mongo`\n",
    "\n",
    "## MongoDB 容器基本创建方法和数据目录挂载\n",
    "```\n",
    "docker run -p 27017:27017 -v <LocalDirectoryPath>:/data/db --name docker_mongodb_migration -d mongo\n",
    "docker run -p 27017:27017 -v /home/mongo/:/data/db --name docker_mongodb -d mongo \n",
    "```\n",
    "  \n",
    "在上面的命令中，几个命令参数的详细解释如下：\n",
    "-p 指定容器的端口映射，mongodb 默认端口为 27017\n",
    "-v 为设置容器的挂载目录，这里是将<LocalDirectoryPath>即本机中的目录挂载到容器中的/data/db中，作为 mongodb 的存储目录\n",
    "--name 为设置该容器的名称\n",
    "-d 设置容器以守护进程方式运行\n",
    "\n",
    "\n",
    "\n",
    "\n",
    "\n",
    "- step1——找到本地镜像的ID：  \n",
    "`$ docker images`\n",
    "\n",
    "```\n",
    "REPOSITORY          TAG                 IMAGE ID            CREATED             SIZE\n",
    "mongo               latest              5976dac61f4f        7 days ago          411MB\n",
    "hello-world         latest              fce289e99eb9        4 months ago        1.84kB\n",
    "```\n",
    "\n",
    "- step2——登陆Hub：  \n",
    " `$ docker login --username=username --password=password --email=email`  \n",
    "    \n",
    "- step3——tag：  \n",
    " `$ docker tag <imageID> <namespace>/<image name>:<version tag eg latest>` \n",
    "\n",
    " `$ sudo docker tag 5976dac61f4f hufe09/mongo:init`\n",
    "\n",
    "- step4——push镜像：`$ docker push <namespace>/<image name>`\n",
    "\n",
    " `$ sudo docker push hufe09/mongo:init`\n",
    "\n",
    "##  进入 mongo 交互模式\n",
    "\n",
    "`$ docker exec -it <CONTAINER NAME> mongo admin`\n",
    "\n",
    "`$ sudo docker exec -it docker_mongodb  mongo admin`\n",
    "\n",
    "```\n",
    "MongoDB shell version v4.0.9\n",
    "connecting to: mongodb://127.0.0.1:27017/admin?gssapiServiceName=mongodb\n",
    "Implicit session: session { \"id\" : UUID(\"dea748d5-91e0-4873-a39c-67add1f76907\") }\n",
    "MongoDB server version: 4.0.9\n",
    "Welcome to the MongoDB shell.\n",
    "For interactive help, type \"help\".\n",
    "For more comprehensive documentation, see\n",
    "        http://docs.mongodb.org/\n",
    "Questions? Try the support group\n",
    "        http://groups.google.com/group/mongodb-user\n",
    "Server has startup warnings:\n",
    "2019-05-23T07:48:56.996+0000 I STORAGE  [initandlisten]\n",
    "2019-05-23T07:48:56.996+0000 I STORAGE  [initandlisten] ** WARNING: Using the XFS filesystem is strongly recommended with the WiredTiger storage engine\n",
    "2019-05-23T07:48:56.996+0000 I STORAGE  [initandlisten] **          See http://dochub.mongodb.org/core/prodnotes-filesystem\n",
    "2019-05-23T07:48:58.424+0000 I CONTROL  [initandlisten]\n",
    "2019-05-23T07:48:58.424+0000 I CONTROL  [initandlisten] ** WARNING: Access control is not enabled for the database.\n",
    "2019-05-23T07:48:58.424+0000 I CONTROL  [initandlisten] **          Read and write access to data and configuration is unrestricted.\n",
    "2019-05-23T07:48:58.424+0000 I CONTROL  [initandlisten]\n",
    "---\n",
    "Enable MongoDB's free cloud-based monitoring service, which will then receive and display\n",
    "metrics about your deployment (disk utilization, CPU, operation statistics, etc).\n",
    "\n",
    "The monitoring data will be available on a MongoDB website with a unique URL accessible to you\n",
    "and anyone you share the URL with. MongoDB may use this information to make product\n",
    "improvements and to suggest MongoDB products and deployment options to you.\n",
    "\n",
    "To enable free monitoring, run the following command: db.enableFreeMonitoring()\n",
    "To permanently disable this reminder, run the following command: db.disableFreeMonitoring()\n",
    "---\n",
    "\n",
    ">\n",
    "\n",
    "```"
   ]
  },
  {
   "cell_type": "markdown",
   "metadata": {
    "colab_type": "text",
    "id": "PbIRh2rrzFVn"
   },
   "source": [
    "## PyMOngo简介\n",
    "![title](https://raw.githubusercontent.com/hufe09/GitNote-Images/master/gitnote/2019/05/23/1558616532411-1558616532957.png)\n",
    "\n",
    "BSON是JSON的二进制编码"
   ]
  },
  {
   "cell_type": "markdown",
   "metadata": {
    "colab_type": "text",
    "id": "vqRnphKK37G6"
   },
   "source": [
    "## 预先了解 MongoDB"
   ]
  },
  {
   "cell_type": "markdown",
   "metadata": {
    "colab_type": "text",
    "id": "d3y9UBmtlNq5"
   },
   "source": [
    "要在本地启动 mongo shell，请在终端中输入以下命令：\n",
    "\n",
    "`$ mongo`\n",
    "\n",
    "\n",
    "`$ use examples`  \n",
    "`switched to db examples`"
   ]
  },
  {
   "cell_type": "markdown",
   "metadata": {},
   "source": [
    "## 安装pymongo模块\n",
    "`$ pip install pymongo`"
   ]
  },
  {
   "cell_type": "code",
   "execution_count": 1,
   "metadata": {
    "colab": {},
    "colab_type": "code",
    "id": "XPJAcaq4Ypra"
   },
   "outputs": [],
   "source": [
    "def get_db(db_name):\n",
    "    # For local use\n",
    "    from pymongo import MongoClient\n",
    "    client = MongoClient('123.207.27.93:27017')\n",
    "    db = client[db_name]\n",
    "    return db"
   ]
  },
  {
   "cell_type": "code",
   "execution_count": 2,
   "metadata": {
    "colab": {
     "base_uri": "https://localhost:8080/",
     "height": 425
    },
    "colab_type": "code",
    "executionInfo": {
     "elapsed": 1392,
     "status": "ok",
     "timestamp": 1558932538667,
     "user": {
      "displayName": "hufe09",
      "photoUrl": "https://lh3.googleusercontent.com/-J4IadHfOH2Y/AAAAAAAAAAI/AAAAAAAAABM/YwXAKNrw7zQ/s64/photo.jpg",
      "userId": "08963637419333172590"
     },
     "user_tz": -480
    },
    "id": "qkdP9tWgvvsz",
    "outputId": "6816ac30-77d1-4bd1-a722-e85c1f629d96"
   },
   "outputs": [],
   "source": [
    "\"\"\"\n",
    "Your task is to sucessfully run the exercise to see how pymongo works\n",
    "and how easy it is to start using it.\n",
    "You don't actually have to change anything in this exercise,\n",
    "but you can change the city name in the add_city function if you like.\n",
    "\n",
    "Your code will be run against a MongoDB instance that we have provided.\n",
    "If you want to run this code on MongoDB outside of our classroom,\n",
    "please see the Instructor comments at the bottom of this page for link.\n",
    "\"\"\"\n",
    "\n",
    "def add_city(db, city_name):\n",
    "    # Changes to this function will be reflected in the output. \n",
    "    # All other functions are for local use only.\n",
    "    # Try changing the name of the city to be inserted\n",
    "    db.cities.insert_one({\"name\" : city_name})\n",
    "def get_city_one(db):\n",
    "    return db.cities.find_one()\n",
    "\n",
    "def get_city(db):\n",
    "    return db.cities.find()\n",
    "\n",
    "\n",
    "if __name__ == \"__main__\":\n",
    "    import pprint\n",
    "    # For local use\n",
    "    db = get_db(\"examples\") # uncomment this line if you want to run this locally\n",
    "    add_city(db, \"NewYork\")"
   ]
  },
  {
   "cell_type": "code",
   "execution_count": 3,
   "metadata": {
    "colab": {
     "base_uri": "https://localhost:8080/",
     "height": 54
    },
    "colab_type": "code",
    "executionInfo": {
     "elapsed": 728,
     "status": "ok",
     "timestamp": 1558932549127,
     "user": {
      "displayName": "hufe09",
      "photoUrl": "https://lh3.googleusercontent.com/-J4IadHfOH2Y/AAAAAAAAAAI/AAAAAAAAABM/YwXAKNrw7zQ/s64/photo.jpg",
      "userId": "08963637419333172590"
     },
     "user_tz": -480
    },
    "id": "fUfIGHTwmc_f",
    "outputId": "ec2d0e55-b0fc-47f1-e658-a8a97b7dbd49"
   },
   "outputs": [
    {
     "data": {
      "text/plain": [
       "{'_id': ObjectId('5d0e5a9edd9c0ec39aed4e80'),\n",
       " 'areaCode': ['916'],\n",
       " 'areaLand': 109271000.0,\n",
       " 'country': 'United States',\n",
       " 'elevation': 13.716,\n",
       " 'foundingDate': datetime.datetime(2000, 7, 1, 0, 0),\n",
       " 'governmentType': ['Council–manager government'],\n",
       " 'homepage': ['http://elkgrovecity.org/'],\n",
       " 'isPartOf': ['California', 'Sacramento County California'],\n",
       " 'lat': 38.4383,\n",
       " 'leaderTitle': 'Chief Of Police',\n",
       " 'lon': -121.382,\n",
       " 'motto': 'Proud Heritage Bright Future',\n",
       " 'name': 'City of Elk Grove',\n",
       " 'population': 155937,\n",
       " 'postalCode': '95624 95757 95758 95759',\n",
       " 'timeZone': ['Pacific Time Zone'],\n",
       " 'utcOffset': ['-7', '-8']}"
      ]
     },
     "execution_count": 3,
     "metadata": {},
     "output_type": "execute_result"
    }
   ],
   "source": [
    "get_city_one(db)"
   ]
  },
  {
   "cell_type": "code",
   "execution_count": 4,
   "metadata": {},
   "outputs": [
    {
     "data": {
      "text/plain": [
       "<pymongo.cursor.Cursor at 0x7f3658a838d0>"
      ]
     },
     "execution_count": 4,
     "metadata": {},
     "output_type": "execute_result"
    }
   ],
   "source": [
    "get_city(db)"
   ]
  },
  {
   "cell_type": "code",
   "execution_count": 5,
   "metadata": {},
   "outputs": [
    {
     "name": "stdout",
     "output_type": "stream",
     "text": [
      "{'_id': ObjectId('5d0e5a9edd9c0ec39aed4e80'),\n",
      " 'areaCode': ['916'],\n",
      " 'areaLand': 109271000.0,\n",
      " 'country': 'United States',\n",
      " 'elevation': 13.716,\n",
      " 'foundingDate': datetime.datetime(2000, 7, 1, 0, 0),\n",
      " 'governmentType': ['Council–manager government'],\n",
      " 'homepage': ['http://elkgrovecity.org/'],\n",
      " 'isPartOf': ['California', 'Sacramento County California'],\n",
      " 'lat': 38.4383,\n",
      " 'leaderTitle': 'Chief Of Police',\n",
      " 'lon': -121.382,\n",
      " 'motto': 'Proud Heritage Bright Future',\n",
      " 'name': 'City of Elk Grove',\n",
      " 'population': 155937,\n",
      " 'postalCode': '95624 95757 95758 95759',\n",
      " 'timeZone': ['Pacific Time Zone'],\n",
      " 'utcOffset': ['-7', '-8']}\n",
      "{'_id': ObjectId('5d0e5b2db617aac6b32d6087'), 'name': 'NewYork'}\n"
     ]
    }
   ],
   "source": [
    "for city in get_city(db):\n",
    "    pprint.pprint(city)"
   ]
  },
  {
   "cell_type": "code",
   "execution_count": 6,
   "metadata": {
    "colab": {
     "base_uri": "https://localhost:8080/",
     "height": 71
    },
    "colab_type": "code",
    "executionInfo": {
     "elapsed": 1096,
     "status": "ok",
     "timestamp": 1558932610485,
     "user": {
      "displayName": "hufe09",
      "photoUrl": "https://lh3.googleusercontent.com/-J4IadHfOH2Y/AAAAAAAAAAI/AAAAAAAAABM/YwXAKNrw7zQ/s64/photo.jpg",
      "userId": "08963637419333172590"
     },
     "user_tz": -480
    },
    "id": "RiiAkSXBzspd",
    "outputId": "949310bd-35aa-4f48-963d-b1d93a403385"
   },
   "outputs": [
    {
     "name": "stdout",
     "output_type": "stream",
     "text": [
      "{'_id': ObjectId('5d0e5a9edd9c0ec39aed4e80'), 'areaCode': ['916'], 'areaLand': 109271000.0, 'country': 'United States', 'elevation': 13.716, 'foundingDate': datetime.datetime(2000, 7, 1, 0, 0), 'governmentType': ['Council–manager government'], 'homepage': ['http://elkgrovecity.org/'], 'isPartOf': ['California', 'Sacramento County California'], 'lat': 38.4383, 'leaderTitle': 'Chief Of Police', 'lon': -121.382, 'motto': 'Proud Heritage Bright Future', 'name': 'City of Elk Grove', 'population': 155937, 'postalCode': '95624 95757 95758 95759', 'timeZone': ['Pacific Time Zone'], 'utcOffset': ['-7', '-8']}\n",
      "{'_id': ObjectId('5d0e5b2db617aac6b32d6087'), 'name': 'NewYork'}\n"
     ]
    }
   ],
   "source": [
    "for i in get_city(db):\n",
    "    print(i)"
   ]
  },
  {
   "cell_type": "markdown",
   "metadata": {
    "colab_type": "text",
    "id": "i4vXgty331Hs"
   },
   "source": [
    "## 查找保时捷"
   ]
  },
  {
   "cell_type": "code",
   "execution_count": 7,
   "metadata": {
    "colab": {
     "base_uri": "https://localhost:8080/",
     "height": 71
    },
    "colab_type": "code",
    "id": "LJkwHRSG2_6U",
    "outputId": "0693dcca-6b05-4eaa-9915-bb1e9da2f04e"
   },
   "outputs": [
    {
     "data": {
      "text/plain": [
       "<pymongo.results.InsertOneResult at 0x7f36592f53c8>"
      ]
     },
     "execution_count": 7,
     "metadata": {},
     "output_type": "execute_result"
    }
   ],
   "source": [
    "example_car = {\n",
    "\t\"layout\" : \"rear mid-engine rear-wheel-drive layout\",\n",
    "\t\"name\" : \"Porsche Boxster\",\n",
    "\t\"productionYears\" : [ ],\n",
    "\t\"modelYears\" : [ ],\n",
    "\t\"bodyStyle\" : \"roadster\",\n",
    "\t\"assembly\" : [\n",
    "\t\t\"Finland\",\n",
    "\t\t\"Germany\",\n",
    "\t\t\"Stuttgart\",\n",
    "\t\t\"Uusikaupunki\"\n",
    "\t],\n",
    "\t\"class\" : \"sports car\",\n",
    "\t\"manufacturer\" : \"Porsche\"\n",
    "}\n",
    "\n",
    "db.autos.insert_one(example_car)"
   ]
  },
  {
   "cell_type": "code",
   "execution_count": 8,
   "metadata": {
    "colab": {
     "base_uri": "https://localhost:8080/",
     "height": 204
    },
    "colab_type": "code",
    "id": "_JehDRh519-G",
    "outputId": "e3b86d7b-fcd4-48d8-985d-acba8de4a4de"
   },
   "outputs": [
    {
     "name": "stdout",
     "output_type": "stream",
     "text": [
      "Printing first 3 results\n",
      "\n",
      "{'_id': ObjectId('5d0e5a9fdd9c0ec39aed4e84'),\n",
      " 'assembly': ['Hiroshima', 'Japan'],\n",
      " 'class': 'roadster',\n",
      " 'layout': 'front-engine rear-wheel-drive layout',\n",
      " 'manufacturer': 'Mazda',\n",
      " 'modelYears': [],\n",
      " 'name': ['Eunos Roadster',\n",
      "          'Mazda MX-5',\n",
      "          'Mazda MX-5 Miata',\n",
      "          'Mazda Miata',\n",
      "          'Mazda Roadster'],\n",
      " 'productionYears': []}\n",
      "{'_id': ObjectId('5d0e5a9fdd9c0ec39aed4e85'),\n",
      " 'assembly': ['Hiratsuka Kanagawa',\n",
      "              'Japan',\n",
      "              'Tochigi Tochigi',\n",
      "              'Yokosuka Kanagawa'],\n",
      " 'class': 'sports car',\n",
      " 'layout': 'front-engine rear-wheel-drive layout',\n",
      " 'manufacturer': 'Nissan Motor Company',\n",
      " 'modelYears': [],\n",
      " 'name': ['Nissan Fairlady Z (Japan)', 'Nissan Fairlady Z (Z-car series)'],\n",
      " 'productionYears': [1969]}\n",
      "{'_id': ObjectId('5d0e5a9fdd9c0ec39aed4e86'),\n",
      " 'assembly': ['Hethel', 'Norfolk', 'United Kingdom'],\n",
      " 'bodyStyle': 'roadster',\n",
      " 'class': 'sports car',\n",
      " 'designer': 'Colin Chapman',\n",
      " 'layout': 'front-engine rear-wheel-drive layout',\n",
      " 'manufacturer': 'Lotus Cars',\n",
      " 'modelYears': [],\n",
      " 'name': ['Lotus 7', 'Lotus Seven'],\n",
      " 'productionYears': [1957,\n",
      "                     1958,\n",
      "                     1959,\n",
      "                     1960,\n",
      "                     1961,\n",
      "                     1962,\n",
      "                     1963,\n",
      "                     1964,\n",
      "                     1965,\n",
      "                     1966,\n",
      "                     1967,\n",
      "                     1968,\n",
      "                     1969,\n",
      "                     1970,\n",
      "                     1971,\n",
      "                     1972],\n",
      " 'transmission': 'manual'}\n"
     ]
    }
   ],
   "source": [
    "#!/usr/bin/env python\n",
    "\"\"\"\n",
    "Your task is to complete the 'porsche_query' function and in particular the query\n",
    "to find all autos where the manufacturer field matches \"Porsche\".\n",
    "Please modify only 'porsche_query' function, as only that will be taken into account.\n",
    "\n",
    "Your code will be run against a MongoDB instance that we have provided.\n",
    "If you want to run this code locally on your machine,\n",
    "you have to install MongoDB and download and insert the dataset.\n",
    "\"\"\"\n",
    "\n",
    "def porsche_query():\n",
    "    # Please fill in the query to find all autos manuafactured by Porsche.\n",
    "    query = {}\n",
    "    return query\n",
    "\n",
    "\n",
    "# Do not edit code below this line in the online code editor.\n",
    "# Code here is for local use on your own computer.\n",
    "def get_db(db_name):\n",
    "    # For local use\n",
    "    from pymongo import MongoClient\n",
    "    client = MongoClient('123.207.27.93:27017')\n",
    "    db = client[db_name]\n",
    "    return db\n",
    "\n",
    "def find_porsche(db, query):\n",
    "    # For local use\n",
    "    return db.autos.find(query)\n",
    "\n",
    "\n",
    "if __name__ == \"__main__\":\n",
    "    # For local use\n",
    "    db = get_db('examples')\n",
    "    query = porsche_query()\n",
    "    results = find_porsche(db, query)\n",
    "\n",
    "    print (\"Printing first 3 results\\n\")\n",
    "    import pprint\n",
    "    for car in results[:3]:\n",
    "        pprint.pprint(car)"
   ]
  },
  {
   "cell_type": "markdown",
   "metadata": {
    "colab_type": "text",
    "id": "RjAToEuA_i9R"
   },
   "source": [
    "## 插入多个文档"
   ]
  },
  {
   "cell_type": "code",
   "execution_count": 9,
   "metadata": {
    "colab": {},
    "colab_type": "code",
    "id": "MgygC1LQ_nt5"
   },
   "outputs": [],
   "source": [
    "# autos.py\n",
    "from pymongo import MongoClient\n",
    "import csv\n",
    "import json\n",
    "import io\n",
    "import re\n",
    "import pprint\n",
    "\n",
    "\n",
    "field_map = {\n",
    "    \"name\" : \"name\",\n",
    "    \"bodyStyle_label\" : \"bodyStyle\",\n",
    "    \"assembly_label\" : \"assembly\",\n",
    "    \"class_label\" : \"class\",\n",
    "    \"designer_label\" : \"designer\",\n",
    "    \"engine_label\" : \"engine\",\n",
    "    \"length\" : \"length\",\n",
    "    \"height\" : \"height\",\n",
    "    \"width\" : \"width\",\n",
    "    \"weight\" : \"weight\",\n",
    "    \"wheelbase\" : \"wheelbase\",\n",
    "    \"layout_label\" : \"layout\",\n",
    "    \"manufacturer_label\" : \"manufacturer\",\n",
    "    \"modelEndYear\" : \"modelEndYear\",\n",
    "    \"modelStartYear\" : \"modelStartYear\",\n",
    "    \"predecessorLabel\" : \"predecessorLabel\",\n",
    "    \"productionStartYear\" : \"productionStartYear\",\n",
    "    \"productionEndYear\" : \"productionEndYear\",\n",
    "    \"transmission\" : \"transmission\"\n",
    "}\n",
    "fields = field_map.keys()\n",
    "\n",
    "\n",
    "def skip_lines(input_file, skip):\n",
    "    for i in range(0, skip):\n",
    "        next(input_file)\n",
    "\n",
    "def is_number(s):\n",
    "    try:\n",
    "        float(s)\n",
    "        return True\n",
    "    except ValueError:\n",
    "        return False\n",
    "\n",
    "def strip_automobile(v):\n",
    "    return re.sub(r\"\\s*\\(automobile\\)\\s*\", \" \", v)\n",
    "\n",
    "def strip_city(v):\n",
    "    return re.sub(r\"\\s*\\(city\\)\\s*\", \" \", v)\n",
    "\n",
    "def parse_array(v):\n",
    "    if (v[0] == \"{\") and (v[-1] == \"}\"):\n",
    "        v = v.lstrip(\"{\")\n",
    "        v = v.rstrip(\"}\")\n",
    "        v_array = v.split(\"|\")\n",
    "        v_array = [i.strip() for i in v_array]\n",
    "        return v_array\n",
    "    return v\n",
    "\n",
    "def mm_to_meters(v):\n",
    "    if v < 0.01:\n",
    "        return v * 1000\n",
    "    return v\n",
    "\n",
    "def clean_dimension(d, field, v):\n",
    "    if is_number(v):\n",
    "        if field == \"weight\":\n",
    "            d[field] = float(v) / 1000.0\n",
    "        else:\n",
    "            d[field] = mm_to_meters(float(v))\n",
    "    \n",
    "def clean_year(d, field, v):\n",
    "    d[field] = v[0:4]\n",
    "\n",
    "def parse_array2(v):\n",
    "    if (v[0] == \"{\") and (v[-1] == \"}\"):\n",
    "        v = v.lstrip(\"{\")\n",
    "        v = v.rstrip(\"}\")\n",
    "        v_array = v.split(\"|\")\n",
    "        v_array = [i.strip() for i in v_array]\n",
    "        return (True, v_array)\n",
    "    return (False, v)\n",
    "\n",
    "def ensure_not_array(v):\n",
    "    (is_array, v) = parse_array(v)\n",
    "    if is_array:\n",
    "        return v[0]\n",
    "    return v\n",
    "\n",
    "def ensure_array(v):\n",
    "    (is_array, v) = parse_array2(v)\n",
    "    if is_array:\n",
    "        return v\n",
    "    return [v]\n",
    "\n",
    "def ensure_float(v):\n",
    "    if is_number(v):\n",
    "        return float(v)\n",
    "\n",
    "def ensure_int(v):\n",
    "    if is_number(v):\n",
    "        return int(v)\n",
    "\n",
    "def ensure_year_array(val):\n",
    "    #print \"val:\", val\n",
    "    vals = ensure_array(val)\n",
    "    year_vals = []\n",
    "    for v in vals:\n",
    "        v = v[0:4]\n",
    "        v = int(v)\n",
    "        if v:\n",
    "            year_vals.append(v)\n",
    "    return year_vals\n",
    "\n",
    "def empty_val(val):\n",
    "    val = val.strip()\n",
    "    return (val == \"NULL\") or (val == \"\")\n",
    "\n",
    "def years(row, start_field, end_field):\n",
    "    start_val = row[start_field]\n",
    "    end_val = row[end_field]\n",
    "\n",
    "    if empty_val(start_val) or empty_val(end_val):\n",
    "        return []\n",
    "\n",
    "    start_years = ensure_year_array(start_val)\n",
    "    if start_years:\n",
    "        start_years = sorted(start_years)\n",
    "    end_years = ensure_year_array(end_val)\n",
    "    if end_years:\n",
    "        end_years = sorted(end_years)\n",
    "    all_years = []\n",
    "    if start_years and end_years:\n",
    "        #print start_years\n",
    "        #print end_years\n",
    "        for i in range(0, min(len(start_years), len(end_years))):\n",
    "            for y in range(start_years[i], end_years[i]+1):\n",
    "                all_years.append(y)\n",
    "    return all_years\n",
    "\n",
    "\n",
    "def process_file(input_file):\n",
    "    input_data = csv.DictReader(open(input_file))\n",
    "    autos = []\n",
    "    skip_lines(input_data, 3)\n",
    "    for row in input_data:\n",
    "        auto = {}\n",
    "        model_years = {}\n",
    "        production_years = {}\n",
    "        dimensions = {}\n",
    "        for field, val in row.items():\n",
    "            if field not in fields or empty_val(val):\n",
    "                continue\n",
    "            if field in [\"bodyStyle_label\", \"class_label\", \"layout_label\"]:\n",
    "                val = val.lower()\n",
    "            val = strip_automobile(val)\n",
    "            val = strip_city(val)\n",
    "            val = val.strip()\n",
    "            val = parse_array(val)\n",
    "            if field in [\"length\", \"width\", \"height\", \"weight\", \"wheelbase\"]:\n",
    "                clean_dimension(dimensions, field_map[field], val)\n",
    "            elif field in [\"modelStartYear\", \"modelEndYear\"]:\n",
    "                clean_year(model_years, field_map[field], val)\n",
    "            elif field in [\"productionStartYear\", \"productionEndYear\"]:\n",
    "                clean_year(production_years, field_map[field], val)\n",
    "            else:\n",
    "                auto[field_map[field]] = val\n",
    "        if dimensions:\n",
    "            auto['dimensions'] = dimensions\n",
    "        auto['modelYears'] = years(row, 'modelStartYear', 'modelEndYear')\n",
    "        auto['productionYears'] = years(row, 'productionStartYear', 'productionEndYear')\n",
    "        autos.append(auto)\n",
    "    return autos"
   ]
  },
  {
   "cell_type": "markdown",
   "metadata": {
    "colab_type": "text",
    "id": "0Gi68YfZK1x2"
   },
   "source": [
    "### bug\n",
    "AttributeError: 'collections.OrderedDict' object has no attribute 'iteritems'  \n",
    "Python 3重命名dict.iteritems -> dict.items"
   ]
  },
  {
   "cell_type": "code",
   "execution_count": 10,
   "metadata": {
    "colab": {
     "base_uri": "https://localhost:8080/",
     "height": 88
    },
    "colab_type": "code",
    "id": "9I3PRdJHBSzi",
    "outputId": "2f97ae3c-d6ad-4380-97e3-3c1b01ff95af"
   },
   "outputs": [
    {
     "name": "stdout",
     "output_type": "stream",
     "text": [
      "{'_id': ObjectId('5d0e5a9fdd9c0ec39aed4e84'), 'assembly': ['Hiroshima', 'Japan'], 'class': 'roadster', 'layout': 'front-engine rear-wheel-drive layout', 'manufacturer': 'Mazda', 'name': ['Eunos Roadster', 'Mazda MX-5', 'Mazda MX-5 Miata', 'Mazda Miata', 'Mazda Roadster'], 'modelYears': [], 'productionYears': []}\n"
     ]
    }
   ],
   "source": [
    "def insert_autos(infile, db):\n",
    "    data = process_file(infile)\n",
    "    # Add your code here. Insert the data in one command.\n",
    "    db.autos.insert_many(data)\n",
    "    \n",
    "  \n",
    "if __name__ == \"__main__\":\n",
    "    # Code here is for local use on your own computer.\n",
    "    from pymongo import MongoClient\n",
    "    db = get_db('examples')\n",
    "\n",
    "    insert_autos('autos_small.csv', db)\n",
    "    print (db.autos.find_one())"
   ]
  },
  {
   "cell_type": "markdown",
   "metadata": {
    "colab_type": "text",
    "id": "HDZaq2ogSuRZ"
   },
   "source": [
    "## 使用 mongoimport\n",
    "mongoimport 文档可以在[这里](http://docs.mongodb.org/manual/reference/program/mongoimport/)找到。\n",
    "\n",
    "本视频中使用的命令：\n",
    "\n",
    "`$ mongoimport -db dbname -c collectionname --file input-file.json`  \n",
    "如果没有提供主机名和用户名密码，`mongoimport` 将尝试连接默认的 l`ocalhost:27017`。 \n",
    "\n",
    "`$ --host <hostname1> <：port>`\n",
    "\n",
    "\n",
    "`$ mongoimport -db examples -c myautos2 --file adc.json`"
   ]
  },
  {
   "cell_type": "markdown",
   "metadata": {
    "colab_type": "text",
    "id": "ANZux0_2Wjxq"
   },
   "source": [
    "## 查询选择器\n",
    "[MongoDB 查询运算符参考](https://docs.mongodb.com/manual/reference/operator/query/)\n",
    "### 比较\n",
    "\n",
    "名称\t描述\n",
    "\n",
    "- `$eq`\t匹配等于指定值的值。\n",
    "\n",
    "- `$gt`\t匹配大于指定值的值。\n",
    "\n",
    "- `$gte`\t匹配大于或等于指定值的值。\n",
    "\n",
    "- `$in`\t匹配数组中指定的任何值。 \n",
    "\n",
    "- `$lt`\t匹配小于指定值的值。  \n",
    "\n",
    "- `$lte`\t匹配小于或等于指定值的值。  \n",
    "\n",
    "- `$ne`\t匹配所有不等于指定值的值。  \n",
    "\n",
    "- ` $nin`\t不匹配数组中指定的任何值。  "
   ]
  },
  {
   "cell_type": "code",
   "execution_count": 11,
   "metadata": {
    "colab": {
     "base_uri": "https://localhost:8080/",
     "height": 71
    },
    "colab_type": "code",
    "id": "YcFkND7cYTF9",
    "outputId": "6a683f85-a73c-40d4-8fe6-122d2deab492"
   },
   "outputs": [
    {
     "data": {
      "text/plain": [
       "<pymongo.results.InsertOneResult at 0x7f36584587c8>"
      ]
     },
     "execution_count": 11,
     "metadata": {},
     "output_type": "execute_result"
    }
   ],
   "source": [
    "import datetime\n",
    "example_city = {\n",
    " 'areaCode': ['916'],\n",
    " 'areaLand': 109271000.0,\n",
    " 'country': 'United States',\n",
    " 'elevation': 13.716,\n",
    " 'foundingDate': datetime.datetime(2000, 7, 1, 0, 0),\n",
    " 'governmentType': ['Council\\u2013manager government'],\n",
    " 'homepage': ['http://elkgrovecity.org/'],\n",
    " 'isPartOf': ['California', u'Sacramento County California'],\n",
    " 'lat': 38.4383,\n",
    " 'leaderTitle': 'Chief Of Police',\n",
    " 'lon': -121.382,\n",
    " 'motto': 'Proud Heritage Bright Future',\n",
    " 'name': 'City of Elk Grove',\n",
    " 'population': 155937,\n",
    " 'postalCode': '95624 95757 95758 95759',\n",
    " 'timeZone': ['Pacific Time Zone'],\n",
    " 'utcOffset': ['-7', '-8']\n",
    "}\n",
    "\n",
    "db = get_db('examples')\n",
    "db.cities.insert_one(example_city)"
   ]
  },
  {
   "cell_type": "code",
   "execution_count": 12,
   "metadata": {
    "colab": {
     "base_uri": "https://localhost:8080/",
     "height": 374
    },
    "colab_type": "code",
    "executionInfo": {
     "elapsed": 3032,
     "status": "ok",
     "timestamp": 1558933392530,
     "user": {
      "displayName": "hufe09",
      "photoUrl": "https://lh3.googleusercontent.com/-J4IadHfOH2Y/AAAAAAAAAAI/AAAAAAAAABM/YwXAKNrw7zQ/s64/photo.jpg",
      "userId": "08963637419333172590"
     },
     "user_tz": -480
    },
    "id": "Ki2IAYQTX1fE",
    "outputId": "e2c9e6e8-c4a9-4cf1-b8aa-2842b27487b0"
   },
   "outputs": [
    {
     "name": "stdout",
     "output_type": "stream",
     "text": [
      "Found cities: 2\n",
      "{'_id': ObjectId('5d0e5a9edd9c0ec39aed4e80'),\n",
      " 'areaCode': ['916'],\n",
      " 'areaLand': 109271000.0,\n",
      " 'country': 'United States',\n",
      " 'elevation': 13.716,\n",
      " 'foundingDate': datetime.datetime(2000, 7, 1, 0, 0),\n",
      " 'governmentType': ['Council–manager government'],\n",
      " 'homepage': ['http://elkgrovecity.org/'],\n",
      " 'isPartOf': ['California', 'Sacramento County California'],\n",
      " 'lat': 38.4383,\n",
      " 'leaderTitle': 'Chief Of Police',\n",
      " 'lon': -121.382,\n",
      " 'motto': 'Proud Heritage Bright Future',\n",
      " 'name': 'City of Elk Grove',\n",
      " 'population': 155937,\n",
      " 'postalCode': '95624 95757 95758 95759',\n",
      " 'timeZone': ['Pacific Time Zone'],\n",
      " 'utcOffset': ['-7', '-8']}\n"
     ]
    },
    {
     "name": "stderr",
     "output_type": "stream",
     "text": [
      "/opt/conda/lib/python3.7/site-packages/ipykernel_launcher.py:31: DeprecationWarning: count is deprecated. Use Collection.count_documents instead.\n"
     ]
    }
   ],
   "source": [
    "# find_cities.py\n",
    "#!/usr/bin/env python\n",
    "\"\"\"\n",
    "Your task is to write a query that will return all cities\n",
    "that are founded in 21st century.\n",
    "Please modify only 'range_query' function, as only that will be taken into account.\n",
    "\n",
    "Your code will be run against a MongoDB instance that we have provided.\n",
    "If you want to run this code locally on your machine,\n",
    "you have to install MongoDB, download and insert the dataset.\n",
    "For instructions related to MongoDB setup and datasets please see Course Materials.\n",
    "\"\"\"\n",
    "\n",
    "from datetime import datetime\n",
    "    \n",
    "def range_query():\n",
    "    # Modify the below line with your query.\n",
    "    # You can use datetime(year, month, day) to specify date in the query\n",
    "    query = {\"foundingDate\":{\"$gt\": datetime(2000, 6,1), \"$lte\" :datetime(2000, 7,31)}}\n",
    "    return query\n",
    "\n",
    "# Do not edit code below this line in the online code editor.\n",
    "# Code here is for local use on your own computer.\n",
    "\n",
    "if __name__ == \"__main__\":\n",
    "    # For local use\n",
    "    db = get_db('examples')\n",
    "    query = range_query()\n",
    "    cities = db.cities.find(query)\n",
    "\n",
    "    print( \"Found cities:\", cities.count())\n",
    "    import pprint\n",
    "    pprint.pprint(cities[0])"
   ]
  },
  {
   "cell_type": "markdown",
   "metadata": {},
   "source": [
    "## 进入 mongo 交互模式\n",
    "\n",
    "`$ docker exec -it <CONTAINER NAME> mongo admin`"
   ]
  },
  {
   "cell_type": "markdown",
   "metadata": {
    "colab_type": "text",
    "id": "pgMxhufz7Du-"
   },
   "source": [
    "## `$exists`"
   ]
  },
  {
   "cell_type": "markdown",
   "metadata": {
    "colab_type": "text",
    "id": "NzmF7OZyDJqw"
   },
   "source": [
    "\n",
    "`$ db.cities.find()`\n",
    "\n",
    "\n",
    "```\n",
    "\n",
    "{ \"_id\" : ObjectId(\"5ce6a452fc2a3f816b2a7815\"), \"name\" : \"Chicago\" }\n",
    "{ \"_id\" : ObjectId(\"5ce6a4aefc2a3f816b2a7817\"), \"name\" : \"NewYork\" }\n",
    "{ \"_id\" : ObjectId(\"5ce6c3eafc2a3f816b2a783e\"), \"areaCode\" : [ \"916\" ], \"areaLand\" : 109271000, \"country\" : \"United States\", \"elevation\" : 13.716, \"foundingDate\" : ISODate(\"2000-07-01T00:00:00Z\"), \"governmentType\" : [ \"Council–manager government\" ], \"homepage\" : [ \"http://elkgrovecity.org/\" ], \"isPartOf\" : [ \"California\", \"Sacramento County California\" ], \"lat\" : 38.4383, \"leaderTitle\" : \"Chief Of Police\", \"lon\" : -121.382, \"motto\" : \"Proud Heritage Bright Future\", \"name\" : \"City of Elk Grove\", \"population\" : 155937, \"postalCode\" : \"95624 95757 95758 95759\", \"timeZone\" : [ \"Pacific Time Zone\" ], \"utcOffset\" : [ \"-7\", \"-8\" ] }\n",
    "\n",
    "\n",
    "```\n",
    "\n",
    "`$ db.cities.find({\"governmentType\":{\"$exists\":1}})`\n",
    "\n",
    "```\n",
    "{ \"_id\" : ObjectId(\"5ce6c3eafc2a3f816b2a783e\"), \"areaCode\" : [ \"916\" ], \"areaLand\" : 109271000, \"country\" : \"United States\", \"elevation\" : 13.716, \"foundingDate\" : ISODate(\"2000-07-01T00:00:00Z\"), \"governmentType\" : [ \"Council–manager government\" ], \"homepage\" : [ \"http://elkgrovecity.org/\" ], \"isPartOf\" : [ \"California\", \"Sacramento County California\" ], \"lat\" : 38.4383, \"leaderTitle\" : \"Chief Of Police\", \"lon\" : -121.382, \"motto\" : \"Proud Heritage Bright Future\", \"name\" : \"City of Elk Grove\", \"population\" : 155937, \"postalCode\" : \"95624 95757 95758 95759\", \"timeZone\" : [ \"Pacific Time Zone\" ], \"utcOffset\" : [ \"-7\", \"-8\" ] }\n",
    "```"
   ]
  },
  {
   "cell_type": "markdown",
   "metadata": {
    "colab_type": "text",
    "id": "n2T9zSXIFetq"
   },
   "source": [
    "### `count()`计数\n",
    "\n",
    "`$ db.cities.find({\"governmentType\":{\"$exists\":1}}).count()`  \n",
    "\n",
    "1  \n",
    "\n",
    "`$ db.cities.find({\"governmentType\":{\"$exists\":0}}).count()`  \n",
    "\n",
    "2\n"
   ]
  },
  {
   "cell_type": "markdown",
   "metadata": {
    "colab_type": "text",
    "id": "guswidzbF3dL"
   },
   "source": [
    "### 使用`pretty()`会更容易查看\n",
    "`$ db.cities.find({\"governmentType\":{\"$exists\":1}}).pretty()`\n",
    "\n",
    "```\n",
    "{\n",
    "        \"_id\" : ObjectId(\"5ce6c3eafc2a3f816b2a783e\"),\n",
    "        \"areaCode\" : [\n",
    "                \"916\"\n",
    "        ],\n",
    "        \"areaLand\" : 109271000,\n",
    "        \"country\" : \"United States\",\n",
    "        \"elevation\" : 13.716,\n",
    "        \"foundingDate\" : ISODate(\"2000-07-01T00:00:00Z\"),\n",
    "        \"governmentType\" : [\n",
    "                \"Council–manager government\"\n",
    "        ],\n",
    "        \"homepage\" : [\n",
    "                \"http://elkgrovecity.org/\"\n",
    "        ],\n",
    "        \"isPartOf\" : [\n",
    "                \"California\",\n",
    "                \"Sacramento County California\"\n",
    "        ],\n",
    "        \"lat\" : 38.4383,\n",
    "        \"leaderTitle\" : \"Chief Of Police\",\n",
    "        \"lon\" : -121.382,\n",
    "        \"motto\" : \"Proud Heritage Bright Future\",\n",
    "        \"name\" : \"City of Elk Grove\",\n",
    "        \"population\" : 155937,\n",
    "        \"postalCode\" : \"95624 95757 95758 95759\",\n",
    "        \"timeZone\" : [\n",
    "                \"Pacific Time Zone\"\n",
    "        ],\n",
    "        \"utcOffset\" : [\n",
    "                \"-7\",\n",
    "                \"-8\"\n",
    "        ]\n",
    "}\n",
    "```\n"
   ]
  },
  {
   "cell_type": "markdown",
   "metadata": {
    "colab_type": "text",
    "id": "XC0lo1LMKfD2"
   },
   "source": [
    "## `$regex`"
   ]
  },
  {
   "cell_type": "markdown",
   "metadata": {
    "colab_type": "text",
    "id": "pYb8ofxoKVv5"
   },
   "source": [
    "\n",
    "`$  db.cities.find({\"motto\":{\"$regex\":\"[Pp]roud\"}}).pretty()`  \n",
    "\n",
    "```\n",
    "{\n",
    "        \"_id\" : ObjectId(\"5ce6c3eafc2a3f816b2a783e\"),\n",
    "        ...\n",
    "        \"motto\" : \"Proud Heritage Bright Future\",\n",
    "        \"name\" : \"City of Elk Grove\",\n",
    "        ...\n",
    "}\n",
    "```\n"
   ]
  },
  {
   "cell_type": "markdown",
   "metadata": {
    "colab_type": "text",
    "id": "EkG3NknoBV8v"
   },
   "source": [
    "## 使用标量查询数组"
   ]
  },
  {
   "cell_type": "markdown",
   "metadata": {
    "colab_type": "text",
    "id": "sW3cI9OvBCPF"
   },
   "source": [
    "\n",
    "\n",
    "`$  db.autos.find({\"productionYears\": 1990}).pretty()`\n",
    "```\n",
    "{\n",
    "        \"_id\" : ObjectId(\"5ce6b33efc2a3f816b2a782d\"),\n",
    "        \"class\" : [\n",
    "                \"sport compact\",\n",
    "                \"sports car\"\n",
    "        ],\n",
    "        \"manufacturer\" : \"Toyota\",\n",
    "        \"name\" : \"Toyota Celica\",\n",
    "        \"modelYears\" : [\n",
    "                1971\n",
    "        ],\n",
    "        \"productionYears\" : [\n",
    "                1970,\n",
    "                ...\n",
    "                1989,\n",
    "                1990,\n",
    "                1991,\n",
    "                1992,\n",
    "                ...\n",
    "                2006\n",
    "        ]\n",
    "}\n",
    "{\n",
    "        \"_id\" : ObjectId(\"5ce6b33efc2a3f816b2a7830\"),\n",
    "        \"engine\" : \"Reliant_Fox__1\",\n",
    "        \"manufacturer\" : \"Reliant\",\n",
    "        \"transmission\" : \"4 speed manual\",\n",
    "        \"name\" : \"Reliant Fox\",\n",
    "        \"dimensions\" : {\n",
    "                \"wheelbase\" : 0.0845\n",
    "        },\n",
    "        \"modelYears\" : [ ],\n",
    "        \"productionYears\" : [\n",
    "                1983,\n",
    "                ...\n",
    "                1990\n",
    "        ]\n",
    "}\n",
    "\n",
    "\n",
    "```\n",
    "虽然产品年份为数组，Mongo DB数组内匹配1990"
   ]
  },
  {
   "cell_type": "markdown",
   "metadata": {
    "colab_type": "text",
    "id": "P78D7aS7DBjF"
   },
   "source": [
    "## in 运算符\n",
    "添加的值越多，查询目标越大，总是取逆运算。"
   ]
  },
  {
   "cell_type": "markdown",
   "metadata": {
    "colab_type": "text",
    "id": "b8ag_01TDNjq"
   },
   "source": [
    "`$ db.autos.find({\"productionYears\":{\"$in\":[1965, 1966, 1967, 1990]}}).count()`  \n",
    "8\n"
   ]
  },
  {
   "cell_type": "markdown",
   "metadata": {
    "colab_type": "text",
    "id": "4Ct4Sj8FGZAl"
   },
   "source": [
    "## all 运算符\n",
    "可以在查询结果中找到所有值。"
   ]
  },
  {
   "cell_type": "markdown",
   "metadata": {
    "colab_type": "text",
    "id": "T8-YpbH4GeF4"
   },
   "source": [
    "`$ db.autos.find({\"productionYears\":{\"$all\":[1936, 1937, 1938, 1939, 1940]}}).count()`  \n",
    "\n",
    "```\n",
    "{\n",
    "        \"_id\" : ObjectId(\"5ce6b33efc2a3f816b2a7827\"),\n",
    "        ...\n",
    "        \"modelYears\" : [ ],\n",
    "        \"productionYears\" : [\n",
    "                1936,\n",
    "                1937,\n",
    "                1938,\n",
    "                1939,\n",
    "                1940\n",
    "        ]\n",
    "}\n",
    "{\n",
    "        \"_id\" : ObjectId(\"5ce6b33efc2a3f816b2a7833\"),\n",
    "       ...\n",
    "        \"modelYears\" : [ ],\n",
    "        \"productionYears\" : [\n",
    "                 ...\n",
    "                1936,\n",
    "                1937,\n",
    "                1938,\n",
    "                1939,\n",
    "                1940,\n",
    "                ...\n",
    "        ]\n",
    "}        \n",
    "\n",
    "```"
   ]
  },
  {
   "cell_type": "markdown",
   "metadata": {
    "colab_type": "text",
    "id": "O8BZjp_AJ6Vc"
   },
   "source": [
    "##  点表示法"
   ]
  },
  {
   "cell_type": "markdown",
   "metadata": {
    "colab_type": "text",
    "id": "pNJCBR0bJ8xP"
   },
   "source": [
    "`$ db.autos.find({\"dimensions.weight\":{\"$gt\":500}}).pretty()`  \n",
    "\n",
    "```\n",
    "{\n",
    "        \"_id\" : ObjectId(\"5ce6b33efc2a3f816b2a7825\"),\n",
    "        ...\n",
    "        \"name\" : \"M13 Chaika\",\n",
    "        \"dimensions\" : {\n",
    "                \"height\" : 1.58,\n",
    "                \"length\" : 5.6,\n",
    "                \"weight\" : 2050,\n",
    "                \"wheelbase\" : 3.25,\n",
    "                \"width\" : 2\n",
    "        },\n",
    "       ...\n",
    "}\n",
    "```\n"
   ]
  },
  {
   "cell_type": "markdown",
   "metadata": {
    "colab_type": "text",
    "id": "I8QNNRYpM42c"
   },
   "source": [
    "## 更新"
   ]
  },
  {
   "cell_type": "markdown",
   "metadata": {
    "colab_type": "text",
    "id": "jzdeU7KgXmIC"
   },
   "source": [
    "```\n",
    "{\n",
    "        \"_id\" : ObjectId(\"5ce6c3eafc2a3f816b2a783e\"),\n",
    "        \"country\" : \"United States\",\n",
    "        \"name\" : \"City of Elk Grove\",\n",
    "        ...\n",
    "        \"isoCountryCode\" : \"DEU\"\n",
    "}\n",
    "\n",
    "\n",
    "```"
   ]
  },
  {
   "cell_type": "code",
   "execution_count": 13,
   "metadata": {
    "colab": {},
    "colab_type": "code",
    "id": "jTS6WpNegb_M"
   },
   "outputs": [],
   "source": [
    "db = get_db('examples')"
   ]
  },
  {
   "cell_type": "markdown",
   "metadata": {
    "colab_type": "text",
    "id": "DOlW3EzGXsDa"
   },
   "source": [
    "### `save()`"
   ]
  },
  {
   "cell_type": "code",
   "execution_count": 14,
   "metadata": {
    "colab": {
     "base_uri": "https://localhost:8080/",
     "height": 105
    },
    "colab_type": "code",
    "executionInfo": {
     "elapsed": 2265,
     "status": "ok",
     "timestamp": 1558938195812,
     "user": {
      "displayName": "hufe09",
      "photoUrl": "https://lh3.googleusercontent.com/-J4IadHfOH2Y/AAAAAAAAAAI/AAAAAAAAABM/YwXAKNrw7zQ/s64/photo.jpg",
      "userId": "08963637419333172590"
     },
     "user_tz": -480
    },
    "id": "yjjkNPmJNL1X",
    "outputId": "3b27bd52-e4bf-4b51-dfac-60454a4d4357"
   },
   "outputs": [
    {
     "name": "stdout",
     "output_type": "stream",
     "text": [
      "{'_id': ObjectId('5d0e5a9edd9c0ec39aed4e80'), 'areaCode': ['916'], 'areaLand': 109271000.0, 'country': 'United States', 'elevation': 13.716, 'foundingDate': datetime.datetime(2000, 7, 1, 0, 0), 'governmentType': ['Council–manager government'], 'homepage': ['http://elkgrovecity.org/'], 'isPartOf': ['California', 'Sacramento County California'], 'lat': 38.4383, 'leaderTitle': 'Chief Of Police', 'lon': -121.382, 'motto': 'Proud Heritage Bright Future', 'name': 'City of Elk Grove', 'population': 155937, 'postalCode': '95624 95757 95758 95759', 'timeZone': ['Pacific Time Zone'], 'utcOffset': ['-7', '-8']}\n"
     ]
    },
    {
     "name": "stderr",
     "output_type": "stream",
     "text": [
      "/opt/conda/lib/python3.7/site-packages/ipykernel_launcher.py:5: DeprecationWarning: save is deprecated. Use insert_one or replace_one instead\n",
      "  \"\"\"\n"
     ]
    },
    {
     "data": {
      "text/plain": [
       "ObjectId('5d0e5a9edd9c0ec39aed4e80')"
      ]
     },
     "execution_count": 14,
     "metadata": {},
     "output_type": "execute_result"
    }
   ],
   "source": [
    "db = get_db('examples')\n",
    "city = db.cities.find_one({\"name\": \"City of Elk Grove\", \"country\": \"United States\"})\n",
    "print(city)\n",
    "city[\"isoCountryCode\"] = \"DEU\"\n",
    "db.cities.save(city)"
   ]
  },
  {
   "cell_type": "markdown",
   "metadata": {
    "colab_type": "text",
    "id": "18lRcFB5XvR2"
   },
   "source": [
    "### `update()`"
   ]
  },
  {
   "cell_type": "markdown",
   "metadata": {
    "colab_type": "text",
    "id": "85k5hYxsX0Q6"
   },
   "source": [
    "#### `$set`"
   ]
  },
  {
   "cell_type": "code",
   "execution_count": 15,
   "metadata": {
    "colab": {
     "base_uri": "https://localhost:8080/",
     "height": 51
    },
    "colab_type": "code",
    "executionInfo": {
     "elapsed": 2021,
     "status": "ok",
     "timestamp": 1558927764044,
     "user": {
      "displayName": "",
      "photoUrl": "",
      "userId": ""
     },
     "user_tz": -480
    },
    "id": "jlmVEfTNQSqc",
    "outputId": "aa899216-b58c-4839-dcb8-9033ae8e100e",
    "scrolled": true
   },
   "outputs": [],
   "source": [
    "city = db.cities.update_one({\"name\": \"City of Elk Grove\", \"country\": \"United States\"}, {\"$set\": {\"isoCountryCode\" : \"DEU\"}})"
   ]
  },
  {
   "cell_type": "markdown",
   "metadata": {},
   "source": [
    "warming：\n",
    "```\n",
    "/opt/conda/lib/python3.7/site-packages/ipykernel_launcher.py:1: DeprecationWarning: update is deprecated. Use replace_one, update_one or update_many instead.\n",
    "  \"\"\"Entry point for launching an IPython kernel.\n",
    "```"
   ]
  },
  {
   "cell_type": "markdown",
   "metadata": {
    "colab_type": "text",
    "id": "ER5AcSOLX5MM"
   },
   "source": [
    "#### `$unset`"
   ]
  },
  {
   "cell_type": "code",
   "execution_count": 16,
   "metadata": {
    "colab": {
     "base_uri": "https://localhost:8080/",
     "height": 51
    },
    "colab_type": "code",
    "executionInfo": {
     "elapsed": 784,
     "status": "ok",
     "timestamp": 1558928083457,
     "user": {
      "displayName": "",
      "photoUrl": "",
      "userId": ""
     },
     "user_tz": -480
    },
    "id": "GezSXZEdQuv2",
    "outputId": "592aadb6-0f0c-4f1a-b9ac-a576107a0fa9"
   },
   "outputs": [],
   "source": [
    "city = db.cities.update_many({\"name\": \"City of Elk Grove\", \"country\": \"United States\"}, {\"$unset\": {\"isoCountryCode\" : \"\"}})"
   ]
  },
  {
   "cell_type": "markdown",
   "metadata": {
    "colab_type": "text",
    "id": "4bdTXS-ZggWh"
   },
   "source": [
    "#### 多项更新"
   ]
  },
  {
   "cell_type": "code",
   "execution_count": 17,
   "metadata": {
    "colab": {
     "base_uri": "https://localhost:8080/",
     "height": 71
    },
    "colab_type": "code",
    "executionInfo": {
     "elapsed": 1143,
     "status": "ok",
     "timestamp": 1558938438814,
     "user": {
      "displayName": "hufe09",
      "photoUrl": "https://lh3.googleusercontent.com/-J4IadHfOH2Y/AAAAAAAAAAI/AAAAAAAAABM/YwXAKNrw7zQ/s64/photo.jpg",
      "userId": "08963637419333172590"
     },
     "user_tz": -480
    },
    "id": "K1x6f9gSfxS3",
    "outputId": "33e08a03-d0fa-4e01-8b64-2cd53998c241",
    "scrolled": true
   },
   "outputs": [
    {
     "name": "stderr",
     "output_type": "stream",
     "text": [
      "/opt/conda/lib/python3.7/site-packages/ipykernel_launcher.py:1: DeprecationWarning: update is deprecated. Use replace_one, update_one or update_many instead.\n",
      "  \"\"\"Entry point for launching an IPython kernel.\n"
     ]
    }
   ],
   "source": [
    "city = db.cities.update({\"name\": \"City of Elk Grove\", \"country\": \"United States\"}, {\"$set\": {\"isoCountryCode\" : \"DEU\"}}, multi = True)"
   ]
  },
  {
   "cell_type": "code",
   "execution_count": 18,
   "metadata": {},
   "outputs": [],
   "source": [
    "city = db.cities.update_many({\"name\": \"City of Elk Grove\", \"country\": \"United States\"}, {\"$set\": {\"isoCountryCode\" : \"DEU\"}})"
   ]
  },
  {
   "cell_type": "markdown",
   "metadata": {
    "colab_type": "text",
    "id": "vFbQy9Cfhfeg"
   },
   "source": [
    "## 删除文档 `remove()`\n"
   ]
  },
  {
   "cell_type": "markdown",
   "metadata": {
    "colab_type": "text",
    "id": "EIUEnc91h26Y"
   },
   "source": [
    "`$ db.cities.remove({\"name\":\"Chicago\"})`  \n",
    "\n",
    "WriteResult({ \"nRemoved\" : 0 })\n",
    "\n",
    "`$ db.cities.remove({\"name\":{\"$exists\": 0})`  \n"
   ]
  },
  {
   "cell_type": "code",
   "execution_count": 19,
   "metadata": {
    "colab": {},
    "colab_type": "code",
    "id": "cquI16vwn0Cv"
   },
   "outputs": [
    {
     "data": {
      "text/plain": [
       "<pymongo.results.DeleteResult at 0x7f36583e2f48>"
      ]
     },
     "execution_count": 19,
     "metadata": {},
     "output_type": "execute_result"
    }
   ],
   "source": [
    "db.cities.delete_many({\"name\": \"NewYork\"})"
   ]
  },
  {
   "cell_type": "code",
   "execution_count": 20,
   "metadata": {},
   "outputs": [
    {
     "data": {
      "text/plain": [
       "<pymongo.results.DeleteResult at 0x7f36583f4588>"
      ]
     },
     "execution_count": 20,
     "metadata": {},
     "output_type": "execute_result"
    }
   ],
   "source": [
    "db.cities.delete_many({\"name\":{\"$exists\": 1}})"
   ]
  },
  {
   "cell_type": "code",
   "execution_count": 21,
   "metadata": {},
   "outputs": [
    {
     "data": {
      "text/plain": [
       "<pymongo.results.InsertOneResult at 0x7f3658447888>"
      ]
     },
     "execution_count": 21,
     "metadata": {},
     "output_type": "execute_result"
    }
   ],
   "source": [
    "db.cities.insert_one(example_city)"
   ]
  },
  {
   "cell_type": "code",
   "execution_count": 22,
   "metadata": {},
   "outputs": [],
   "source": [
    "db.autos.drop()"
   ]
  },
  {
   "cell_type": "code",
   "execution_count": 23,
   "metadata": {},
   "outputs": [],
   "source": [
    "insert_autos('autos_small.csv', db)"
   ]
  }
 ],
 "metadata": {
  "colab": {
   "collapsed_sections": [],
   "name": "MongoDB.ipynb",
   "provenance": [
    {
     "file_id": "https://github.com/hufe09/Data_Analysis/blob/master/MongoDB/MongoDB.ipynb",
     "timestamp": 1558928525877
    }
   ],
   "toc_visible": true,
   "version": "0.3.2"
  },
  "kernelspec": {
   "display_name": "Python 3",
   "language": "python",
   "name": "python3"
  },
  "language_info": {
   "codemirror_mode": {
    "name": "ipython",
    "version": 3
   },
   "file_extension": ".py",
   "mimetype": "text/x-python",
   "name": "python",
   "nbconvert_exporter": "python",
   "pygments_lexer": "ipython3",
   "version": "3.7.3"
  }
 },
 "nbformat": 4,
 "nbformat_minor": 1
}
