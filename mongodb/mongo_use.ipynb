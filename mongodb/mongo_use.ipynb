{
 "cells": [
  {
   "cell_type": "markdown",
   "metadata": {
    "colab_type": "text",
    "id": "6rDa8UzEOUPl"
   },
   "source": [
    "# 使用MongoDB"
   ]
  },
  {
   "cell_type": "markdown",
   "metadata": {
    "colab_type": "text",
    "id": "CtJ-fQe1ODSE"
   },
   "source": [
    "## 数据准备\n",
    "### 问题描述\n",
    "在此习题集中，你将处理另一种类型的 infobox 数据，审核、清理数据，并得出一种数据模型，将数据插入 MongoDB，然后对数据库运行一些查询。数据集中包含关于蛛形纲动物的数据。\n",
    "\n",
    "对于这道练习，你的任务是解析文件，仅处理 FIELDS 字典中作为键的字段，并返回清理后的值字典列表。\n",
    "\n",
    "你应该完成以下几个步骤：\n",
    "\n",
    "- 根据 FIELDS 字典中的映射更改字典的键\n",
    "- 删掉“rdf-schema#label”中的小括号里的多余说明，例如“(spider)”\n",
    "- 如果“name”为“NULL”，或包含非字母数字字符，将其设为和“label”相同的值。\n",
    "- 如果字段的值为“NULL”，将其转换为“None”\n",
    "- 如果“synonym”中存在值，应将其转换为数组（列表），方法是删掉“{}”字符，并根据“|” 拆分字符串。剩下的清理方式将由你自行决定，例如删除前缀“*”等。如果存在单数同义词，值应该依然是列表格式。\n",
    "- 删掉所有字段前后的空格（如果有的话）\n",
    "\n",
    "输出结构应该如下所示：\n",
    "```\n",
    "[ { 'label': 'Argiope',\n",
    "    'uri': 'http://dbpedia.org/resource/Argiope_(spider)',\n",
    "    'description': 'The genus Argiope includes rather large and spectacular spiders that often ...',\n",
    "    'name': 'Argiope',\n",
    "    'synonym': [\"One\", \"Two\"],\n",
    "    'classification': {\n",
    "                      'family': 'Orb-weaver spider',\n",
    "                      'class': 'Arachnid',\n",
    "                      'phylum': 'Arthropod',\n",
    "                      'order': 'Spider',\n",
    "                      'kingdom': 'Animal',\n",
    "                      'genus': None\n",
    "                      }\n",
    "  },\n",
    "  { 'label': ... , }, ...\n",
    "]\n",
    "```"
   ]
  },
  {
   "cell_type": "code",
   "execution_count": 1,
   "metadata": {
    "colab": {
     "base_uri": "https://localhost:8080/",
     "height": 306
    },
    "colab_type": "code",
    "executionInfo": {
     "elapsed": 13003,
     "status": "ok",
     "timestamp": 1558942514081,
     "user": {
      "displayName": "hufe09",
      "photoUrl": "https://lh3.googleusercontent.com/-J4IadHfOH2Y/AAAAAAAAAAI/AAAAAAAAABM/YwXAKNrw7zQ/s64/photo.jpg",
      "userId": "08963637419333172590"
     },
     "user_tz": -480
    },
    "id": "rSqEnYO2KNXM",
    "outputId": "b0057de6-9943-4d1d-d51f-fdb6fef9fad9"
   },
   "outputs": [
    {
     "name": "stdout",
     "output_type": "stream",
     "text": [
      "Your first entry:\n",
      "{'classification': {'class': 'Arachnid',\n",
      "                    'family': 'Orb-weaver spider',\n",
      "                    'genus': None,\n",
      "                    'kingdom': 'Animal',\n",
      "                    'order': 'Spider',\n",
      "                    'phylum': 'Arthropod'},\n",
      " 'description': 'The genus Argiope includes rather large and spectacular '\n",
      "                'spiders that often have a strikingly coloured abdomen. These '\n",
      "                'spiders are distributed throughout the world. Most countries '\n",
      "                'in tropical or temperate climates host one or more species '\n",
      "                'that are similar in appearance. The etymology of the name is '\n",
      "                'from a Greek name meaning silver-faced.',\n",
      " 'label': 'Argiope',\n",
      " 'name': 'Argiope',\n",
      " 'synonym': None,\n",
      " 'uri': 'http://dbpedia.org/resource/Argiope_(spider)'}\n"
     ]
    }
   ],
   "source": [
    "#!/usr/bin/env python\n",
    "# -*- coding: utf-8 -*-\n",
    "\"\"\"\n",
    "In this problem set you work with another type of infobox data, audit it,\n",
    "clean it, come up with a data model, insert it into MongoDB and then run some\n",
    "queries against your database. The set contains data about Arachnid class\n",
    "animals.\n",
    "\n",
    "Your task in this exercise is to parse the file, process only the fields that\n",
    "are listed in the FIELDS dictionary as keys, and return a list of dictionaries\n",
    "of cleaned values. \n",
    "\n",
    "The following things should be done:\n",
    "- keys of the dictionary changed according to the mapping in FIELDS dictionary\n",
    "- trim out redundant description in parenthesis from the 'rdf-schema#label'\n",
    "  field, like \"(spider)\"\n",
    "- if 'name' is \"NULL\" or contains non-alphanumeric characters, set it to the\n",
    "  same value as 'label'.\n",
    "- if a value of a field is \"NULL\", convert it to None\n",
    "- if there is a value in 'synonym', it should be converted to an array (list)\n",
    "  by stripping the \"{}\" characters and splitting the string on \"|\". Rest of the\n",
    "  cleanup is up to you, e.g. removing \"*\" prefixes etc. If there is a singular\n",
    "  synonym, the value should still be formatted in a list.\n",
    "- strip leading and ending whitespace from all fields, if there is any\n",
    "- the output structure should be as follows:\n",
    "\n",
    "[ { 'label': 'Argiope',\n",
    "    'uri': 'http://dbpedia.org/resource/Argiope_(spider)',\n",
    "    'description': 'The genus Argiope includes rather large and spectacular spiders that often ...',\n",
    "    'name': 'Argiope',\n",
    "    'synonym': [\"One\", \"Two\"],\n",
    "    'classification': {\n",
    "                      'family': 'Orb-weaver spider',\n",
    "                      'class': 'Arachnid',\n",
    "                      'phylum': 'Arthropod',\n",
    "                      'order': 'Spider',\n",
    "                      'kingdom': 'Animal',\n",
    "                      'genus': None\n",
    "                      }\n",
    "  },\n",
    "  { 'label': ... , }, ...\n",
    "]\n",
    "\n",
    "  * Note that the value associated with the classification key is a dictionary\n",
    "    with taxonomic labels.\n",
    "\"\"\"\n",
    "import codecs\n",
    "import csv\n",
    "import json\n",
    "import pprint\n",
    "import re\n",
    "\n",
    "DATAFILE = 'arachnid.csv'\n",
    "FIELDS ={'rdf-schema#label': 'label',\n",
    "         'URI': 'uri',\n",
    "         'rdf-schema#comment': 'description',\n",
    "         'synonym': 'synonym',\n",
    "         'name': 'name',\n",
    "         'family_label': 'family',\n",
    "         'class_label': 'class',\n",
    "         'phylum_label': 'phylum',\n",
    "         'order_label': 'order',\n",
    "         'kingdom_label': 'kingdom',\n",
    "         'genus_label': 'genus'}\n",
    "\n",
    "\n",
    "def process_file(filename, fields):\n",
    "\n",
    "    process_fields = fields.keys()\n",
    "    data = []\n",
    "    with open(filename, \"r\") as f:\n",
    "        reader = csv.DictReader(f)\n",
    "        for i in range(3):\n",
    "            l = next(reader)\n",
    "\n",
    "        for line in reader:\n",
    "            # YOUR CODE HERE\n",
    "            line[\"rdf-schema#label\"] = re.sub('\\(.+\\)', '', line['rdf-schema#label']).strip()\n",
    "            if line['rdf-schema#label'] == 'NULL':\n",
    "                line['rdf-schema#label'] = None\n",
    "\n",
    "            if line['name'] == 'NULL' or re.search(r'\\W', line['name']):\n",
    "                line['name'] = line['rdf-schema#label']\n",
    "\n",
    "            if line['synonym'] == 'NULL':\n",
    "                line['synonym'] = None\n",
    "            else:\n",
    "                line['synonym'] = parse_array(line['synonym'])\n",
    "                for syn in line['synonym']:\n",
    "                    syn.replace('*', \"\")\n",
    "\n",
    "            item = {}\n",
    "            item['classification'] = {}\n",
    "\n",
    "            for key in fields:\n",
    "                if line[key] == 'NULL':\n",
    "                    line[key] = None\n",
    "\n",
    "                if re.search(r'_label', key):\n",
    "                    item['classification'][fields[key]] = line[key]\n",
    "                else:\n",
    "                    item[fields[key]] = line[key]\n",
    "\n",
    "            data.append(item)\n",
    "    return data\n",
    "\n",
    "\n",
    "def parse_array(v):\n",
    "    if (v[0] == \"{\") and (v[-1] == \"}\"):\n",
    "        v = v.lstrip(\"{\")\n",
    "        v = v.rstrip(\"}\")\n",
    "        v_array = v.split(\"|\")\n",
    "        v_array = [i.strip() for i in v_array]\n",
    "        return v_array\n",
    "    return [v]\n",
    "\n",
    "\n",
    "def test():\n",
    "    data = process_file(DATAFILE, FIELDS)\n",
    "    print (\"Your first entry:\")\n",
    "    pprint.pprint(data[0])\n",
    "    first_entry = {\n",
    "        \"synonym\": None, \n",
    "        \"name\": \"Argiope\", \n",
    "        \"classification\": {\n",
    "            \"kingdom\": \"Animal\", \n",
    "            \"family\": \"Orb-weaver spider\", \n",
    "            \"order\": \"Spider\", \n",
    "            \"phylum\": \"Arthropod\", \n",
    "            \"genus\": None, \n",
    "            \"class\": \"Arachnid\"\n",
    "        }, \n",
    "        \"uri\": \"http://dbpedia.org/resource/Argiope_(spider)\", \n",
    "        \"label\": \"Argiope\", \n",
    "        \"description\": \"The genus Argiope includes rather large and spectacular spiders that often have a strikingly coloured abdomen. These spiders are distributed throughout the world. Most countries in tropical or temperate climates host one or more species that are similar in appearance. The etymology of the name is from a Greek name meaning silver-faced.\"\n",
    "    }\n",
    "\n",
    "    assert len(data) == 76\n",
    "    assert data[0] == first_entry\n",
    "    assert data[17][\"name\"] == \"Ogdenia\"\n",
    "    assert data[48][\"label\"] == \"Hydrachnidiae\"\n",
    "    assert data[14][\"synonym\"] == [\"Cyrene Peckham & Peckham\"]\n",
    "\n",
    "if __name__ == \"__main__\":\n",
    "    test()"
   ]
  },
  {
   "cell_type": "markdown",
   "metadata": {
    "colab_type": "text",
    "id": "-nvsobACLp2f"
   },
   "source": [
    "### bug\n",
    "AttributeError: 'DictReader' object has no attribute 'next'  \n",
    "`reader.next()`改为`next(reader)"
   ]
  },
  {
   "cell_type": "markdown",
   "metadata": {
    "colab_type": "text",
    "id": "I4SGNvezOnpl"
   },
   "source": [
    "## 向 MongoDB 插入数据\n"
   ]
  },
  {
   "cell_type": "code",
   "execution_count": 2,
   "metadata": {
    "colab": {
     "base_uri": "https://localhost:8080/",
     "height": 88
    },
    "colab_type": "code",
    "executionInfo": {
     "elapsed": 3175,
     "status": "ok",
     "timestamp": 1558941703327,
     "user": {
      "displayName": "hufe09",
      "photoUrl": "https://lh3.googleusercontent.com/-J4IadHfOH2Y/AAAAAAAAAAI/AAAAAAAAABM/YwXAKNrw7zQ/s64/photo.jpg",
      "userId": "08963637419333172590"
     },
     "user_tz": -480
    },
    "id": "K3oHRrtiJ0bO",
    "outputId": "17946cbe-4974-4027-e9b5-15c998e028a0"
   },
   "outputs": [
    {
     "name": "stdout",
     "output_type": "stream",
     "text": [
      "{'_id': ObjectId('5ceb90046c04431d277f4255'), 'synonym': None, 'name': 'Argiope', 'classification': {'kingdom': 'Animal', 'family': 'Orb-weaver spider', 'order': 'Spider', 'phylum': 'Arthropod', 'genus': None, 'class': 'Arachnid'}, 'uri': 'http://dbpedia.org/resource/Argiope_(spider)', 'label': 'Argiope', 'description': 'The genus Argiope includes rather large and spectacular spiders that often have a strikingly coloured abdomen. These spiders are distributed throughout the world. Most countries in tropical or temperate climates host one or more species that are similar in appearance. The etymology of the name is from a Greek name meaning silver-faced.'}\n"
     ]
    }
   ],
   "source": [
    "\"\"\"\n",
    "Complete the insert_data function to insert the data into MongoDB.\n",
    "\"\"\"\n",
    "\n",
    "import json\n",
    "\n",
    "def insert_data(data, db):\n",
    "\n",
    "    # Your code here. Insert the data into a collection 'arachnid'\n",
    "    db.arachnid.insert_many(data)\n",
    "    pass\n",
    "\n",
    "\n",
    "if __name__ == \"__main__\":\n",
    "    \n",
    "    from pymongo import MongoClient\n",
    "    client = MongoClient(\"mongodb://123.207.27.93:27017\")\n",
    "    db = client.examples\n",
    "\n",
    "    with open('arachnid.json') as f:\n",
    "        data = json.loads(f.read())\n",
    "        insert_data(data, db)\n",
    "        print (db.arachnid.find_one())"
   ]
  }
 ],
 "metadata": {
  "colab": {
   "collapsed_sections": [],
   "name": "使用MongoDB.ipynb",
   "provenance": [],
   "version": "0.3.2"
  },
  "kernelspec": {
   "display_name": "Python 3",
   "language": "python",
   "name": "python3"
  },
  "language_info": {
   "codemirror_mode": {
    "name": "ipython",
    "version": 3
   },
   "file_extension": ".py",
   "mimetype": "text/x-python",
   "name": "python",
   "nbconvert_exporter": "python",
   "pygments_lexer": "ipython3",
   "version": "3.7.3"
  }
 },
 "nbformat": 4,
 "nbformat_minor": 1
}
