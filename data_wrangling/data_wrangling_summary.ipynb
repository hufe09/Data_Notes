{
 "cells": [
  {
   "cell_type": "markdown",
   "metadata": {},
   "source": [
    "# Data Wrangling Summary\n",
    "# 数据整理摘要\n",
    "\n",
    "## 收集 Gather\n",
    "- 根据数据来源及其所处的格式，收集数据的步骤会有所不同。\n",
    "- 高级收集过程：获取数据（从Internet下载文件，抓取网页，查询API等）并将该数据导入您的编程环境（例如，Jupyter Notebook）。\n",
    "\n",
    "## 评估 Assess\n",
    "- 评估以下数据：\n",
    "    - 质量（Quality）：内容问题。低质量数据也称为脏数据（dirty data）。\n",
    "    - 整洁度（Tidiness）：结构问题妨碍简单分析。不整洁的数据也称为凌乱的数据。整洁的数据要求：\n",
    "        1. 每个变量形成一列。\n",
    "        2. 每个观察形成一排。\n",
    "        3. 每种类型的观察单位形成一个表格。\n",
    "       \n",
    "- 评估类型：\n",
    "    - 视觉评估：滚动首选软件应用程序中的数据（Google表格，Excel，文本编辑器等）。\n",
    "    - 编程评价：使用代码来查看特定的部分和数据的概要（例如:pandas `head`，`tail` and `info`方法）。\n",
    "    \n",
    "![title](https://raw.githubusercontent.com/hufe09/GitNote-Images/master/gitnote/2019/04/26/1556209407985-1556209407997.png)\n",
    "\n",
    "## 清洗 Clean\n",
    "- 清洗类型：\n",
    "    - 手动（除非问题是单次出现，否则不推荐）\n",
    "    - 编程\n",
    "- 程序化数据清洗流程：\n",
    "    1. 定义：将我们的评估转换为定义的清洁任务。这些定义也可作为指令列表，以便其他人（或将来自己）可以查看您的工作并重现它。\n",
    "    2. 代码：将这些定义转换为代码并运行该代码。\n",
    "    3. 测试：通过视觉或代码测试数据集，以确保您的清洗操作有效。\n",
    "- 在清洗之前，请务必复印原始数据！\n",
    "\n",
    "## 重新评估并重复\n",
    "- 清洗后，如有必要，请务必重新评估并迭代任何数据争用步骤。\n",
    "\n",
    "## 保存（可选）\n",
    "- 例如，如果您将来需要使用数据，请将数据存储在文件或数据库中。"
   ]
  }
 ],
 "metadata": {
  "hide_input": false,
  "kernelspec": {
   "display_name": "Python 3",
   "language": "python",
   "name": "python3"
  },
  "language_info": {
   "codemirror_mode": {
    "name": "ipython",
    "version": 3
   },
   "file_extension": ".py",
   "mimetype": "text/x-python",
   "name": "python",
   "nbconvert_exporter": "python",
   "pygments_lexer": "ipython3",
   "version": "3.7.3"
  },
  "varInspector": {
   "cols": {
    "lenName": 16,
    "lenType": 16,
    "lenVar": 40
   },
   "kernels_config": {
    "python": {
     "delete_cmd_postfix": "",
     "delete_cmd_prefix": "del ",
     "library": "var_list.py",
     "varRefreshCmd": "print(var_dic_list())"
    },
    "r": {
     "delete_cmd_postfix": ") ",
     "delete_cmd_prefix": "rm(",
     "library": "var_list.r",
     "varRefreshCmd": "cat(var_dic_list()) "
    }
   },
   "types_to_exclude": [
    "module",
    "function",
    "builtin_function_or_method",
    "instance",
    "_Feature"
   ],
   "window_display": false
  }
 },
 "nbformat": 4,
 "nbformat_minor": 2
}
