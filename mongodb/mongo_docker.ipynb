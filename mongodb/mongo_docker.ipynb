{
 "cells": [
  {
   "cell_type": "markdown",
   "metadata": {
    "colab_type": "text",
    "id": "m411RrZdv3Fa"
   },
   "source": [
    "#  MongoDB Docker"
   ]
  },
  {
   "cell_type": "markdown",
   "metadata": {
    "colab_type": "text",
    "id": "2t1RWT59zTk7"
   },
   "source": [
    "##  Docker 安装 MongoDB\n",
    "\n",
    "## 查询 MongoDB\n",
    "`$ docker search mongo`\n",
    "```\n",
    "NAME                      DESCRIPTION                                     STARS    OFFICIAL    AUTOMATED\n",
    "mongo                     MongoDB document databases provide high avai…   5977     [OK]                \n",
    "mongo-express             Web-based MongoDB admin interface, written w…   469      [OK]                \n",
    "tutum/mongodb             MongoDB Docker image – listens in port 27017…   226                  [OK]\n",
    "...\n",
    "\n",
    "```\n",
    "\n",
    "## pull MongoDB 镜像\n",
    "`$ docker pull mongo`\n",
    "\n",
    "## MongoDB 容器基本创建方法和数据目录挂载\n",
    "```\n",
    "docker run -p 27017:27017 -v <LocalDirectoryPath>:/data/db --name docker_mongodb_migration -d mongo\n",
    "docker run -p 27017:27017 -v /home/mongo/:/data/db --name docker_mongodb -d mongo \n",
    "```\n",
    "  \n",
    "在上面的命令中，几个命令参数的详细解释如下：\n",
    "-p 指定容器的端口映射，mongodb 默认端口为 27017\n",
    "-v 为设置容器的挂载目录，这里是将<LocalDirectoryPath>即本机中的目录挂载到容器中的/data/db中，作为 mongodb 的存储目录\n",
    "--name 为设置该容器的名称\n",
    "-d 设置容器以守护进程方式运行\n",
    "\n",
    "\n",
    "\n",
    "\n",
    "\n",
    "- step1——找到本地镜像的ID：  \n",
    "`$ docker images`\n",
    "\n",
    "```\n",
    "REPOSITORY          TAG                 IMAGE ID            CREATED             SIZE\n",
    "mongo               latest              5976dac61f4f        7 days ago          411MB\n",
    "hello-world         latest              fce289e99eb9        4 months ago        1.84kB\n",
    "```\n",
    "\n",
    "- step2——登陆Hub：  \n",
    " `$ docker login --username=username --password=password --email=email` \n",
    " \n",
    "    \n",
    "- step3——tag：  \n",
    " `$ docker tag <imageID> <namespace>/<image name>:<version tag eg latest>` \n",
    " \n",
    " `$ sudo docker tag 5976dac61f4f hufe09/mongo:init`\n",
    "\n",
    "- step4——push镜像：  \n",
    "`$ docker push <namespace>/<image name>`\n",
    "\n",
    " `$ sudo docker push hufe09/mongo:init`\n",
    "\n",
    "##  进入 mongo 交互模式\n",
    "\n",
    "`$ docker exec -it <CONTAINER NAME> mongo admin`\n",
    "\n",
    "`$ sudo docker exec -it docker_mongodb  mongo admin`\n",
    "\n",
    "```\n",
    "MongoDB shell version v4.0.9\n",
    "connecting to: mongodb://127.0.0.1:27017/admin?gssapiServiceName=mongodb\n",
    "Implicit session: session { \"id\" : UUID(\"dea748d5-91e0-4873-a39c-67add1f76907\") }\n",
    "MongoDB server version: 4.0.9\n",
    "Welcome to the MongoDB shell.\n",
    "For interactive help, type \"help\".\n",
    "For more comprehensive documentation, see\n",
    "        http://docs.mongodb.org/\n",
    "Questions? Try the support group\n",
    "        http://groups.google.com/group/mongodb-user\n",
    "Server has startup warnings:\n",
    "2019-05-23T07:48:56.996+0000 I STORAGE  [initandlisten]\n",
    "2019-05-23T07:48:56.996+0000 I STORAGE  [initandlisten] ** WARNING: Using the XFS filesystem is strongly recommended with the WiredTiger storage engine\n",
    "2019-05-23T07:48:56.996+0000 I STORAGE  [initandlisten] **          See http://dochub.mongodb.org/core/prodnotes-filesystem\n",
    "2019-05-23T07:48:58.424+0000 I CONTROL  [initandlisten]\n",
    "2019-05-23T07:48:58.424+0000 I CONTROL  [initandlisten] ** WARNING: Access control is not enabled for the database.\n",
    "2019-05-23T07:48:58.424+0000 I CONTROL  [initandlisten] **          Read and write access to data and configuration is unrestricted.\n",
    "2019-05-23T07:48:58.424+0000 I CONTROL  [initandlisten]\n",
    "---\n",
    "Enable MongoDB's free cloud-based monitoring service, which will then receive and display\n",
    "metrics about your deployment (disk utilization, CPU, operation statistics, etc).\n",
    "\n",
    "The monitoring data will be available on a MongoDB website with a unique URL accessible to you\n",
    "and anyone you share the URL with. MongoDB may use this information to make product\n",
    "improvements and to suggest MongoDB products and deployment options to you.\n",
    "\n",
    "To enable free monitoring, run the following command: db.enableFreeMonitoring()\n",
    "To permanently disable this reminder, run the following command: db.disableFreeMonitoring()\n",
    "---\n",
    "\n",
    ">\n",
    "\n",
    "```"
   ]
  }
 ],
 "metadata": {
  "colab": {
   "collapsed_sections": [],
   "name": "MongoDB.ipynb",
   "provenance": [
    {
     "file_id": "https://github.com/hufe09/Data_Analysis/blob/master/MongoDB/MongoDB.ipynb",
     "timestamp": 1558928525877
    }
   ],
   "toc_visible": true,
   "version": "0.3.2"
  },
  "kernelspec": {
   "display_name": "Python 3",
   "language": "python",
   "name": "python3"
  },
  "language_info": {
   "codemirror_mode": {
    "name": "ipython",
    "version": 3
   },
   "file_extension": ".py",
   "mimetype": "text/x-python",
   "name": "python",
   "nbconvert_exporter": "python",
   "pygments_lexer": "ipython3",
   "version": "3.7.3"
  }
 },
 "nbformat": 4,
 "nbformat_minor": 1
}
